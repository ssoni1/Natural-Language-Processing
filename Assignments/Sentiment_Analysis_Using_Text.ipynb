{
  "nbformat": 4,
  "nbformat_minor": 0,
  "metadata": {
    "colab": {
      "provenance": [],
      "collapsed_sections": []
    },
    "kernelspec": {
      "name": "python3",
      "display_name": "Python 3"
    },
    "language_info": {
      "name": "python"
    }
  },
  "cells": [
    {
      "cell_type": "code",
      "execution_count": 2,
      "metadata": {
        "id": "A84XUYi92tnF"
      },
      "outputs": [],
      "source": [
        "import pandas as pd\n",
        "import numpy as np\n",
        "import regex as re"
      ]
    },
    {
      "cell_type": "code",
      "source": [
        "sentence = '''The larger Broncos will be available with 35-inch off-road tires and will be able\n",
        "to drive through water nearly 3 feet, 10 inches deep. It has independent front suspension, unlike its main competitor, the Jeep Wrangler. Independent suspension, used\n",
        "\n",
        "on almost all modern passenger vehicles, generally provides a smoother ride and better on-\n",
        "road handling than a single solid axle. It still has a solid axle in the back though, like most\n",
        "\n",
        "pickup trucks, a design suited to hard use. Like the Wrangler, both the two- and four-door\n",
        "Bronco will have a removable roofs and doors. Buyers will be able to choose either a hard\n",
        "roof that can be removed in sections, a cloth top, or both. Unlike the Wrangler, though, the\n",
        "Bronco's doors will fit inside the vehicle after being removed. The Bronco will be available\n",
        "with a choice of either a 10-speed automatic or seven-speed manual transmission. (The\n",
        "manual transmission will have six gears for ordinary driving, plus a seventh for low speed\n",
        "off-road driving.) It will be powered by either a 270- horsepower 2.3-liter turbocharged 4-\n",
        "cylinder engine or a 310-horsepower 2.7-liter turbocharged V6. While all of the new Bronco\n",
        "SUVs are designed for hard off-road use, the Bronco Sport isn't quite as hard-core in its\n",
        "capabilities. It also has more convenience features than the more truck-like Bronco. While\n",
        "it's based on engineering that's similar to car-like crossover SUVs, Ford says that it's still\n",
        "intended for serious off-road use. Ford engineers boasted of the off-road testing the\n",
        "prototypes have been put through, including driving through deep sand, up steep inclines\n",
        "and crawling across boulder-strewn trails.'''"
      ],
      "metadata": {
        "id": "SEXjeYRL3ZO8"
      },
      "execution_count": 4,
      "outputs": []
    },
    {
      "cell_type": "code",
      "source": [
        "# Replacing special characters with empty string.\n",
        "\n",
        "new_sentence= re.sub('[^a-zA-Z0-9\\n\\.]', ' ', sentence)\n",
        "new_sentence"
      ],
      "metadata": {
        "colab": {
          "base_uri": "https://localhost:8080/",
          "height": 143
        },
        "id": "5Q8s8tX03wP3",
        "outputId": "79b0f93f-e577-4ae2-8e01-857944615523"
      },
      "execution_count": 7,
      "outputs": [
        {
          "output_type": "execute_result",
          "data": {
            "text/plain": [
              "'The larger Broncos will be available with 35 inch off road tires and will be able\\nto drive through water nearly 3 feet  10 inches deep. It has independent front suspension  unlike its main competitor  the Jeep Wrangler. Independent suspension  used\\n\\non almost all modern passenger vehicles  generally provides a smoother ride and better on \\nroad handling than a single solid axle. It still has a solid axle in the back though  like most\\n\\npickup trucks  a design suited to hard use. Like the Wrangler  both the two  and four door\\nBronco will have a removable roofs and doors. Buyers will be able to choose either a hard\\nroof that can be removed in sections  a cloth top  or both. Unlike the Wrangler  though  the\\nBronco s doors will fit inside the vehicle after being removed. The Bronco will be available\\nwith a choice of either a 10 speed automatic or seven speed manual transmission.  The\\nmanual transmission will have six gears for ordinary driving  plus a seventh for low speed\\noff road driving.  It will be powered by either a 270  horsepower 2.3 liter turbocharged 4 \\ncylinder engine or a 310 horsepower 2.7 liter turbocharged V6. While all of the new Bronco\\nSUVs are designed for hard off road use  the Bronco Sport isn t quite as hard core in its\\ncapabilities. It also has more convenience features than the more truck like Bronco. While\\nit s based on engineering that s similar to car like crossover SUVs  Ford says that it s still\\nintended for serious off road use. Ford engineers boasted of the off road testing the\\nprototypes have been put through  including driving through deep sand  up steep inclines\\nand crawling across boulder strewn trails.'"
            ],
            "application/vnd.google.colaboratory.intrinsic+json": {
              "type": "string"
            }
          },
          "metadata": {},
          "execution_count": 7
        }
      ]
    },
    {
      "cell_type": "code",
      "source": [
        "# Removing multiple empty spaces and replace them by a single space \n",
        "single_space=re.sub('\\s+',' ',new_sentence)\n",
        "single_space"
      ],
      "metadata": {
        "colab": {
          "base_uri": "https://localhost:8080/",
          "height": 143
        },
        "id": "41l_dD0s376W",
        "outputId": "9bce441c-fdcc-4986-ac85-3adc11250090"
      },
      "execution_count": 9,
      "outputs": [
        {
          "output_type": "execute_result",
          "data": {
            "text/plain": [
              "'The larger Broncos will be available with 35 inch off road tires and will be able to drive through water nearly 3 feet 10 inches deep. It has independent front suspension unlike its main competitor the Jeep Wrangler. Independent suspension used on almost all modern passenger vehicles generally provides a smoother ride and better on road handling than a single solid axle. It still has a solid axle in the back though like most pickup trucks a design suited to hard use. Like the Wrangler both the two and four door Bronco will have a removable roofs and doors. Buyers will be able to choose either a hard roof that can be removed in sections a cloth top or both. Unlike the Wrangler though the Bronco s doors will fit inside the vehicle after being removed. The Bronco will be available with a choice of either a 10 speed automatic or seven speed manual transmission. The manual transmission will have six gears for ordinary driving plus a seventh for low speed off road driving. It will be powered by either a 270 horsepower 2.3 liter turbocharged 4 cylinder engine or a 310 horsepower 2.7 liter turbocharged V6. While all of the new Bronco SUVs are designed for hard off road use the Bronco Sport isn t quite as hard core in its capabilities. It also has more convenience features than the more truck like Bronco. While it s based on engineering that s similar to car like crossover SUVs Ford says that it s still intended for serious off road use. Ford engineers boasted of the off road testing the prototypes have been put through including driving through deep sand up steep inclines and crawling across boulder strewn trails.'"
            ],
            "application/vnd.google.colaboratory.intrinsic+json": {
              "type": "string"
            }
          },
          "metadata": {},
          "execution_count": 9
        }
      ]
    },
    {
      "cell_type": "code",
      "source": [
        "# Removing any single character\n",
        "regex_single_char = r\"((?<=^)|(?<= )).((?=$)|(?= ))\"\n",
        "single_char_removal = re.sub(\"\\s+\", \" \", re.sub(regex_single_char, '', single_space).strip())\n",
        "single_char_removal"
      ],
      "metadata": {
        "colab": {
          "base_uri": "https://localhost:8080/",
          "height": 143
        },
        "id": "mvrCifO54fb4",
        "outputId": "61f1f54d-97b9-4e75-f32a-38767ad6ff3e"
      },
      "execution_count": 11,
      "outputs": [
        {
          "output_type": "execute_result",
          "data": {
            "text/plain": [
              "'The larger Broncos will be available with 35 inch off road tires and will be able to drive through water nearly feet 10 inches deep. It has independent front suspension unlike its main competitor the Jeep Wrangler. Independent suspension used on almost all modern passenger vehicles generally provides smoother ride and better on road handling than single solid axle. It still has solid axle in the back though like most pickup trucks design suited to hard use. Like the Wrangler both the two and four door Bronco will have removable roofs and doors. Buyers will be able to choose either hard roof that can be removed in sections cloth top or both. Unlike the Wrangler though the Bronco doors will fit inside the vehicle after being removed. The Bronco will be available with choice of either 10 speed automatic or seven speed manual transmission. The manual transmission will have six gears for ordinary driving plus seventh for low speed off road driving. It will be powered by either 270 horsepower 2.3 liter turbocharged cylinder engine or 310 horsepower 2.7 liter turbocharged V6. While all of the new Bronco SUVs are designed for hard off road use the Bronco Sport isn quite as hard core in its capabilities. It also has more convenience features than the more truck like Bronco. While it based on engineering that similar to car like crossover SUVs Ford says that it still intended for serious off road use. Ford engineers boasted of the off road testing the prototypes have been put through including driving through deep sand up steep inclines and crawling across boulder strewn trails.'"
            ],
            "application/vnd.google.colaboratory.intrinsic+json": {
              "type": "string"
            }
          },
          "metadata": {},
          "execution_count": 11
        }
      ]
    },
    {
      "cell_type": "code",
      "source": [
        "# Convert the text to all lower case \n",
        "text_lower=single_char_removal.lower()\n",
        "text_lower"
      ],
      "metadata": {
        "colab": {
          "base_uri": "https://localhost:8080/",
          "height": 143
        },
        "id": "g-QovXSv5D-7",
        "outputId": "067a629d-1472-4e73-b1b2-b556fcc144cc"
      },
      "execution_count": 12,
      "outputs": [
        {
          "output_type": "execute_result",
          "data": {
            "text/plain": [
              "'the larger broncos will be available with 35 inch off road tires and will be able to drive through water nearly feet 10 inches deep. it has independent front suspension unlike its main competitor the jeep wrangler. independent suspension used on almost all modern passenger vehicles generally provides smoother ride and better on road handling than single solid axle. it still has solid axle in the back though like most pickup trucks design suited to hard use. like the wrangler both the two and four door bronco will have removable roofs and doors. buyers will be able to choose either hard roof that can be removed in sections cloth top or both. unlike the wrangler though the bronco doors will fit inside the vehicle after being removed. the bronco will be available with choice of either 10 speed automatic or seven speed manual transmission. the manual transmission will have six gears for ordinary driving plus seventh for low speed off road driving. it will be powered by either 270 horsepower 2.3 liter turbocharged cylinder engine or 310 horsepower 2.7 liter turbocharged v6. while all of the new bronco suvs are designed for hard off road use the bronco sport isn quite as hard core in its capabilities. it also has more convenience features than the more truck like bronco. while it based on engineering that similar to car like crossover suvs ford says that it still intended for serious off road use. ford engineers boasted of the off road testing the prototypes have been put through including driving through deep sand up steep inclines and crawling across boulder strewn trails.'"
            ],
            "application/vnd.google.colaboratory.intrinsic+json": {
              "type": "string"
            }
          },
          "metadata": {},
          "execution_count": 12
        }
      ]
    },
    {
      "cell_type": "code",
      "source": [
        "# Spliting the text to individual words \n",
        "text_split=text_lower.split(\" \")\n",
        "text_split"
      ],
      "metadata": {
        "colab": {
          "base_uri": "https://localhost:8080/"
        },
        "id": "eA_3xHoi5VWX",
        "outputId": "25bfe20c-0d48-4772-ad67-cc1aee5f2638"
      },
      "execution_count": 14,
      "outputs": [
        {
          "output_type": "execute_result",
          "data": {
            "text/plain": [
              "['the',\n",
              " 'larger',\n",
              " 'broncos',\n",
              " 'will',\n",
              " 'be',\n",
              " 'available',\n",
              " 'with',\n",
              " '35',\n",
              " 'inch',\n",
              " 'off',\n",
              " 'road',\n",
              " 'tires',\n",
              " 'and',\n",
              " 'will',\n",
              " 'be',\n",
              " 'able',\n",
              " 'to',\n",
              " 'drive',\n",
              " 'through',\n",
              " 'water',\n",
              " 'nearly',\n",
              " 'feet',\n",
              " '10',\n",
              " 'inches',\n",
              " 'deep.',\n",
              " 'it',\n",
              " 'has',\n",
              " 'independent',\n",
              " 'front',\n",
              " 'suspension',\n",
              " 'unlike',\n",
              " 'its',\n",
              " 'main',\n",
              " 'competitor',\n",
              " 'the',\n",
              " 'jeep',\n",
              " 'wrangler.',\n",
              " 'independent',\n",
              " 'suspension',\n",
              " 'used',\n",
              " 'on',\n",
              " 'almost',\n",
              " 'all',\n",
              " 'modern',\n",
              " 'passenger',\n",
              " 'vehicles',\n",
              " 'generally',\n",
              " 'provides',\n",
              " 'smoother',\n",
              " 'ride',\n",
              " 'and',\n",
              " 'better',\n",
              " 'on',\n",
              " 'road',\n",
              " 'handling',\n",
              " 'than',\n",
              " 'single',\n",
              " 'solid',\n",
              " 'axle.',\n",
              " 'it',\n",
              " 'still',\n",
              " 'has',\n",
              " 'solid',\n",
              " 'axle',\n",
              " 'in',\n",
              " 'the',\n",
              " 'back',\n",
              " 'though',\n",
              " 'like',\n",
              " 'most',\n",
              " 'pickup',\n",
              " 'trucks',\n",
              " 'design',\n",
              " 'suited',\n",
              " 'to',\n",
              " 'hard',\n",
              " 'use.',\n",
              " 'like',\n",
              " 'the',\n",
              " 'wrangler',\n",
              " 'both',\n",
              " 'the',\n",
              " 'two',\n",
              " 'and',\n",
              " 'four',\n",
              " 'door',\n",
              " 'bronco',\n",
              " 'will',\n",
              " 'have',\n",
              " 'removable',\n",
              " 'roofs',\n",
              " 'and',\n",
              " 'doors.',\n",
              " 'buyers',\n",
              " 'will',\n",
              " 'be',\n",
              " 'able',\n",
              " 'to',\n",
              " 'choose',\n",
              " 'either',\n",
              " 'hard',\n",
              " 'roof',\n",
              " 'that',\n",
              " 'can',\n",
              " 'be',\n",
              " 'removed',\n",
              " 'in',\n",
              " 'sections',\n",
              " 'cloth',\n",
              " 'top',\n",
              " 'or',\n",
              " 'both.',\n",
              " 'unlike',\n",
              " 'the',\n",
              " 'wrangler',\n",
              " 'though',\n",
              " 'the',\n",
              " 'bronco',\n",
              " 'doors',\n",
              " 'will',\n",
              " 'fit',\n",
              " 'inside',\n",
              " 'the',\n",
              " 'vehicle',\n",
              " 'after',\n",
              " 'being',\n",
              " 'removed.',\n",
              " 'the',\n",
              " 'bronco',\n",
              " 'will',\n",
              " 'be',\n",
              " 'available',\n",
              " 'with',\n",
              " 'choice',\n",
              " 'of',\n",
              " 'either',\n",
              " '10',\n",
              " 'speed',\n",
              " 'automatic',\n",
              " 'or',\n",
              " 'seven',\n",
              " 'speed',\n",
              " 'manual',\n",
              " 'transmission.',\n",
              " 'the',\n",
              " 'manual',\n",
              " 'transmission',\n",
              " 'will',\n",
              " 'have',\n",
              " 'six',\n",
              " 'gears',\n",
              " 'for',\n",
              " 'ordinary',\n",
              " 'driving',\n",
              " 'plus',\n",
              " 'seventh',\n",
              " 'for',\n",
              " 'low',\n",
              " 'speed',\n",
              " 'off',\n",
              " 'road',\n",
              " 'driving.',\n",
              " 'it',\n",
              " 'will',\n",
              " 'be',\n",
              " 'powered',\n",
              " 'by',\n",
              " 'either',\n",
              " '270',\n",
              " 'horsepower',\n",
              " '2.3',\n",
              " 'liter',\n",
              " 'turbocharged',\n",
              " 'cylinder',\n",
              " 'engine',\n",
              " 'or',\n",
              " '310',\n",
              " 'horsepower',\n",
              " '2.7',\n",
              " 'liter',\n",
              " 'turbocharged',\n",
              " 'v6.',\n",
              " 'while',\n",
              " 'all',\n",
              " 'of',\n",
              " 'the',\n",
              " 'new',\n",
              " 'bronco',\n",
              " 'suvs',\n",
              " 'are',\n",
              " 'designed',\n",
              " 'for',\n",
              " 'hard',\n",
              " 'off',\n",
              " 'road',\n",
              " 'use',\n",
              " 'the',\n",
              " 'bronco',\n",
              " 'sport',\n",
              " 'isn',\n",
              " 'quite',\n",
              " 'as',\n",
              " 'hard',\n",
              " 'core',\n",
              " 'in',\n",
              " 'its',\n",
              " 'capabilities.',\n",
              " 'it',\n",
              " 'also',\n",
              " 'has',\n",
              " 'more',\n",
              " 'convenience',\n",
              " 'features',\n",
              " 'than',\n",
              " 'the',\n",
              " 'more',\n",
              " 'truck',\n",
              " 'like',\n",
              " 'bronco.',\n",
              " 'while',\n",
              " 'it',\n",
              " 'based',\n",
              " 'on',\n",
              " 'engineering',\n",
              " 'that',\n",
              " 'similar',\n",
              " 'to',\n",
              " 'car',\n",
              " 'like',\n",
              " 'crossover',\n",
              " 'suvs',\n",
              " 'ford',\n",
              " 'says',\n",
              " 'that',\n",
              " 'it',\n",
              " 'still',\n",
              " 'intended',\n",
              " 'for',\n",
              " 'serious',\n",
              " 'off',\n",
              " 'road',\n",
              " 'use.',\n",
              " 'ford',\n",
              " 'engineers',\n",
              " 'boasted',\n",
              " 'of',\n",
              " 'the',\n",
              " 'off',\n",
              " 'road',\n",
              " 'testing',\n",
              " 'the',\n",
              " 'prototypes',\n",
              " 'have',\n",
              " 'been',\n",
              " 'put',\n",
              " 'through',\n",
              " 'including',\n",
              " 'driving',\n",
              " 'through',\n",
              " 'deep',\n",
              " 'sand',\n",
              " 'up',\n",
              " 'steep',\n",
              " 'inclines',\n",
              " 'and',\n",
              " 'crawling',\n",
              " 'across',\n",
              " 'boulder',\n",
              " 'strewn',\n",
              " 'trails.']"
            ]
          },
          "metadata": {},
          "execution_count": 14
        }
      ]
    },
    {
      "cell_type": "code",
      "source": [
        "# Removing stopwords \n",
        "from nltk.corpus import stopwords  \n",
        "from nltk.tokenize import word_tokenize \n",
        "import nltk\n",
        "nltk.download('stopwords') \n",
        "  \n",
        "remove_stopwords = [word for word in text_split if not word in stopwords.words()]\n",
        "\n",
        "print(remove_stopwords)"
      ],
      "metadata": {
        "colab": {
          "base_uri": "https://localhost:8080/"
        },
        "id": "tvPXRTG65lQ5",
        "outputId": "800aaf8a-3694-48fe-ee80-09e64a09950b"
      },
      "execution_count": 17,
      "outputs": [
        {
          "output_type": "stream",
          "name": "stderr",
          "text": [
            "[nltk_data] Downloading package stopwords to /root/nltk_data...\n",
            "[nltk_data]   Unzipping corpora/stopwords.zip.\n"
          ]
        },
        {
          "output_type": "stream",
          "name": "stdout",
          "text": [
            "['larger', 'broncos', 'available', '35', 'inch', 'road', 'tires', 'drive', 'water', 'feet', '10', 'inches', 'deep.', 'independent', 'front', 'suspension', 'unlike', 'competitor', 'jeep', 'wrangler.', 'independent', 'suspension', 'modern', 'passenger', 'vehicles', 'generally', 'smoother', 'ride', 'road', 'handling', 'single', 'solid', 'axle.', 'solid', 'axle', 'back', 'pickup', 'trucks', 'design', 'suited', 'hard', 'use.', 'wrangler', 'bronco', 'removable', 'roofs', 'doors.', 'buyers', 'choose', 'hard', 'roof', 'removed', 'sections', 'cloth', 'top', 'both.', 'unlike', 'wrangler', 'bronco', 'doors', 'fit', 'inside', 'vehicle', 'removed.', 'bronco', 'available', 'choice', '10', 'speed', 'automatic', 'speed', 'manual', 'transmission.', 'manual', 'transmission', 'gears', 'ordinary', 'driving', 'seventh', 'low', 'speed', 'road', 'driving.', 'powered', '270', 'horsepower', '2.3', 'liter', 'turbocharged', 'cylinder', 'engine', '310', 'horsepower', '2.7', 'liter', 'turbocharged', 'v6.', 'bronco', 'suvs', 'designed', 'hard', 'road', 'bronco', 'sport', 'hard', 'core', 'capabilities.', 'convenience', 'features', 'truck', 'bronco.', 'based', 'engineering', 'similar', 'car', 'crossover', 'suvs', 'ford', 'intended', 'road', 'use.', 'ford', 'engineers', 'boasted', 'road', 'testing', 'prototypes', 'put', 'including', 'driving', 'deep', 'sand', 'steep', 'inclines', 'crawling', 'boulder', 'strewn', 'trails.']\n"
          ]
        }
      ]
    },
    {
      "cell_type": "code",
      "source": [
        "# Tokenize, stem, and lemmatize the text \n",
        "import nltk\n",
        "nltk.download('punkt')\n",
        "words = nltk.word_tokenize(text_lower)\n",
        "stop_words = set(stopwords.words('english'))\n",
        "tokens = []\n",
        "for each in words:\n",
        " if each not in stop_words:\n",
        "    tokens.append(each)\n",
        "print(tokens)"
      ],
      "metadata": {
        "colab": {
          "base_uri": "https://localhost:8080/"
        },
        "id": "hBj2Jkxw59oQ",
        "outputId": "cccdccb3-0dd8-4b32-f53e-cad624f84aad"
      },
      "execution_count": 19,
      "outputs": [
        {
          "output_type": "stream",
          "name": "stderr",
          "text": [
            "[nltk_data] Downloading package punkt to /root/nltk_data...\n",
            "[nltk_data]   Unzipping tokenizers/punkt.zip.\n"
          ]
        },
        {
          "output_type": "stream",
          "name": "stdout",
          "text": [
            "['larger', 'broncos', 'available', '35', 'inch', 'road', 'tires', 'able', 'drive', 'water', 'nearly', 'feet', '10', 'inches', 'deep', '.', 'independent', 'front', 'suspension', 'unlike', 'main', 'competitor', 'jeep', 'wrangler', '.', 'independent', 'suspension', 'used', 'almost', 'modern', 'passenger', 'vehicles', 'generally', 'provides', 'smoother', 'ride', 'better', 'road', 'handling', 'single', 'solid', 'axle', '.', 'still', 'solid', 'axle', 'back', 'though', 'like', 'pickup', 'trucks', 'design', 'suited', 'hard', 'use', '.', 'like', 'wrangler', 'two', 'four', 'door', 'bronco', 'removable', 'roofs', 'doors', '.', 'buyers', 'able', 'choose', 'either', 'hard', 'roof', 'removed', 'sections', 'cloth', 'top', '.', 'unlike', 'wrangler', 'though', 'bronco', 'doors', 'fit', 'inside', 'vehicle', 'removed', '.', 'bronco', 'available', 'choice', 'either', '10', 'speed', 'automatic', 'seven', 'speed', 'manual', 'transmission', '.', 'manual', 'transmission', 'six', 'gears', 'ordinary', 'driving', 'plus', 'seventh', 'low', 'speed', 'road', 'driving', '.', 'powered', 'either', '270', 'horsepower', '2.3', 'liter', 'turbocharged', 'cylinder', 'engine', '310', 'horsepower', '2.7', 'liter', 'turbocharged', 'v6', '.', 'new', 'bronco', 'suvs', 'designed', 'hard', 'road', 'use', 'bronco', 'sport', 'quite', 'hard', 'core', 'capabilities', '.', 'also', 'convenience', 'features', 'truck', 'like', 'bronco', '.', 'based', 'engineering', 'similar', 'car', 'like', 'crossover', 'suvs', 'ford', 'says', 'still', 'intended', 'serious', 'road', 'use', '.', 'ford', 'engineers', 'boasted', 'road', 'testing', 'prototypes', 'put', 'including', 'driving', 'deep', 'sand', 'steep', 'inclines', 'crawling', 'across', 'boulder', 'strewn', 'trails', '.']\n"
          ]
        }
      ]
    },
    {
      "cell_type": "code",
      "source": [
        "# stemming\n",
        "from nltk.stem import PorterStemmer\n",
        "port_stemmer = PorterStemmer()  \n",
        "stemmed_words = [port_stemmer.stem(word) for word in remove_stopwords]\n",
        "print(stemmed_words)"
      ],
      "metadata": {
        "colab": {
          "base_uri": "https://localhost:8080/"
        },
        "id": "PbFjBENq6uKs",
        "outputId": "654ba1f9-e047-4d3c-a8fd-7d3941946ca4"
      },
      "execution_count": 20,
      "outputs": [
        {
          "output_type": "stream",
          "name": "stdout",
          "text": [
            "['larger', 'bronco', 'avail', '35', 'inch', 'road', 'tire', 'drive', 'water', 'feet', '10', 'inch', 'deep.', 'independ', 'front', 'suspens', 'unlik', 'competitor', 'jeep', 'wrangler.', 'independ', 'suspens', 'modern', 'passeng', 'vehicl', 'gener', 'smoother', 'ride', 'road', 'handl', 'singl', 'solid', 'axle.', 'solid', 'axl', 'back', 'pickup', 'truck', 'design', 'suit', 'hard', 'use.', 'wrangler', 'bronco', 'remov', 'roof', 'doors.', 'buyer', 'choos', 'hard', 'roof', 'remov', 'section', 'cloth', 'top', 'both.', 'unlik', 'wrangler', 'bronco', 'door', 'fit', 'insid', 'vehicl', 'removed.', 'bronco', 'avail', 'choic', '10', 'speed', 'automat', 'speed', 'manual', 'transmission.', 'manual', 'transmiss', 'gear', 'ordinari', 'drive', 'seventh', 'low', 'speed', 'road', 'driving.', 'power', '270', 'horsepow', '2.3', 'liter', 'turbocharg', 'cylind', 'engin', '310', 'horsepow', '2.7', 'liter', 'turbocharg', 'v6.', 'bronco', 'suv', 'design', 'hard', 'road', 'bronco', 'sport', 'hard', 'core', 'capabilities.', 'conveni', 'featur', 'truck', 'bronco.', 'base', 'engin', 'similar', 'car', 'crossov', 'suv', 'ford', 'intend', 'road', 'use.', 'ford', 'engin', 'boast', 'road', 'test', 'prototyp', 'put', 'includ', 'drive', 'deep', 'sand', 'steep', 'inclin', 'crawl', 'boulder', 'strewn', 'trails.']\n"
          ]
        }
      ]
    },
    {
      "cell_type": "code",
      "source": [
        "# Lemmetization\n",
        "from nltk.stem import WordNetLemmatizer\n",
        "nltk.download('wordnet')\n",
        "import nltk\n",
        "nltk.download('omw-1.4')\n",
        "\n",
        "lemmatizer = WordNetLemmatizer()   \n",
        "lemm_words = [lemmatizer.lemmatize(word) for word in remove_stopwords] \n",
        "print(lemm_words) "
      ],
      "metadata": {
        "colab": {
          "base_uri": "https://localhost:8080/"
        },
        "id": "zbw07XY37PmN",
        "outputId": "f832c546-8173-4a48-cfa3-2e1304aedfa2"
      },
      "execution_count": 23,
      "outputs": [
        {
          "output_type": "stream",
          "name": "stderr",
          "text": [
            "[nltk_data] Downloading package wordnet to /root/nltk_data...\n",
            "[nltk_data]   Package wordnet is already up-to-date!\n",
            "[nltk_data] Downloading package omw-1.4 to /root/nltk_data...\n"
          ]
        },
        {
          "output_type": "stream",
          "name": "stdout",
          "text": [
            "['larger', 'bronco', 'available', '35', 'inch', 'road', 'tire', 'drive', 'water', 'foot', '10', 'inch', 'deep.', 'independent', 'front', 'suspension', 'unlike', 'competitor', 'jeep', 'wrangler.', 'independent', 'suspension', 'modern', 'passenger', 'vehicle', 'generally', 'smoother', 'ride', 'road', 'handling', 'single', 'solid', 'axle.', 'solid', 'axle', 'back', 'pickup', 'truck', 'design', 'suited', 'hard', 'use.', 'wrangler', 'bronco', 'removable', 'roof', 'doors.', 'buyer', 'choose', 'hard', 'roof', 'removed', 'section', 'cloth', 'top', 'both.', 'unlike', 'wrangler', 'bronco', 'door', 'fit', 'inside', 'vehicle', 'removed.', 'bronco', 'available', 'choice', '10', 'speed', 'automatic', 'speed', 'manual', 'transmission.', 'manual', 'transmission', 'gear', 'ordinary', 'driving', 'seventh', 'low', 'speed', 'road', 'driving.', 'powered', '270', 'horsepower', '2.3', 'liter', 'turbocharged', 'cylinder', 'engine', '310', 'horsepower', '2.7', 'liter', 'turbocharged', 'v6.', 'bronco', 'suv', 'designed', 'hard', 'road', 'bronco', 'sport', 'hard', 'core', 'capabilities.', 'convenience', 'feature', 'truck', 'bronco.', 'based', 'engineering', 'similar', 'car', 'crossover', 'suv', 'ford', 'intended', 'road', 'use.', 'ford', 'engineer', 'boasted', 'road', 'testing', 'prototype', 'put', 'including', 'driving', 'deep', 'sand', 'steep', 'incline', 'crawling', 'boulder', 'strewn', 'trails.']\n"
          ]
        }
      ]
    },
    {
      "cell_type": "code",
      "source": [
        "!pip install TextBlob"
      ],
      "metadata": {
        "colab": {
          "base_uri": "https://localhost:8080/"
        },
        "id": "ND2UtLiL7Z3K",
        "outputId": "98b64746-583b-4234-cd30-47b3480535ae"
      },
      "execution_count": 24,
      "outputs": [
        {
          "output_type": "stream",
          "name": "stdout",
          "text": [
            "Looking in indexes: https://pypi.org/simple, https://us-python.pkg.dev/colab-wheels/public/simple/\n",
            "Requirement already satisfied: TextBlob in /usr/local/lib/python3.7/dist-packages (0.15.3)\n",
            "Requirement already satisfied: nltk>=3.1 in /usr/local/lib/python3.7/dist-packages (from TextBlob) (3.7)\n",
            "Requirement already satisfied: regex>=2021.8.3 in /usr/local/lib/python3.7/dist-packages (from nltk>=3.1->TextBlob) (2022.6.2)\n",
            "Requirement already satisfied: joblib in /usr/local/lib/python3.7/dist-packages (from nltk>=3.1->TextBlob) (1.1.0)\n",
            "Requirement already satisfied: tqdm in /usr/local/lib/python3.7/dist-packages (from nltk>=3.1->TextBlob) (4.64.1)\n",
            "Requirement already satisfied: click in /usr/local/lib/python3.7/dist-packages (from nltk>=3.1->TextBlob) (7.1.2)\n"
          ]
        }
      ]
    },
    {
      "cell_type": "code",
      "source": [
        "# What is the overall sentiment and subjectivity of the text\n",
        "from textblob import TextBlob\n",
        "\n",
        "Subjectivity= TextBlob(text_lower).sentiment.subjectivity\n",
        "print(\"Subjectivity is: \",Subjectivity)"
      ],
      "metadata": {
        "colab": {
          "base_uri": "https://localhost:8080/"
        },
        "id": "04eEEIu87w5W",
        "outputId": "0cb334f2-ed35-485c-8c4e-3a58d447d218"
      },
      "execution_count": 25,
      "outputs": [
        {
          "output_type": "stream",
          "name": "stdout",
          "text": [
            "Subjectivity is:  0.4042343073593074\n"
          ]
        }
      ]
    },
    {
      "cell_type": "code",
      "source": [
        "sentiment = TextBlob(text_lower).sentiment\n",
        "print(sentiment)"
      ],
      "metadata": {
        "colab": {
          "base_uri": "https://localhost:8080/"
        },
        "id": "aiQ83X7a76_e",
        "outputId": "c740355a-b2cd-481a-c86a-b34c1ad5dd21"
      },
      "execution_count": 26,
      "outputs": [
        {
          "output_type": "stream",
          "name": "stdout",
          "text": [
            "Sentiment(polarity=0.11036255411255412, subjectivity=0.4042343073593074)\n"
          ]
        }
      ]
    },
    {
      "cell_type": "code",
      "source": [],
      "metadata": {
        "id": "WVKpbuqX8Yuc"
      },
      "execution_count": null,
      "outputs": []
    }
  ]
}