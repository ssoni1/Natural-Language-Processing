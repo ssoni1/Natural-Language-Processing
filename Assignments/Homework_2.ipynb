{
  "nbformat": 4,
  "nbformat_minor": 0,
  "metadata": {
    "colab": {
      "provenance": []
    },
    "kernelspec": {
      "name": "python3",
      "display_name": "Python 3"
    },
    "language_info": {
      "name": "python"
    }
  },
  "cells": [
    {
      "cell_type": "markdown",
      "source": [
        "<h1><b>Data 690 - Homework 2</b></h1>\n",
        "<h3><b>Submitted By - Srashti Soni</b></h3>"
      ],
      "metadata": {
        "id": "G0YfDXWj42iU"
      }
    },
    {
      "cell_type": "code",
      "execution_count": 2,
      "metadata": {
        "colab": {
          "base_uri": "https://localhost:8080/"
        },
        "id": "0PozejfJ3_gJ",
        "outputId": "765f82ff-780e-47f9-eb9b-a7b7bfbe77df"
      },
      "outputs": [
        {
          "output_type": "stream",
          "name": "stdout",
          "text": [
            "Looking in indexes: https://pypi.org/simple, https://us-python.pkg.dev/colab-wheels/public/simple/\n",
            "Requirement already satisfied: beautifulsoup4 in /usr/local/lib/python3.7/dist-packages (4.6.3)\n"
          ]
        }
      ],
      "source": [
        "!pip install beautifulsoup4"
      ]
    },
    {
      "cell_type": "code",
      "source": [
        "!pip install lxml"
      ],
      "metadata": {
        "colab": {
          "base_uri": "https://localhost:8080/"
        },
        "id": "lUEZmogj5Umc",
        "outputId": "b2a10c4e-7290-4308-d78b-723eae573b53"
      },
      "execution_count": 3,
      "outputs": [
        {
          "output_type": "stream",
          "name": "stdout",
          "text": [
            "Looking in indexes: https://pypi.org/simple, https://us-python.pkg.dev/colab-wheels/public/simple/\n",
            "Requirement already satisfied: lxml in /usr/local/lib/python3.7/dist-packages (4.9.1)\n"
          ]
        }
      ]
    },
    {
      "cell_type": "code",
      "source": [
        "# from bs4 import BeautifulSoup as bs\n",
        "import bs4 as bs\n",
        "import urllib.request as urlreq"
      ],
      "metadata": {
        "id": "TxaKuwfc5fAR"
      },
      "execution_count": 13,
      "outputs": []
    },
    {
      "cell_type": "code",
      "source": [
        "# Connecting to the website using urllib.request\n",
        "source = urlreq.urlopen('https://pythonprogramming.net/parsememcparseface/').read()"
      ],
      "metadata": {
        "id": "wplbM61v5qp1"
      },
      "execution_count": 14,
      "outputs": []
    },
    {
      "cell_type": "code",
      "source": [
        "# Creating an object called ‘soup’ using the source\n",
        "soup = bs.BeautifulSoup(source, 'lxml')"
      ],
      "metadata": {
        "id": "pBzcVGG6-Usp"
      },
      "execution_count": 15,
      "outputs": []
    },
    {
      "cell_type": "code",
      "source": [
        "# Printing the title of the page\n",
        "print(soup.title)"
      ],
      "metadata": {
        "colab": {
          "base_uri": "https://localhost:8080/"
        },
        "id": "KqDildTI-yMH",
        "outputId": "77827f8c-da3d-4815-c065-014a0910f8ba"
      },
      "execution_count": 16,
      "outputs": [
        {
          "output_type": "stream",
          "name": "stdout",
          "text": [
            "<title>Python Programming Tutorials</title>\n"
          ]
        }
      ]
    },
    {
      "cell_type": "code",
      "source": [
        "#get attributes\n",
        "print(soup.title.name)\n"
      ],
      "metadata": {
        "colab": {
          "base_uri": "https://localhost:8080/"
        },
        "id": "iOW_JmvTAy1d",
        "outputId": "f5ab9e5f-dbb0-4c6e-a346-f2e5256f410a"
      },
      "execution_count": 20,
      "outputs": [
        {
          "output_type": "stream",
          "name": "stdout",
          "text": [
            "title\n"
          ]
        }
      ]
    },
    {
      "cell_type": "code",
      "source": [
        "#get values\n",
        "print(soup.title.string)"
      ],
      "metadata": {
        "colab": {
          "base_uri": "https://localhost:8080/"
        },
        "id": "HEgl5gE8BYJd",
        "outputId": "ef82e45e-688b-4d6f-9ac8-44a8c59e791d"
      },
      "execution_count": 18,
      "outputs": [
        {
          "output_type": "stream",
          "name": "stdout",
          "text": [
            "Python Programming Tutorials\n"
          ]
        }
      ]
    },
    {
      "cell_type": "code",
      "source": [
        "# beginning navigation\n",
        "print(soup.title.parent.name)"
      ],
      "metadata": {
        "colab": {
          "base_uri": "https://localhost:8080/"
        },
        "id": "7XpKL6DzBwXf",
        "outputId": "23e7f003-9396-499a-c7fb-3e2a61703929"
      },
      "execution_count": 21,
      "outputs": [
        {
          "output_type": "stream",
          "name": "stdout",
          "text": [
            "head\n"
          ]
        }
      ]
    },
    {
      "cell_type": "code",
      "source": [
        "# specific values\n",
        "print(soup.p)"
      ],
      "metadata": {
        "colab": {
          "base_uri": "https://localhost:8080/"
        },
        "id": "RGzu4nezCKoD",
        "outputId": "22d3233d-5408-45cf-f1a6-75ef5e2340b1"
      },
      "execution_count": 22,
      "outputs": [
        {
          "output_type": "stream",
          "name": "stdout",
          "text": [
            "<p class=\"introduction\">Oh, hello! This is a <span style=\"font-size:115%\">wonderful</span> page meant to let you practice web scraping. This page was originally created to help people work with the <a href=\"https://www.crummy.com/software/BeautifulSoup/bs4/doc/\" target=\"blank\"><strong>Beautiful Soup 4</strong></a> library.</p>\n"
          ]
        }
      ]
    },
    {
      "cell_type": "code",
      "source": [
        "# Find all the paragraph instead of just one in the previous query\n",
        "print(soup.find_all('p'))"
      ],
      "metadata": {
        "colab": {
          "base_uri": "https://localhost:8080/"
        },
        "id": "QS7PJHeyCZJB",
        "outputId": "e9b5bcba-c98d-4b81-e0af-ac1b78292902"
      },
      "execution_count": 23,
      "outputs": [
        {
          "output_type": "stream",
          "name": "stdout",
          "text": [
            "[<p class=\"introduction\">Oh, hello! This is a <span style=\"font-size:115%\">wonderful</span> page meant to let you practice web scraping. This page was originally created to help people work with the <a href=\"https://www.crummy.com/software/BeautifulSoup/bs4/doc/\" target=\"blank\"><strong>Beautiful Soup 4</strong></a> library.</p>, <p>The following table gives some general information for the following <code>programming languages</code>:</p>, <p>I think it's clear that, on a scale of 1-10, python is:</p>, <p>Javascript (dynamic data) test:</p>, <p class=\"jstest\" id=\"yesnojs\">y u bad tho?</p>, <p>Whᶐt hαppéns now¿</p>, <p><a href=\"/sitemap.xml\" target=\"blank\"><strong>sitemap</strong></a></p>, <p class=\"grey-text text-lighten-4\">Contact: Harrison@pythonprogramming.net.</p>, <p class=\"grey-text right\" style=\"padding-right:10px\">Programming is a superpower.</p>]\n"
          ]
        }
      ]
    },
    {
      "cell_type": "code",
      "source": [
        "# You can iterate through them using 'str(paragraph.text)'\n",
        "for paragraph in soup.find_all('p'):\n",
        "     print(str(paragraph.text))"
      ],
      "metadata": {
        "colab": {
          "base_uri": "https://localhost:8080/"
        },
        "id": "z0_deZ0wEJJt",
        "outputId": "6124d452-01d5-4062-f196-ee54c19c9396"
      },
      "execution_count": 26,
      "outputs": [
        {
          "output_type": "stream",
          "name": "stdout",
          "text": [
            "Oh, hello! This is a wonderful page meant to let you practice web scraping. This page was originally created to help people work with the Beautiful Soup 4 library.\n",
            "The following table gives some general information for the following programming languages:\n",
            "I think it's clear that, on a scale of 1-10, python is:\n",
            "Javascript (dynamic data) test:\n",
            "y u bad tho?\n",
            "Whᶐt hαppéns now¿\n",
            "sitemap\n",
            "Contact: Harrison@pythonprogramming.net.\n",
            "Programming is a superpower.\n"
          ]
        }
      ]
    },
    {
      "cell_type": "code",
      "source": [
        "# Grab all the links through ‘url.get(‘href’)\n",
        "for url in soup.find_all('a'):\n",
        "  print(url.get('href'))"
      ],
      "metadata": {
        "colab": {
          "base_uri": "https://localhost:8080/"
        },
        "id": "3mKia2ClEWsF",
        "outputId": "d4d6ff26-dd25-4a47-9c66-3660e4219ae3"
      },
      "execution_count": 27,
      "outputs": [
        {
          "output_type": "stream",
          "name": "stdout",
          "text": [
            "/\n",
            "#\n",
            "/\n",
            "/+=1/\n",
            "/support/\n",
            "https://goo.gl/7zgAVQ\n",
            "/login/\n",
            "/register/\n",
            "/\n",
            "/+=1/\n",
            "/support/\n",
            "https://goo.gl/7zgAVQ\n",
            "/login/\n",
            "/register/\n",
            "https://www.crummy.com/software/BeautifulSoup/bs4/doc/\n",
            "/sitemap.xml\n",
            "/support-donate/\n",
            "/consulting/\n",
            "https://www.facebook.com/pythonprogramming.net/\n",
            "https://twitter.com/sentdex\n",
            "https://instagram.com/sentdex\n",
            "/about/tos/\n",
            "/about/privacy-policy/\n",
            "https://xkcd.com/353/\n"
          ]
        }
      ]
    },
    {
      "cell_type": "code",
      "source": [
        "# Just grab the text using ‘get_text’\n",
        "print(soup.get_text())"
      ],
      "metadata": {
        "colab": {
          "base_uri": "https://localhost:8080/"
        },
        "id": "0v23xvmJFDc5",
        "outputId": "0dda0354-8473-4a8b-b7dc-4780092c6f2d"
      },
      "execution_count": 28,
      "outputs": [
        {
          "output_type": "stream",
          "name": "stdout",
          "text": [
            "\n",
            "\n",
            "\n",
            "\n",
            "Python Programming Tutorials\n",
            "\n",
            "\n",
            "\n",
            "\n",
            "\n",
            "\n",
            "\n",
            "\n",
            "\n",
            "\n",
            "\n",
            "\t\t@media (min-width:992px) {\n",
            "\t\t#aside {\n",
            "\t\t\twidth:250px;\n",
            "\t\t}\n",
            "\t\tpre { tab-size: 4;}\n",
            "\t\t.btn {background-color:#FFD166;\n",
            "\t\t\t  color:#000;\n",
            "\t\t      height:auto;\n",
            "\t\t\t  font-color:#000;\n",
            "\t\t\t  }\n",
            "\t\t.btn:hover {background-color:#FFD166;\n",
            "\t\t\t\t\t}\n",
            "\n",
            "\n",
            "\t\t\n",
            "\n",
            "\n",
            "\t\t\t  (function(i,s,o,g,r,a,m){i['GoogleAnalyticsObject']=r;i[r]=i[r]||function(){\n",
            "\t\t\t  (i[r].q=i[r].q||[]).push(arguments)},i[r].l=1*new Date();a=s.createElement(o),\n",
            "\t\t\t  m=s.getElementsByTagName(o)[0];a.async=1;a.src=g;m.parentNode.insertBefore(a,m)\n",
            "\t\t\t  })(window,document,'script','//www.google-analytics.com/analytics.js','ga');\n",
            "              ga('config', 'UA-51891827-1', {'anonymize_ip': true});﻿\n",
            "\t\t\t  ga('create', 'UA-51891827-1', 'auto');\n",
            "\t\t\t  ga('send', 'pageview');\n",
            "\n",
            "\t\t\n",
            "\n",
            "\n",
            "                         (adsbygoogle = window.adsbygoogle || []).push({\n",
            "                              google_ad_client: \"ca-pub-1579050400541873\",\n",
            "                              enable_page_level_ads: true\n",
            "                         });\n",
            "                    \n",
            "\n",
            "\n",
            "\n",
            "\n",
            "\n",
            "\n",
            "\n",
            "\n",
            "search\n",
            "\n",
            "\n",
            "\n",
            "\n",
            "\n",
            "Home\n",
            "+=1\n",
            "\n",
            "Support the Content\n",
            "Community\n",
            "Log in\n",
            "Sign up\n",
            "\n",
            "\n",
            "\n",
            "\n",
            "\n",
            "\n",
            "\n",
            "Home\n",
            "+=1\n",
            "\n",
            "Support the Content\n",
            "Community\n",
            "Log in\n",
            "Sign up\n",
            "\n",
            "\n",
            "\n",
            "\n",
            "\n",
            "\n",
            "\n",
            "\n",
            "\n",
            "\n",
            "Oh, hello! This is a wonderful page meant to let you practice web scraping. This page was originally created to help people work with the Beautiful Soup 4 library.\n",
            "The following table gives some general information for the following programming languages:\n",
            "\n",
            "Python\n",
            "Pascal\n",
            "Lisp\n",
            "D#\n",
            "Cobol\n",
            "Fortran\n",
            "Haskell\n",
            "\n",
            "\n",
            "\n",
            "Program Name\n",
            "Internet Points\n",
            "Kittens?\n",
            "\n",
            "\n",
            "Python\n",
            "932914021\n",
            "Definitely\n",
            "\n",
            "\n",
            "Pascal\n",
            "532\n",
            "Unlikely\n",
            "\n",
            "\n",
            "Lisp\n",
            "1522\n",
            "Uncertain\n",
            "\n",
            "\n",
            "D#\n",
            "12\n",
            "Possibly\n",
            "\n",
            "\n",
            "Cobol\n",
            "3\n",
            "No.\n",
            "\n",
            "\n",
            "Fortran\n",
            "52124\n",
            "Yes.\n",
            "\n",
            "\n",
            "Haskell\n",
            "24\n",
            "lol.\n",
            "\n",
            "\n",
            "I think it's clear that, on a scale of 1-10, python is:\n",
            "\n",
            "\n",
            "\n",
            "\n",
            "\n",
            "\n",
            "Javascript (dynamic data) test:\n",
            "y u bad tho?\n",
            "\n",
            "     document.getElementById('yesnojs').innerHTML = 'Look at you shinin!';\n",
            "  \n",
            "\n",
            "Beautiful is better than ugly.\n",
            "Explicit is better than implicit.\n",
            "Simple is better than complex.\n",
            "Complex is better than complicated.\n",
            "Flat is better than nested.\n",
            "Sparse is better than dense.\n",
            "Readability counts.\n",
            "Special cases aren't special enough to break the rules.\n",
            "Although practicality beats purity.\n",
            "Errors should never pass silently.\n",
            "Unless explicitly silenced.\n",
            "In the face of ambiguity, refuse the temptation to guess.\n",
            "There should be one-- and preferably only one --obvious way to do it.\n",
            "Although that way may not be obvious at first unless you're Dutch.\n",
            "Now is better than never.\n",
            "Although never is often better than *right* now.\n",
            "If the implementation is hard to explain, it's a bad idea.\n",
            "If the implementation is easy to explain, it may be a good idea.\n",
            "Namespaces are one honking great idea -- let's do more of those!\n",
            "Whᶐt hαppéns now¿\n",
            "sitemap\n",
            "\n",
            "\n",
            "\n",
            "\n",
            "\t\t\t$(document).ready(function(){\n",
            "\t\t\t\t$(\".button-collapse\").sideNav();\n",
            "\t\t\t\t$('.modal-trigger').leanModal();\n",
            "\t\t\t\t$('.collapsible').collapsible({\n",
            "\t\t\t\t  accordion : false // A setting that changes the collapsible behavior to expandable instead of the default accordion style\n",
            "\t\t\t\t});\n",
            "\t\t\t\t$('#aside').pushpin({ top:110, bottom:500 });\n",
            "\t\t  });\n",
            "\t\t\n",
            "\n",
            "\t\t  $(document).ready(function(){\n",
            "\t\t\t$('.collapsible').collapsible({\n",
            "\t\t\t  accordion : false // A setting that changes the collapsible behavior to expandable instead of the default accordion style\n",
            "\t\t\t});\n",
            "\t\t\t$('select').material_select();\n",
            "\t\t  });\n",
            "\t  \n",
            "\n",
            "\t\tfunction goBack() {\n",
            "\t\t\twindow.history.back()\n",
            "\t\t}\n",
            "\t\n",
            "\n",
            "\n",
            "\n",
            "\n",
            "\n",
            "You've reached the end!\n",
            "Contact: Harrison@pythonprogramming.net.\n",
            "\n",
            "Support this Website!\n",
            "Consulting and Contracting\n",
            "Facebook\n",
            "Twitter\n",
            "Instagram\n",
            "\n",
            "\n",
            "\n",
            "Legal stuff:\n",
            "\n",
            "Terms and Conditions\n",
            "Privacy Policy\n",
            "\n",
            "\n",
            "\n",
            "\n",
            "Programming is a superpower.\n",
            "\n",
            "\n",
            "            © OVER 9000! PythonProgramming.net\n",
            "\n",
            "            \n",
            "\n",
            "\n",
            "\n",
            "\n"
          ]
        }
      ]
    },
    {
      "cell_type": "code",
      "source": [],
      "metadata": {
        "id": "Gce7sxzYFUiz"
      },
      "execution_count": null,
      "outputs": []
    }
  ]
}