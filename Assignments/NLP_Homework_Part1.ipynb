{
  "cells": [
    {
      "cell_type": "code",
      "execution_count": 4,
      "metadata": {
        "colab": {
          "base_uri": "https://localhost:8080/"
        },
        "id": "_tc_z_fJ7bIX",
        "outputId": "fc78e66d-29bf-49ef-ee78-053c554635d3"
      },
      "outputs": [
        {
          "output_type": "stream",
          "name": "stdout",
          "text": [
            "Looking in indexes: https://pypi.org/simple, https://us-python.pkg.dev/colab-wheels/public/simple/\n",
            "Requirement already satisfied: torch in /usr/local/lib/python3.7/dist-packages (1.12.1+cu113)\n",
            "Requirement already satisfied: typing-extensions in /usr/local/lib/python3.7/dist-packages (from torch) (4.1.1)\n"
          ]
        }
      ],
      "source": [
        "!pip install torch\n",
        "import pandas as pd\n",
        "import numpy as np\n",
        "import matplotlib.pyplot as plt\n",
        "from string import punctuation\n",
        "from sklearn.metrics import accuracy_score\n",
        "import torch\n",
        "from torch import nn, optim\n",
        "import torch.nn.functional as F"
      ]
    },
    {
      "cell_type": "code",
      "execution_count": 6,
      "metadata": {
        "id": "tFVQhNdw7bIZ"
      },
      "outputs": [],
      "source": [
        "data = pd.read_csv(\"/content/sample_data/amazon_cells_labelled.txt\", sep=\"\\t\", \\\n",
        "                   header=None)\n",
        "reviews = data.iloc[:,0].str.lower()\n",
        "sentiment = data.iloc[:,1].values"
      ]
    },
    {
      "cell_type": "code",
      "execution_count": 7,
      "metadata": {
        "colab": {
          "base_uri": "https://localhost:8080/"
        },
        "id": "TflRo0Kh7bIa",
        "outputId": "95982d9b-27ad-4a97-e93a-637b9f2f76d0"
      },
      "outputs": [
        {
          "output_type": "stream",
          "name": "stderr",
          "text": [
            "/usr/local/lib/python3.7/dist-packages/ipykernel_launcher.py:2: FutureWarning: The default value of regex will change from True to False in a future version. In addition, single character regular expressions will *not* be treated as literal strings when regex=True.\n",
            "  \n"
          ]
        }
      ],
      "source": [
        "for i in punctuation:\n",
        "    reviews = reviews.str.replace(i,\"\")"
      ]
    },
    {
      "cell_type": "code",
      "execution_count": 8,
      "metadata": {
        "id": "jOecTLZi7bIa"
      },
      "outputs": [],
      "source": [
        "words = ' '.join(reviews)\n",
        "words = words.split()\n",
        "vocabulary = set(words)\n",
        "indexer = {word: index for (index, word) \\\n",
        "           in enumerate(vocabulary)}"
      ]
    },
    {
      "cell_type": "code",
      "execution_count": 9,
      "metadata": {
        "id": "y0gFROJt7bIa"
      },
      "outputs": [],
      "source": [
        "indexed_reviews = []\n",
        "for review in reviews:\n",
        "    indexed_reviews.append([indexer[word] \\\n",
        "                            for word in review.split()])"
      ]
    },
    {
      "cell_type": "code",
      "execution_count": 10,
      "metadata": {
        "id": "Gx8ZHWyV7bIb"
      },
      "outputs": [],
      "source": [
        "class LSTM(nn.Module):\n",
        "    def __init__(self, vocab_size, embed_dim, \\\n",
        "                 hidden_size, n_layers):\n",
        "        super().__init__()\n",
        "        self.hidden_size = hidden_size\n",
        "        self.embedding = nn.Embedding(vocab_size, embed_dim)\n",
        "        self.lstm = nn.LSTM(embed_dim, hidden_size, \\\n",
        "                            n_layers, batch_first=True)\n",
        "        self.output = nn.Linear(hidden_size, 1)\n",
        "    def forward(self, x):\n",
        "        out = self.embedding(x)\n",
        "        out, _ = self.lstm(out)\n",
        "        out = out.contiguous().view(-1, self.hidden_size)\n",
        "        out = self.output(out)\n",
        "        out = out[-1,0]\n",
        "        out = torch.sigmoid(out).unsqueeze(0)\n",
        "        return out"
      ]
    },
    {
      "cell_type": "code",
      "execution_count": 11,
      "metadata": {
        "colab": {
          "base_uri": "https://localhost:8080/"
        },
        "id": "P6fHmj7A7bIb",
        "outputId": "ac39e7cd-6bd9-4aad-b20f-c6d2e16e008e"
      },
      "outputs": [
        {
          "output_type": "execute_result",
          "data": {
            "text/plain": [
              "LSTM(\n",
              "  (embedding): Embedding(1905, 64)\n",
              "  (lstm): LSTM(64, 128, num_layers=3, batch_first=True)\n",
              "  (output): Linear(in_features=128, out_features=1, bias=True)\n",
              ")"
            ]
          },
          "metadata": {},
          "execution_count": 11
        }
      ],
      "source": [
        "model = LSTM(len(vocabulary), 64, 128, 3)\n",
        "model"
      ]
    },
    {
      "cell_type": "code",
      "execution_count": 12,
      "metadata": {
        "id": "vHZWCgDy7bIc"
      },
      "outputs": [],
      "source": [
        "loss_function = nn.BCELoss()\n",
        "optimizer = optim.Adam(model.parameters(), lr=0.001)\n",
        "epochs = 10"
      ]
    },
    {
      "cell_type": "code",
      "source": [
        "# def accuracy(preds, y):\n",
        "#     _, preds = torch.max(preds, dim= 1)\n",
        "#     acc = torch.sum(preds == y) / len(y)\n",
        "#     return acc"
      ],
      "metadata": {
        "id": "gszmKaj_BVYn"
      },
      "execution_count": 20,
      "outputs": []
    },
    {
      "cell_type": "code",
      "execution_count": 27,
      "metadata": {
        "colab": {
          "base_uri": "https://localhost:8080/"
        },
        "id": "YYuNTYiG7bIc",
        "outputId": "ab7e1bfa-0b9a-484b-9c89-7c13012af817"
      },
      "outputs": [
        {
          "output_type": "stream",
          "name": "stdout",
          "text": [
            "Epoch:  1 ... Loss function:  0.05602908100707033\n",
            "Epoch:  2 ... Loss function:  0.04216817257582361\n",
            "Epoch:  3 ... Loss function:  0.05084665056137068\n",
            "Epoch:  4 ... Loss function:  0.05847308760760933\n",
            "Epoch:  5 ... Loss function:  0.02320236219076807\n",
            "Epoch:  6 ... Loss function:  0.022527413898137044\n",
            "Epoch:  7 ... Loss function:  0.008752314288449818\n",
            "Epoch:  8 ... Loss function:  0.007555616034977732\n",
            "Epoch:  9 ... Loss function:  0.00694973214056781\n",
            "Epoch:  10 ... Loss function:  0.024229578004420358\n"
          ]
        }
      ],
      "source": [
        "losses = []\n",
        "acc = []\n",
        "for e in range(1, epochs+1):\n",
        "    single_loss = []\n",
        "    preds = []\n",
        "    targets = []\n",
        "    for i, r in enumerate(indexed_reviews):\n",
        "        if len(r) <= 1:\n",
        "            continue\n",
        "        x = torch.Tensor([r]).long()\n",
        "        y = torch.Tensor([sentiment[i]])\n",
        "        pred = model(x)\n",
        "        loss = loss_function(pred, y)\n",
        "        optimizer.zero_grad()\n",
        "        loss.backward()\n",
        "        optimizer.step()\n",
        "        final_pred = np.round(pred.detach().numpy())\n",
        "        preds.append(np.round(final_pred))\n",
        "        targets.append(y)\n",
        "        single_loss.append(loss.item())\n",
        "    losses.append(np.mean(single_loss))\n",
        "    # # # accuracy = np.sum(np.multiply(acc , batch_len))\n",
        "    # # #                     / np.sum(batch_len)\n",
        "    # # accuracy = accuracy_score(targets, np.argmax(preds, axis=1))\n",
        "    # acc.append(accuracy)\n",
        "    if e%1 == 0:\n",
        "        print(\"Epoch: \", e, \"... Loss function: \", losses[-1])\n",
        "              # \"... Accuracy: \", acc[-1])\n",
        "\n"
      ]
    },
    {
      "cell_type": "code",
      "execution_count": 28,
      "metadata": {
        "colab": {
          "base_uri": "https://localhost:8080/",
          "height": 279
        },
        "id": "uriVeWXb7bId",
        "outputId": "0c37b074-1442-4c80-f649-d743e6bc47ac"
      },
      "outputs": [
        {
          "output_type": "display_data",
          "data": {
            "text/plain": [
              "<Figure size 432x288 with 1 Axes>"
            ],
            "image/png": "[encoded data removed]"
          },
          "metadata": {
            "needs_background": "light"
          }
        }
      ],
      "source": [
        "x_range = range(len(losses))\n",
        "plt.plot(x_range, losses)\n",
        "plt.xlabel(\"epochs\")\n",
        "plt.ylabel(\"Loss function\")\n",
        "plt.show()"
      ]
    },
    {
      "cell_type": "code",
      "execution_count": 29,
      "metadata": {
        "colab": {
          "base_uri": "https://localhost:8080/",
          "height": 279
        },
        "id": "DmVV5S4Z7bIe",
        "outputId": "59e3037e-cbc2-4f9b-edc4-02dadf032997"
      },
      "outputs": [
        {
          "output_type": "display_data",
          "data": {
            "text/plain": [
              "<Figure size 432x288 with 1 Axes>"
            ],
            "image/png": "[encoded data removed]"
          },
          "metadata": {
            "needs_background": "light"
          }
        }
      ],
      "source": [
        "x_range = range(len(acc))\n",
        "plt.plot(x_range, acc)\n",
        "plt.xlabel(\"epochs\")\n",
        "plt.ylabel(\"Accuracy score\")\n",
        "plt.show()"
      ]
    },
    {
      "cell_type": "markdown",
      "source": [
        "###Reference: https://www.google.com/books/edition/The_The_Deep_Learning_with_PyTorch_Works/dsTyDwAAQBAJ?hl=en&gbpv=1&dq=inauthor:%22Hyatt+Saleh%22&printsec=frontcover"
      ],
      "metadata": {
        "id": "91sxOyVK9Sq7"
      }
    },
    {
      "cell_type": "code",
      "execution_count": null,
      "metadata": {
        "id": "5spX2eOG7bIe"
      },
      "outputs": [],
      "source": []
    }
  ],
  "metadata": {
    "kernelspec": {
      "display_name": "Python 3",
      "language": "python",
      "name": "python3"
    },
    "language_info": {
      "codemirror_mode": {
        "name": "ipython",
        "version": 3
      },
      "file_extension": ".py",
      "mimetype": "text/x-python",
      "name": "python",
      "nbconvert_exporter": "python",
      "pygments_lexer": "ipython3",
      "version": "3.7.4"
    },
    "colab": {
      "provenance": [],
      "collapsed_sections": []
    }
  },
  "nbformat": 4,
  "nbformat_minor": 0
}