{
  "nbformat": 4,
  "nbformat_minor": 0,
  "metadata": {
    "colab": {
      "provenance": [],
      "collapsed_sections": []
    },
    "kernelspec": {
      "name": "python3",
      "display_name": "Python 3"
    },
    "language_info": {
      "name": "python"
    }
  },
  "cells": [
    {
      "cell_type": "markdown",
      "source": [
        "## NLP Homework 8\n",
        "###Submitted By - Srashti Soni"
      ],
      "metadata": {
        "id": "gJXkyy33b_zC"
      }
    },
    {
      "cell_type": "markdown",
      "source": [
        "####Exercise: 1 Accuracy of classifier model with Keras"
      ],
      "metadata": {
        "id": "-0j1KSFEb_i5"
      }
    },
    {
      "cell_type": "code",
      "execution_count": 4,
      "metadata": {
        "id": "S2IL8mxphCrj"
      },
      "outputs": [],
      "source": [
        "#importing libraries\n",
        "from numpy import array\n",
        "from keras.preprocessing.text import one_hot\n",
        "from keras_preprocessing.sequence import pad_sequences\n",
        "from keras.models import Sequential\n",
        "from keras.layers import Dense,LSTM,Embedding, Flatten"
      ]
    },
    {
      "cell_type": "code",
      "source": [
        "#Defining corpus\n",
        "text = [ 'This is good pizza', \n",
        "          'I love Italian pizza', \n",
        "          'The best pizza', \n",
        "          'nice pizza', \n",
        "          'Excellent pizza', \n",
        "          'I love pizza', \n",
        "          'The pizza was alright', \n",
        "          'disgusting pineapple pizza', \n",
        "          'not good pizza', \n",
        "          'bad pizza', \n",
        "          'very bad pizza', \n",
        "          'I had better pizza']"
      ],
      "metadata": {
        "id": "4TbudU31pF6q"
      },
      "execution_count": 7,
      "outputs": []
    },
    {
      "cell_type": "code",
      "source": [
        "# Create class labels for each sentence '1' for positive and '0' for negative.\n",
        "sentiments = array([1,1,1,1,1,1,1,0,0,0,0,0])"
      ],
      "metadata": {
        "id": "wVTviB795CUa"
      },
      "execution_count": 6,
      "outputs": []
    },
    {
      "cell_type": "code",
      "source": [
        "# Extract the vocabulary from the corpus and encode it.\n",
        "#finding the number of unique words in the corpus\n",
        "from nltk.tokenize import word_tokenize\n",
        "import nltk\n",
        "nltk.download('punkt')\n",
        "\n",
        "all_words = []\n",
        "for sent in text:\n",
        "    tokenize_word = word_tokenize(sent)\n",
        "    for word in tokenize_word:\n",
        "        all_words.append(word)"
      ],
      "metadata": {
        "colab": {
          "base_uri": "https://localhost:8080/"
        },
        "id": "ZZ3tVvzR5lMy",
        "outputId": "14813809-e1cb-494f-ca0a-824d48741525"
      },
      "execution_count": 9,
      "outputs": [
        {
          "output_type": "stream",
          "name": "stderr",
          "text": [
            "[nltk_data] Downloading package punkt to /root/nltk_data...\n",
            "[nltk_data]   Unzipping tokenizers/punkt.zip.\n"
          ]
        }
      ]
    },
    {
      "cell_type": "code",
      "source": [
        "unique_words = set(all_words)\n",
        "print(len(unique_words))"
      ],
      "metadata": {
        "colab": {
          "base_uri": "https://localhost:8080/"
        },
        "id": "65vNNdDk81N7",
        "outputId": "f7fb2559-f79c-4745-947c-e7366dfc3faa"
      },
      "execution_count": 10,
      "outputs": [
        {
          "output_type": "stream",
          "name": "stdout",
          "text": [
            "20\n"
          ]
        }
      ]
    },
    {
      "cell_type": "code",
      "source": [
        "#converting the sentences in corpus to words\n",
        "vocab_length = 25\n",
        "embedded_sentences = [one_hot(sent, vocab_length) for sent in text]\n",
        "print(embedded_sentences )"
      ],
      "metadata": {
        "colab": {
          "base_uri": "https://localhost:8080/"
        },
        "id": "K2ErjBMI9WIs",
        "outputId": "79d8ee39-09e2-4682-f35e-5b8b39613314"
      },
      "execution_count": 12,
      "outputs": [
        {
          "output_type": "stream",
          "name": "stdout",
          "text": [
            "[[8, 11, 7, 21], [7, 21, 17, 21], [19, 12, 21], [16, 21], [6, 21], [7, 21, 21], [19, 21, 14, 16], [17, 4, 21], [10, 7, 21], [21, 21], [17, 21, 21], [7, 23, 9, 21]]\n"
          ]
        }
      ]
    },
    {
      "cell_type": "code",
      "source": [
        "# Pad the document to the maximum length of the longest sentences tohave uniform length.\n",
        "word_count = lambda sentence: len(word_tokenize(sentence))\n",
        "longest_sentence = max(text, key=word_count)\n",
        "length_long_sentence = len(word_tokenize(longest_sentence))"
      ],
      "metadata": {
        "id": "2lWHqDaP-Cv9"
      },
      "execution_count": 13,
      "outputs": []
    },
    {
      "cell_type": "code",
      "source": [
        "padded_sentences = pad_sequences(embedded_sentences, length_long_sentence, padding='post')\n",
        "print(padded_sentences)"
      ],
      "metadata": {
        "colab": {
          "base_uri": "https://localhost:8080/"
        },
        "id": "j3uaTXDk_gVq",
        "outputId": "25168f7d-0cf3-4ea0-b667-c69205d8c0b5"
      },
      "execution_count": 14,
      "outputs": [
        {
          "output_type": "stream",
          "name": "stdout",
          "text": [
            "[[ 8 11  7 21]\n",
            " [ 7 21 17 21]\n",
            " [19 12 21  0]\n",
            " [16 21  0  0]\n",
            " [ 6 21  0  0]\n",
            " [ 7 21 21  0]\n",
            " [19 21 14 16]\n",
            " [17  4 21  0]\n",
            " [10  7 21  0]\n",
            " [21 21  0  0]\n",
            " [17 21 21  0]\n",
            " [ 7 23  9 21]]\n"
          ]
        }
      ]
    },
    {
      "cell_type": "code",
      "source": [
        "# Define the model with Keras with Embedding (None, 5.8) as output shape, Flatten (None, 40), and Dense (None, 1)\n",
        "model = Sequential()\n",
        "model.add(Embedding(vocab_length, 10, input_length=length_long_sentence))\n",
        "model.add(Flatten())\n",
        "model.add(Dense(1, activation='sigmoid'))\n"
      ],
      "metadata": {
        "id": "u4wOS5ok_kmU"
      },
      "execution_count": 35,
      "outputs": []
    },
    {
      "cell_type": "code",
      "source": [
        "model.compile(optimizer='adam', loss='binary_crossentropy', metrics=['acc'])\n",
        "print(model.summary())"
      ],
      "metadata": {
        "colab": {
          "base_uri": "https://localhost:8080/"
        },
        "id": "WidmDzi9A13Z",
        "outputId": "71b3267e-5615-426a-b9f2-9220f20bc366"
      },
      "execution_count": 36,
      "outputs": [
        {
          "output_type": "stream",
          "name": "stdout",
          "text": [
            "Model: \"sequential_14\"\n",
            "_________________________________________________________________\n",
            " Layer (type)                Output Shape              Param #   \n",
            "=================================================================\n",
            " embedding_9 (Embedding)     (None, 4, 10)             250       \n",
            "                                                                 \n",
            " flatten_8 (Flatten)         (None, 40)                0         \n",
            "                                                                 \n",
            " dense_8 (Dense)             (None, 1)                 41        \n",
            "                                                                 \n",
            "=================================================================\n",
            "Total params: 291\n",
            "Trainable params: 291\n",
            "Non-trainable params: 0\n",
            "_________________________________________________________________\n",
            "None\n"
          ]
        }
      ]
    },
    {
      "cell_type": "code",
      "source": [
        "model.fit(padded_sentences, sentiments, epochs=50, verbose=1)"
      ],
      "metadata": {
        "colab": {
          "base_uri": "https://localhost:8080/"
        },
        "id": "AwEuQK33BUkI",
        "outputId": "ecf81c59-82cd-49bd-f0db-0c900b31d20a"
      },
      "execution_count": 30,
      "outputs": [
        {
          "output_type": "stream",
          "name": "stdout",
          "text": [
            "Epoch 1/50\n",
            "1/1 [==============================] - 1s 1s/step - loss: 0.6989 - acc: 0.4167\n",
            "Epoch 2/50\n",
            "1/1 [==============================] - 0s 12ms/step - loss: 0.6970 - acc: 0.4167\n",
            "Epoch 3/50\n",
            "1/1 [==============================] - 0s 9ms/step - loss: 0.6951 - acc: 0.4167\n",
            "Epoch 4/50\n",
            "1/1 [==============================] - 0s 12ms/step - loss: 0.6932 - acc: 0.5833\n",
            "Epoch 5/50\n",
            "1/1 [==============================] - 0s 8ms/step - loss: 0.6914 - acc: 0.5833\n",
            "Epoch 6/50\n",
            "1/1 [==============================] - 0s 10ms/step - loss: 0.6895 - acc: 0.5833\n",
            "Epoch 7/50\n",
            "1/1 [==============================] - 0s 7ms/step - loss: 0.6877 - acc: 0.5833\n",
            "Epoch 8/50\n",
            "1/1 [==============================] - 0s 11ms/step - loss: 0.6859 - acc: 0.5833\n",
            "Epoch 9/50\n",
            "1/1 [==============================] - 0s 6ms/step - loss: 0.6841 - acc: 0.5833\n",
            "Epoch 10/50\n",
            "1/1 [==============================] - 0s 6ms/step - loss: 0.6823 - acc: 0.6667\n",
            "Epoch 11/50\n",
            "1/1 [==============================] - 0s 6ms/step - loss: 0.6805 - acc: 0.6667\n",
            "Epoch 12/50\n",
            "1/1 [==============================] - 0s 6ms/step - loss: 0.6787 - acc: 0.6667\n",
            "Epoch 13/50\n",
            "1/1 [==============================] - 0s 6ms/step - loss: 0.6769 - acc: 0.6667\n",
            "Epoch 14/50\n",
            "1/1 [==============================] - 0s 7ms/step - loss: 0.6751 - acc: 0.6667\n",
            "Epoch 15/50\n",
            "1/1 [==============================] - 0s 6ms/step - loss: 0.6733 - acc: 0.8333\n",
            "Epoch 16/50\n",
            "1/1 [==============================] - 0s 8ms/step - loss: 0.6715 - acc: 0.9167\n",
            "Epoch 17/50\n",
            "1/1 [==============================] - 0s 6ms/step - loss: 0.6697 - acc: 0.9167\n",
            "Epoch 18/50\n",
            "1/1 [==============================] - 0s 6ms/step - loss: 0.6679 - acc: 0.8333\n",
            "Epoch 19/50\n",
            "1/1 [==============================] - 0s 6ms/step - loss: 0.6661 - acc: 0.8333\n",
            "Epoch 20/50\n",
            "1/1 [==============================] - 0s 6ms/step - loss: 0.6643 - acc: 0.8333\n",
            "Epoch 21/50\n",
            "1/1 [==============================] - 0s 7ms/step - loss: 0.6626 - acc: 0.8333\n",
            "Epoch 22/50\n",
            "1/1 [==============================] - 0s 6ms/step - loss: 0.6608 - acc: 0.8333\n",
            "Epoch 23/50\n",
            "1/1 [==============================] - 0s 6ms/step - loss: 0.6590 - acc: 0.8333\n",
            "Epoch 24/50\n",
            "1/1 [==============================] - 0s 13ms/step - loss: 0.6572 - acc: 0.9167\n",
            "Epoch 25/50\n",
            "1/1 [==============================] - 0s 6ms/step - loss: 0.6554 - acc: 0.9167\n",
            "Epoch 26/50\n",
            "1/1 [==============================] - 0s 6ms/step - loss: 0.6535 - acc: 0.9167\n",
            "Epoch 27/50\n",
            "1/1 [==============================] - 0s 6ms/step - loss: 0.6517 - acc: 0.9167\n",
            "Epoch 28/50\n",
            "1/1 [==============================] - 0s 6ms/step - loss: 0.6499 - acc: 0.9167\n",
            "Epoch 29/50\n",
            "1/1 [==============================] - 0s 6ms/step - loss: 0.6481 - acc: 0.9167\n",
            "Epoch 30/50\n",
            "1/1 [==============================] - 0s 7ms/step - loss: 0.6462 - acc: 0.9167\n",
            "Epoch 31/50\n",
            "1/1 [==============================] - 0s 7ms/step - loss: 0.6444 - acc: 0.8333\n",
            "Epoch 32/50\n",
            "1/1 [==============================] - 0s 6ms/step - loss: 0.6425 - acc: 0.8333\n",
            "Epoch 33/50\n",
            "1/1 [==============================] - 0s 7ms/step - loss: 0.6407 - acc: 0.8333\n",
            "Epoch 34/50\n",
            "1/1 [==============================] - 0s 7ms/step - loss: 0.6388 - acc: 0.8333\n",
            "Epoch 35/50\n",
            "1/1 [==============================] - 0s 6ms/step - loss: 0.6369 - acc: 0.8333\n",
            "Epoch 36/50\n",
            "1/1 [==============================] - 0s 7ms/step - loss: 0.6350 - acc: 0.8333\n",
            "Epoch 37/50\n",
            "1/1 [==============================] - 0s 11ms/step - loss: 0.6331 - acc: 0.8333\n",
            "Epoch 38/50\n",
            "1/1 [==============================] - 0s 7ms/step - loss: 0.6312 - acc: 0.8333\n",
            "Epoch 39/50\n",
            "1/1 [==============================] - 0s 8ms/step - loss: 0.6293 - acc: 0.8333\n",
            "Epoch 40/50\n",
            "1/1 [==============================] - 0s 9ms/step - loss: 0.6274 - acc: 0.8333\n",
            "Epoch 41/50\n",
            "1/1 [==============================] - 0s 8ms/step - loss: 0.6254 - acc: 0.8333\n",
            "Epoch 42/50\n",
            "1/1 [==============================] - 0s 9ms/step - loss: 0.6235 - acc: 0.8333\n",
            "Epoch 43/50\n",
            "1/1 [==============================] - 0s 10ms/step - loss: 0.6215 - acc: 0.8333\n",
            "Epoch 44/50\n",
            "1/1 [==============================] - 0s 6ms/step - loss: 0.6196 - acc: 0.9167\n",
            "Epoch 45/50\n",
            "1/1 [==============================] - 0s 8ms/step - loss: 0.6176 - acc: 0.9167\n",
            "Epoch 46/50\n",
            "1/1 [==============================] - 0s 9ms/step - loss: 0.6156 - acc: 0.9167\n",
            "Epoch 47/50\n",
            "1/1 [==============================] - 0s 9ms/step - loss: 0.6136 - acc: 0.9167\n",
            "Epoch 48/50\n",
            "1/1 [==============================] - 0s 8ms/step - loss: 0.6116 - acc: 0.9167\n",
            "Epoch 49/50\n",
            "1/1 [==============================] - 0s 7ms/step - loss: 0.6096 - acc: 0.9167\n",
            "Epoch 50/50\n",
            "1/1 [==============================] - 0s 13ms/step - loss: 0.6076 - acc: 0.9167\n"
          ]
        },
        {
          "output_type": "execute_result",
          "data": {
            "text/plain": [
              "<keras.callbacks.History at 0x7f97f4b84b90>"
            ]
          },
          "metadata": {},
          "execution_count": 30
        }
      ]
    },
    {
      "cell_type": "code",
      "source": [
        "loss, accuracy = model.evaluate(padded_sentences, sentiments, verbose=0)\n",
        "print('Accuracy: %f' % (accuracy*100))"
      ],
      "metadata": {
        "colab": {
          "base_uri": "https://localhost:8080/"
        },
        "id": "FqtenMkNDCGT",
        "outputId": "ab482787-b503-4d92-efdd-94fad07b01c6"
      },
      "execution_count": 31,
      "outputs": [
        {
          "output_type": "stream",
          "name": "stdout",
          "text": [
            "Accuracy: 91.666669\n"
          ]
        }
      ]
    },
    {
      "cell_type": "markdown",
      "source": [
        "## What are your conclusions about the model?\n",
        "The accuracy improved with each epoch and the loss function decreased which means the model is a good fit."
      ],
      "metadata": {
        "id": "oFGBGRDpD8Yu"
      }
    },
    {
      "cell_type": "markdown",
      "source": [
        "### Exercise 2"
      ],
      "metadata": {
        "id": "Pes2JOr9Erxp"
      }
    },
    {
      "cell_type": "code",
      "source": [
        "import numpy as np \n",
        "import pandas as pd \n",
        "pd.set_option('display.max_colwidth', -1)\n",
        "from time import time\n",
        "import re\n",
        "import string\n",
        "import os\n",
        "import emoji\n",
        "from pprint import pprint\n",
        "import collections\n",
        "import matplotlib.pyplot as plt\n",
        "import seaborn as sns\n",
        "sns.set(style=\"darkgrid\")\n",
        "sns.set(font_scale=1.3)\n",
        "from sklearn.base import BaseEstimator, TransformerMixin\n",
        "from sklearn.feature_extraction.text import CountVectorizer\n",
        "from sklearn.feature_extraction.text import TfidfVectorizer\n",
        "from sklearn.model_selection import train_test_split\n",
        "from sklearn.pipeline import Pipeline, FeatureUnion\n",
        "from sklearn import metrics \n",
        "from sklearn.metrics import classification_report\n",
        "from sklearn.naive_bayes import MultinomialNB\n",
        "from sklearn.linear_model import LogisticRegression\n",
        "# from sklearn.externals import joblib\n",
        "import gensim\n",
        "from nltk.corpus import stopwords\n",
        "from nltk.stem import PorterStemmer\n",
        "from nltk.tokenize import word_tokenize\n",
        "\n",
        "from tensorflow.keras.preprocessing.text import Tokenizer\n",
        "from tensorflow.keras.preprocessing.sequence import pad_sequences\n",
        "\n",
        "from sklearn.ensemble import RandomForestClassifier\n",
        "from sklearn.metrics import classification_report,accuracy_score,f1_score, confusion_matrix\n",
        "\n",
        "import warnings\n",
        "warnings.filterwarnings('ignore')\n",
        "np.random.seed(37)"
      ],
      "metadata": {
        "id": "CJVKP1NODTCU"
      },
      "execution_count": 49,
      "outputs": []
    },
    {
      "cell_type": "code",
      "source": [
        "df = pd.read_csv('https://raw.githubusercontent.com/ajitjadhav10/UMBC/main/DATA%20690%20NLP/Data%20files/Tweets.csv')\n"
      ],
      "metadata": {
        "id": "B0LkebcCECft"
      },
      "execution_count": 10,
      "outputs": []
    },
    {
      "cell_type": "code",
      "source": [
        "# Take a look at the first five rows\n",
        "df.head()"
      ],
      "metadata": {
        "colab": {
          "base_uri": "https://localhost:8080/",
          "height": 687
        },
        "id": "13UadQJxFUCF",
        "outputId": "2f16940d-89ef-4431-9f06-509ef93d52d7"
      },
      "execution_count": 11,
      "outputs": [
        {
          "output_type": "execute_result",
          "data": {
            "text/plain": [
              "             tweet_id airline_sentiment  airline_sentiment_confidence  \\\n",
              "0  570306133677760513  neutral           1.0000                         \n",
              "1  570301130888122368  positive          0.3486                         \n",
              "2  570301083672813571  neutral           0.6837                         \n",
              "3  570301031407624196  negative          1.0000                         \n",
              "4  570300817074462722  negative          1.0000                         \n",
              "\n",
              "  negativereason  negativereason_confidence         airline  \\\n",
              "0  NaN           NaN                         Virgin America   \n",
              "1  NaN            0.0000                     Virgin America   \n",
              "2  NaN           NaN                         Virgin America   \n",
              "3  Bad Flight     0.7033                     Virgin America   \n",
              "4  Can't Tell     1.0000                     Virgin America   \n",
              "\n",
              "  airline_sentiment_gold        name negativereason_gold  retweet_count  \\\n",
              "0  NaN                    cairdin     NaN                 0               \n",
              "1  NaN                    jnardino    NaN                 0               \n",
              "2  NaN                    yvonnalynn  NaN                 0               \n",
              "3  NaN                    jnardino    NaN                 0               \n",
              "4  NaN                    jnardino    NaN                 0               \n",
              "\n",
              "                                                                                                                             text  \\\n",
              "0  @VirginAmerica What @dhepburn said.                                                                                              \n",
              "1  @VirginAmerica plus you've added commercials to the experience... tacky.                                                         \n",
              "2  @VirginAmerica I didn't today... Must mean I need to take another trip!                                                          \n",
              "3  @VirginAmerica it's really aggressive to blast obnoxious \"entertainment\" in your guests' faces &amp; they have little recourse   \n",
              "4  @VirginAmerica and it's a really big bad thing about it                                                                          \n",
              "\n",
              "  tweet_coord              tweet_created tweet_location  \\\n",
              "0  NaN         2015-02-24 11:35:52 -0800  NaN             \n",
              "1  NaN         2015-02-24 11:15:59 -0800  NaN             \n",
              "2  NaN         2015-02-24 11:15:48 -0800  Lets Play       \n",
              "3  NaN         2015-02-24 11:15:36 -0800  NaN             \n",
              "4  NaN         2015-02-24 11:14:45 -0800  NaN             \n",
              "\n",
              "                user_timezone  \n",
              "0  Eastern Time (US & Canada)  \n",
              "1  Pacific Time (US & Canada)  \n",
              "2  Central Time (US & Canada)  \n",
              "3  Pacific Time (US & Canada)  \n",
              "4  Pacific Time (US & Canada)  "
            ],
            "text/html": [
              "\n",
              "  <div id=\"df-b4437593-4530-443f-95fd-a0d430a4df10\">\n",
              "    <div class=\"colab-df-container\">\n",
              "      <div>\n",
              "<style scoped>\n",
              "    .dataframe tbody tr th:only-of-type {\n",
              "        vertical-align: middle;\n",
              "    }\n",
              "\n",
              "    .dataframe tbody tr th {\n",
              "        vertical-align: top;\n",
              "    }\n",
              "\n",
              "    .dataframe thead th {\n",
              "        text-align: right;\n",
              "    }\n",
              "</style>\n",
              "<table border=\"1\" class=\"dataframe\">\n",
              "  <thead>\n",
              "    <tr style=\"text-align: right;\">\n",
              "      <th></th>\n",
              "      <th>tweet_id</th>\n",
              "      <th>airline_sentiment</th>\n",
              "      <th>airline_sentiment_confidence</th>\n",
              "      <th>negativereason</th>\n",
              "      <th>negativereason_confidence</th>\n",
              "      <th>airline</th>\n",
              "      <th>airline_sentiment_gold</th>\n",
              "      <th>name</th>\n",
              "      <th>negativereason_gold</th>\n",
              "      <th>retweet_count</th>\n",
              "      <th>text</th>\n",
              "      <th>tweet_coord</th>\n",
              "      <th>tweet_created</th>\n",
              "      <th>tweet_location</th>\n",
              "      <th>user_timezone</th>\n",
              "    </tr>\n",
              "  </thead>\n",
              "  <tbody>\n",
              "    <tr>\n",
              "      <th>0</th>\n",
              "      <td>570306133677760513</td>\n",
              "      <td>neutral</td>\n",
              "      <td>1.0000</td>\n",
              "      <td>NaN</td>\n",
              "      <td>NaN</td>\n",
              "      <td>Virgin America</td>\n",
              "      <td>NaN</td>\n",
              "      <td>cairdin</td>\n",
              "      <td>NaN</td>\n",
              "      <td>0</td>\n",
              "      <td>@VirginAmerica What @dhepburn said.</td>\n",
              "      <td>NaN</td>\n",
              "      <td>2015-02-24 11:35:52 -0800</td>\n",
              "      <td>NaN</td>\n",
              "      <td>Eastern Time (US &amp; Canada)</td>\n",
              "    </tr>\n",
              "    <tr>\n",
              "      <th>1</th>\n",
              "      <td>570301130888122368</td>\n",
              "      <td>positive</td>\n",
              "      <td>0.3486</td>\n",
              "      <td>NaN</td>\n",
              "      <td>0.0000</td>\n",
              "      <td>Virgin America</td>\n",
              "      <td>NaN</td>\n",
              "      <td>jnardino</td>\n",
              "      <td>NaN</td>\n",
              "      <td>0</td>\n",
              "      <td>@VirginAmerica plus you've added commercials to the experience... tacky.</td>\n",
              "      <td>NaN</td>\n",
              "      <td>2015-02-24 11:15:59 -0800</td>\n",
              "      <td>NaN</td>\n",
              "      <td>Pacific Time (US &amp; Canada)</td>\n",
              "    </tr>\n",
              "    <tr>\n",
              "      <th>2</th>\n",
              "      <td>570301083672813571</td>\n",
              "      <td>neutral</td>\n",
              "      <td>0.6837</td>\n",
              "      <td>NaN</td>\n",
              "      <td>NaN</td>\n",
              "      <td>Virgin America</td>\n",
              "      <td>NaN</td>\n",
              "      <td>yvonnalynn</td>\n",
              "      <td>NaN</td>\n",
              "      <td>0</td>\n",
              "      <td>@VirginAmerica I didn't today... Must mean I need to take another trip!</td>\n",
              "      <td>NaN</td>\n",
              "      <td>2015-02-24 11:15:48 -0800</td>\n",
              "      <td>Lets Play</td>\n",
              "      <td>Central Time (US &amp; Canada)</td>\n",
              "    </tr>\n",
              "    <tr>\n",
              "      <th>3</th>\n",
              "      <td>570301031407624196</td>\n",
              "      <td>negative</td>\n",
              "      <td>1.0000</td>\n",
              "      <td>Bad Flight</td>\n",
              "      <td>0.7033</td>\n",
              "      <td>Virgin America</td>\n",
              "      <td>NaN</td>\n",
              "      <td>jnardino</td>\n",
              "      <td>NaN</td>\n",
              "      <td>0</td>\n",
              "      <td>@VirginAmerica it's really aggressive to blast obnoxious \"entertainment\" in your guests' faces &amp;amp; they have little recourse</td>\n",
              "      <td>NaN</td>\n",
              "      <td>2015-02-24 11:15:36 -0800</td>\n",
              "      <td>NaN</td>\n",
              "      <td>Pacific Time (US &amp; Canada)</td>\n",
              "    </tr>\n",
              "    <tr>\n",
              "      <th>4</th>\n",
              "      <td>570300817074462722</td>\n",
              "      <td>negative</td>\n",
              "      <td>1.0000</td>\n",
              "      <td>Can't Tell</td>\n",
              "      <td>1.0000</td>\n",
              "      <td>Virgin America</td>\n",
              "      <td>NaN</td>\n",
              "      <td>jnardino</td>\n",
              "      <td>NaN</td>\n",
              "      <td>0</td>\n",
              "      <td>@VirginAmerica and it's a really big bad thing about it</td>\n",
              "      <td>NaN</td>\n",
              "      <td>2015-02-24 11:14:45 -0800</td>\n",
              "      <td>NaN</td>\n",
              "      <td>Pacific Time (US &amp; Canada)</td>\n",
              "    </tr>\n",
              "  </tbody>\n",
              "</table>\n",
              "</div>\n",
              "      <button class=\"colab-df-convert\" onclick=\"convertToInteractive('df-b4437593-4530-443f-95fd-a0d430a4df10')\"\n",
              "              title=\"Convert this dataframe to an interactive table.\"\n",
              "              style=\"display:none;\">\n",
              "        \n",
              "  <svg xmlns=\"http://www.w3.org/2000/svg\" height=\"24px\"viewBox=\"0 0 24 24\"\n",
              "       width=\"24px\">\n",
              "    <path d=\"M0 0h24v24H0V0z\" fill=\"none\"/>\n",
              "    <path d=\"M18.56 5.44l.94 2.06.94-2.06 2.06-.94-2.06-.94-.94-2.06-.94 2.06-2.06.94zm-11 1L8.5 8.5l.94-2.06 2.06-.94-2.06-.94L8.5 2.5l-.94 2.06-2.06.94zm10 10l.94 2.06.94-2.06 2.06-.94-2.06-.94-.94-2.06-.94 2.06-2.06.94z\"/><path d=\"M17.41 7.96l-1.37-1.37c-.4-.4-.92-.59-1.43-.59-.52 0-1.04.2-1.43.59L10.3 9.45l-7.72 7.72c-.78.78-.78 2.05 0 2.83L4 21.41c.39.39.9.59 1.41.59.51 0 1.02-.2 1.41-.59l7.78-7.78 2.81-2.81c.8-.78.8-2.07 0-2.86zM5.41 20L4 18.59l7.72-7.72 1.47 1.35L5.41 20z\"/>\n",
              "  </svg>\n",
              "      </button>\n",
              "      \n",
              "  <style>\n",
              "    .colab-df-container {\n",
              "      display:flex;\n",
              "      flex-wrap:wrap;\n",
              "      gap: 12px;\n",
              "    }\n",
              "\n",
              "    .colab-df-convert {\n",
              "      background-color: #E8F0FE;\n",
              "      border: none;\n",
              "      border-radius: 50%;\n",
              "      cursor: pointer;\n",
              "      display: none;\n",
              "      fill: #1967D2;\n",
              "      height: 32px;\n",
              "      padding: 0 0 0 0;\n",
              "      width: 32px;\n",
              "    }\n",
              "\n",
              "    .colab-df-convert:hover {\n",
              "      background-color: #E2EBFA;\n",
              "      box-shadow: 0px 1px 2px rgba(60, 64, 67, 0.3), 0px 1px 3px 1px rgba(60, 64, 67, 0.15);\n",
              "      fill: #174EA6;\n",
              "    }\n",
              "\n",
              "    [theme=dark] .colab-df-convert {\n",
              "      background-color: #3B4455;\n",
              "      fill: #D2E3FC;\n",
              "    }\n",
              "\n",
              "    [theme=dark] .colab-df-convert:hover {\n",
              "      background-color: #434B5C;\n",
              "      box-shadow: 0px 1px 3px 1px rgba(0, 0, 0, 0.15);\n",
              "      filter: drop-shadow(0px 1px 2px rgba(0, 0, 0, 0.3));\n",
              "      fill: #FFFFFF;\n",
              "    }\n",
              "  </style>\n",
              "\n",
              "      <script>\n",
              "        const buttonEl =\n",
              "          document.querySelector('#df-b4437593-4530-443f-95fd-a0d430a4df10 button.colab-df-convert');\n",
              "        buttonEl.style.display =\n",
              "          google.colab.kernel.accessAllowed ? 'block' : 'none';\n",
              "\n",
              "        async function convertToInteractive(key) {\n",
              "          const element = document.querySelector('#df-b4437593-4530-443f-95fd-a0d430a4df10');\n",
              "          const dataTable =\n",
              "            await google.colab.kernel.invokeFunction('convertToInteractive',\n",
              "                                                     [key], {});\n",
              "          if (!dataTable) return;\n",
              "\n",
              "          const docLinkHtml = 'Like what you see? Visit the ' +\n",
              "            '<a target=\"_blank\" href=https://colab.research.google.com/notebooks/data_table.ipynb>data table notebook</a>'\n",
              "            + ' to learn more about interactive tables.';\n",
              "          element.innerHTML = '';\n",
              "          dataTable['output_type'] = 'display_data';\n",
              "          await google.colab.output.renderOutput(dataTable, element);\n",
              "          const docLink = document.createElement('div');\n",
              "          docLink.innerHTML = docLinkHtml;\n",
              "          element.appendChild(docLink);\n",
              "        }\n",
              "      </script>\n",
              "    </div>\n",
              "  </div>\n",
              "  "
            ]
          },
          "metadata": {},
          "execution_count": 11
        }
      ]
    },
    {
      "cell_type": "code",
      "source": [
        "# Plot the shares of airlines mentioned in the data.\n",
        "sns.factorplot(x=\"airline\", data=df, kind=\"count\", size=6, aspect=1.5, palette=\"PuBuGn_d\")\n",
        "plt.show();"
      ],
      "metadata": {
        "colab": {
          "base_uri": "https://localhost:8080/",
          "height": 429
        },
        "id": "V7GsQU3tFp0-",
        "outputId": "759c8318-5f26-4cf8-9a88-0da67aaaaca8"
      },
      "execution_count": 12,
      "outputs": [
        {
          "output_type": "display_data",
          "data": {
            "text/plain": [
              "<Figure size 648x432 with 1 Axes>"
            ],
            "image/png": "[encoded data removed]"
          },
          "metadata": {}
        }
      ]
    },
    {
      "cell_type": "code",
      "source": [
        "# Plot the percentage of positive, negative, and neutral sentiments.\n"
      ],
      "metadata": {
        "id": "L9LDMGyLGBa1"
      },
      "execution_count": 22,
      "outputs": []
    },
    {
      "cell_type": "code",
      "source": [
        "df1=df.groupby(['airline_sentiment','airline']).size().reset_index(name='count')\n",
        "df1.head()"
      ],
      "metadata": {
        "colab": {
          "base_uri": "https://localhost:8080/",
          "height": 206
        },
        "id": "nPbu31h2Ki4l",
        "outputId": "ceb9ac79-9219-48ae-f5ef-aa74f6d56a3a"
      },
      "execution_count": 14,
      "outputs": [
        {
          "output_type": "execute_result",
          "data": {
            "text/plain": [
              "  airline_sentiment     airline  count\n",
              "0  negative          American    1960 \n",
              "1  negative          Delta       955  \n",
              "2  negative          Southwest   1186 \n",
              "3  negative          US Airways  2263 \n",
              "4  negative          United      2633 "
            ],
            "text/html": [
              "\n",
              "  <div id=\"df-aeb56271-beae-4fa3-b300-5f159a91b345\">\n",
              "    <div class=\"colab-df-container\">\n",
              "      <div>\n",
              "<style scoped>\n",
              "    .dataframe tbody tr th:only-of-type {\n",
              "        vertical-align: middle;\n",
              "    }\n",
              "\n",
              "    .dataframe tbody tr th {\n",
              "        vertical-align: top;\n",
              "    }\n",
              "\n",
              "    .dataframe thead th {\n",
              "        text-align: right;\n",
              "    }\n",
              "</style>\n",
              "<table border=\"1\" class=\"dataframe\">\n",
              "  <thead>\n",
              "    <tr style=\"text-align: right;\">\n",
              "      <th></th>\n",
              "      <th>airline_sentiment</th>\n",
              "      <th>airline</th>\n",
              "      <th>count</th>\n",
              "    </tr>\n",
              "  </thead>\n",
              "  <tbody>\n",
              "    <tr>\n",
              "      <th>0</th>\n",
              "      <td>negative</td>\n",
              "      <td>American</td>\n",
              "      <td>1960</td>\n",
              "    </tr>\n",
              "    <tr>\n",
              "      <th>1</th>\n",
              "      <td>negative</td>\n",
              "      <td>Delta</td>\n",
              "      <td>955</td>\n",
              "    </tr>\n",
              "    <tr>\n",
              "      <th>2</th>\n",
              "      <td>negative</td>\n",
              "      <td>Southwest</td>\n",
              "      <td>1186</td>\n",
              "    </tr>\n",
              "    <tr>\n",
              "      <th>3</th>\n",
              "      <td>negative</td>\n",
              "      <td>US Airways</td>\n",
              "      <td>2263</td>\n",
              "    </tr>\n",
              "    <tr>\n",
              "      <th>4</th>\n",
              "      <td>negative</td>\n",
              "      <td>United</td>\n",
              "      <td>2633</td>\n",
              "    </tr>\n",
              "  </tbody>\n",
              "</table>\n",
              "</div>\n",
              "      <button class=\"colab-df-convert\" onclick=\"convertToInteractive('df-aeb56271-beae-4fa3-b300-5f159a91b345')\"\n",
              "              title=\"Convert this dataframe to an interactive table.\"\n",
              "              style=\"display:none;\">\n",
              "        \n",
              "  <svg xmlns=\"http://www.w3.org/2000/svg\" height=\"24px\"viewBox=\"0 0 24 24\"\n",
              "       width=\"24px\">\n",
              "    <path d=\"M0 0h24v24H0V0z\" fill=\"none\"/>\n",
              "    <path d=\"M18.56 5.44l.94 2.06.94-2.06 2.06-.94-2.06-.94-.94-2.06-.94 2.06-2.06.94zm-11 1L8.5 8.5l.94-2.06 2.06-.94-2.06-.94L8.5 2.5l-.94 2.06-2.06.94zm10 10l.94 2.06.94-2.06 2.06-.94-2.06-.94-.94-2.06-.94 2.06-2.06.94z\"/><path d=\"M17.41 7.96l-1.37-1.37c-.4-.4-.92-.59-1.43-.59-.52 0-1.04.2-1.43.59L10.3 9.45l-7.72 7.72c-.78.78-.78 2.05 0 2.83L4 21.41c.39.39.9.59 1.41.59.51 0 1.02-.2 1.41-.59l7.78-7.78 2.81-2.81c.8-.78.8-2.07 0-2.86zM5.41 20L4 18.59l7.72-7.72 1.47 1.35L5.41 20z\"/>\n",
              "  </svg>\n",
              "      </button>\n",
              "      \n",
              "  <style>\n",
              "    .colab-df-container {\n",
              "      display:flex;\n",
              "      flex-wrap:wrap;\n",
              "      gap: 12px;\n",
              "    }\n",
              "\n",
              "    .colab-df-convert {\n",
              "      background-color: #E8F0FE;\n",
              "      border: none;\n",
              "      border-radius: 50%;\n",
              "      cursor: pointer;\n",
              "      display: none;\n",
              "      fill: #1967D2;\n",
              "      height: 32px;\n",
              "      padding: 0 0 0 0;\n",
              "      width: 32px;\n",
              "    }\n",
              "\n",
              "    .colab-df-convert:hover {\n",
              "      background-color: #E2EBFA;\n",
              "      box-shadow: 0px 1px 2px rgba(60, 64, 67, 0.3), 0px 1px 3px 1px rgba(60, 64, 67, 0.15);\n",
              "      fill: #174EA6;\n",
              "    }\n",
              "\n",
              "    [theme=dark] .colab-df-convert {\n",
              "      background-color: #3B4455;\n",
              "      fill: #D2E3FC;\n",
              "    }\n",
              "\n",
              "    [theme=dark] .colab-df-convert:hover {\n",
              "      background-color: #434B5C;\n",
              "      box-shadow: 0px 1px 3px 1px rgba(0, 0, 0, 0.15);\n",
              "      filter: drop-shadow(0px 1px 2px rgba(0, 0, 0, 0.3));\n",
              "      fill: #FFFFFF;\n",
              "    }\n",
              "  </style>\n",
              "\n",
              "      <script>\n",
              "        const buttonEl =\n",
              "          document.querySelector('#df-aeb56271-beae-4fa3-b300-5f159a91b345 button.colab-df-convert');\n",
              "        buttonEl.style.display =\n",
              "          google.colab.kernel.accessAllowed ? 'block' : 'none';\n",
              "\n",
              "        async function convertToInteractive(key) {\n",
              "          const element = document.querySelector('#df-aeb56271-beae-4fa3-b300-5f159a91b345');\n",
              "          const dataTable =\n",
              "            await google.colab.kernel.invokeFunction('convertToInteractive',\n",
              "                                                     [key], {});\n",
              "          if (!dataTable) return;\n",
              "\n",
              "          const docLinkHtml = 'Like what you see? Visit the ' +\n",
              "            '<a target=\"_blank\" href=https://colab.research.google.com/notebooks/data_table.ipynb>data table notebook</a>'\n",
              "            + ' to learn more about interactive tables.';\n",
              "          element.innerHTML = '';\n",
              "          dataTable['output_type'] = 'display_data';\n",
              "          await google.colab.output.renderOutput(dataTable, element);\n",
              "          const docLink = document.createElement('div');\n",
              "          docLink.innerHTML = docLinkHtml;\n",
              "          element.appendChild(docLink);\n",
              "        }\n",
              "      </script>\n",
              "    </div>\n",
              "  </div>\n",
              "  "
            ]
          },
          "metadata": {},
          "execution_count": 14
        }
      ]
    },
    {
      "cell_type": "code",
      "source": [
        "total_cnt=df1['count'].sum()\n",
        "total_cnt"
      ],
      "metadata": {
        "colab": {
          "base_uri": "https://localhost:8080/"
        },
        "id": "2LtHI8mnK7Dg",
        "outputId": "1eed275e-85a8-45f1-9540-27f0890926a1"
      },
      "execution_count": 15,
      "outputs": [
        {
          "output_type": "execute_result",
          "data": {
            "text/plain": [
              "14640"
            ]
          },
          "metadata": {},
          "execution_count": 15
        }
      ]
    },
    {
      "cell_type": "code",
      "source": [
        "percnt = []\n",
        " \n",
        "for i in range(df1.shape[0]):\n",
        "  pct = (df1['count'][i] / total_cnt) * 100\n",
        "  percnt.append(round(pct, 2))\n",
        " \n",
        "# display percentage\n",
        "print(percnt)\n",
        " \n",
        "# display data\n",
        "df1['Percentage'] = percnt\n",
        "display(df1)"
      ],
      "metadata": {
        "colab": {
          "base_uri": "https://localhost:8080/",
          "height": 632
        },
        "id": "hDtEEKLbIelY",
        "outputId": "3da0352d-095a-4d87-f52a-ee31cda64f6e"
      },
      "execution_count": 16,
      "outputs": [
        {
          "output_type": "stream",
          "name": "stdout",
          "text": [
            "[13.39, 6.52, 8.1, 15.46, 17.98, 1.24, 3.16, 4.94, 4.54, 2.6, 4.76, 1.17, 2.3, 3.72, 3.89, 1.84, 3.36, 1.04]\n"
          ]
        },
        {
          "output_type": "display_data",
          "data": {
            "text/plain": [
              "   airline_sentiment         airline  count  Percentage\n",
              "0   negative          American        1960   13.39     \n",
              "1   negative          Delta           955    6.52      \n",
              "2   negative          Southwest       1186   8.10      \n",
              "3   negative          US Airways      2263   15.46     \n",
              "4   negative          United          2633   17.98     \n",
              "5   negative          Virgin America  181    1.24      \n",
              "6   neutral           American        463    3.16      \n",
              "7   neutral           Delta           723    4.94      \n",
              "8   neutral           Southwest       664    4.54      \n",
              "9   neutral           US Airways      381    2.60      \n",
              "10  neutral           United          697    4.76      \n",
              "11  neutral           Virgin America  171    1.17      \n",
              "12  positive          American        336    2.30      \n",
              "13  positive          Delta           544    3.72      \n",
              "14  positive          Southwest       570    3.89      \n",
              "15  positive          US Airways      269    1.84      \n",
              "16  positive          United          492    3.36      \n",
              "17  positive          Virgin America  152    1.04      "
            ],
            "text/html": [
              "\n",
              "  <div id=\"df-88753963-0ff4-41e0-a7de-97c2bc08216b\">\n",
              "    <div class=\"colab-df-container\">\n",
              "      <div>\n",
              "<style scoped>\n",
              "    .dataframe tbody tr th:only-of-type {\n",
              "        vertical-align: middle;\n",
              "    }\n",
              "\n",
              "    .dataframe tbody tr th {\n",
              "        vertical-align: top;\n",
              "    }\n",
              "\n",
              "    .dataframe thead th {\n",
              "        text-align: right;\n",
              "    }\n",
              "</style>\n",
              "<table border=\"1\" class=\"dataframe\">\n",
              "  <thead>\n",
              "    <tr style=\"text-align: right;\">\n",
              "      <th></th>\n",
              "      <th>airline_sentiment</th>\n",
              "      <th>airline</th>\n",
              "      <th>count</th>\n",
              "      <th>Percentage</th>\n",
              "    </tr>\n",
              "  </thead>\n",
              "  <tbody>\n",
              "    <tr>\n",
              "      <th>0</th>\n",
              "      <td>negative</td>\n",
              "      <td>American</td>\n",
              "      <td>1960</td>\n",
              "      <td>13.39</td>\n",
              "    </tr>\n",
              "    <tr>\n",
              "      <th>1</th>\n",
              "      <td>negative</td>\n",
              "      <td>Delta</td>\n",
              "      <td>955</td>\n",
              "      <td>6.52</td>\n",
              "    </tr>\n",
              "    <tr>\n",
              "      <th>2</th>\n",
              "      <td>negative</td>\n",
              "      <td>Southwest</td>\n",
              "      <td>1186</td>\n",
              "      <td>8.10</td>\n",
              "    </tr>\n",
              "    <tr>\n",
              "      <th>3</th>\n",
              "      <td>negative</td>\n",
              "      <td>US Airways</td>\n",
              "      <td>2263</td>\n",
              "      <td>15.46</td>\n",
              "    </tr>\n",
              "    <tr>\n",
              "      <th>4</th>\n",
              "      <td>negative</td>\n",
              "      <td>United</td>\n",
              "      <td>2633</td>\n",
              "      <td>17.98</td>\n",
              "    </tr>\n",
              "    <tr>\n",
              "      <th>5</th>\n",
              "      <td>negative</td>\n",
              "      <td>Virgin America</td>\n",
              "      <td>181</td>\n",
              "      <td>1.24</td>\n",
              "    </tr>\n",
              "    <tr>\n",
              "      <th>6</th>\n",
              "      <td>neutral</td>\n",
              "      <td>American</td>\n",
              "      <td>463</td>\n",
              "      <td>3.16</td>\n",
              "    </tr>\n",
              "    <tr>\n",
              "      <th>7</th>\n",
              "      <td>neutral</td>\n",
              "      <td>Delta</td>\n",
              "      <td>723</td>\n",
              "      <td>4.94</td>\n",
              "    </tr>\n",
              "    <tr>\n",
              "      <th>8</th>\n",
              "      <td>neutral</td>\n",
              "      <td>Southwest</td>\n",
              "      <td>664</td>\n",
              "      <td>4.54</td>\n",
              "    </tr>\n",
              "    <tr>\n",
              "      <th>9</th>\n",
              "      <td>neutral</td>\n",
              "      <td>US Airways</td>\n",
              "      <td>381</td>\n",
              "      <td>2.60</td>\n",
              "    </tr>\n",
              "    <tr>\n",
              "      <th>10</th>\n",
              "      <td>neutral</td>\n",
              "      <td>United</td>\n",
              "      <td>697</td>\n",
              "      <td>4.76</td>\n",
              "    </tr>\n",
              "    <tr>\n",
              "      <th>11</th>\n",
              "      <td>neutral</td>\n",
              "      <td>Virgin America</td>\n",
              "      <td>171</td>\n",
              "      <td>1.17</td>\n",
              "    </tr>\n",
              "    <tr>\n",
              "      <th>12</th>\n",
              "      <td>positive</td>\n",
              "      <td>American</td>\n",
              "      <td>336</td>\n",
              "      <td>2.30</td>\n",
              "    </tr>\n",
              "    <tr>\n",
              "      <th>13</th>\n",
              "      <td>positive</td>\n",
              "      <td>Delta</td>\n",
              "      <td>544</td>\n",
              "      <td>3.72</td>\n",
              "    </tr>\n",
              "    <tr>\n",
              "      <th>14</th>\n",
              "      <td>positive</td>\n",
              "      <td>Southwest</td>\n",
              "      <td>570</td>\n",
              "      <td>3.89</td>\n",
              "    </tr>\n",
              "    <tr>\n",
              "      <th>15</th>\n",
              "      <td>positive</td>\n",
              "      <td>US Airways</td>\n",
              "      <td>269</td>\n",
              "      <td>1.84</td>\n",
              "    </tr>\n",
              "    <tr>\n",
              "      <th>16</th>\n",
              "      <td>positive</td>\n",
              "      <td>United</td>\n",
              "      <td>492</td>\n",
              "      <td>3.36</td>\n",
              "    </tr>\n",
              "    <tr>\n",
              "      <th>17</th>\n",
              "      <td>positive</td>\n",
              "      <td>Virgin America</td>\n",
              "      <td>152</td>\n",
              "      <td>1.04</td>\n",
              "    </tr>\n",
              "  </tbody>\n",
              "</table>\n",
              "</div>\n",
              "      <button class=\"colab-df-convert\" onclick=\"convertToInteractive('df-88753963-0ff4-41e0-a7de-97c2bc08216b')\"\n",
              "              title=\"Convert this dataframe to an interactive table.\"\n",
              "              style=\"display:none;\">\n",
              "        \n",
              "  <svg xmlns=\"http://www.w3.org/2000/svg\" height=\"24px\"viewBox=\"0 0 24 24\"\n",
              "       width=\"24px\">\n",
              "    <path d=\"M0 0h24v24H0V0z\" fill=\"none\"/>\n",
              "    <path d=\"M18.56 5.44l.94 2.06.94-2.06 2.06-.94-2.06-.94-.94-2.06-.94 2.06-2.06.94zm-11 1L8.5 8.5l.94-2.06 2.06-.94-2.06-.94L8.5 2.5l-.94 2.06-2.06.94zm10 10l.94 2.06.94-2.06 2.06-.94-2.06-.94-.94-2.06-.94 2.06-2.06.94z\"/><path d=\"M17.41 7.96l-1.37-1.37c-.4-.4-.92-.59-1.43-.59-.52 0-1.04.2-1.43.59L10.3 9.45l-7.72 7.72c-.78.78-.78 2.05 0 2.83L4 21.41c.39.39.9.59 1.41.59.51 0 1.02-.2 1.41-.59l7.78-7.78 2.81-2.81c.8-.78.8-2.07 0-2.86zM5.41 20L4 18.59l7.72-7.72 1.47 1.35L5.41 20z\"/>\n",
              "  </svg>\n",
              "      </button>\n",
              "      \n",
              "  <style>\n",
              "    .colab-df-container {\n",
              "      display:flex;\n",
              "      flex-wrap:wrap;\n",
              "      gap: 12px;\n",
              "    }\n",
              "\n",
              "    .colab-df-convert {\n",
              "      background-color: #E8F0FE;\n",
              "      border: none;\n",
              "      border-radius: 50%;\n",
              "      cursor: pointer;\n",
              "      display: none;\n",
              "      fill: #1967D2;\n",
              "      height: 32px;\n",
              "      padding: 0 0 0 0;\n",
              "      width: 32px;\n",
              "    }\n",
              "\n",
              "    .colab-df-convert:hover {\n",
              "      background-color: #E2EBFA;\n",
              "      box-shadow: 0px 1px 2px rgba(60, 64, 67, 0.3), 0px 1px 3px 1px rgba(60, 64, 67, 0.15);\n",
              "      fill: #174EA6;\n",
              "    }\n",
              "\n",
              "    [theme=dark] .colab-df-convert {\n",
              "      background-color: #3B4455;\n",
              "      fill: #D2E3FC;\n",
              "    }\n",
              "\n",
              "    [theme=dark] .colab-df-convert:hover {\n",
              "      background-color: #434B5C;\n",
              "      box-shadow: 0px 1px 3px 1px rgba(0, 0, 0, 0.15);\n",
              "      filter: drop-shadow(0px 1px 2px rgba(0, 0, 0, 0.3));\n",
              "      fill: #FFFFFF;\n",
              "    }\n",
              "  </style>\n",
              "\n",
              "      <script>\n",
              "        const buttonEl =\n",
              "          document.querySelector('#df-88753963-0ff4-41e0-a7de-97c2bc08216b button.colab-df-convert');\n",
              "        buttonEl.style.display =\n",
              "          google.colab.kernel.accessAllowed ? 'block' : 'none';\n",
              "\n",
              "        async function convertToInteractive(key) {\n",
              "          const element = document.querySelector('#df-88753963-0ff4-41e0-a7de-97c2bc08216b');\n",
              "          const dataTable =\n",
              "            await google.colab.kernel.invokeFunction('convertToInteractive',\n",
              "                                                     [key], {});\n",
              "          if (!dataTable) return;\n",
              "\n",
              "          const docLinkHtml = 'Like what you see? Visit the ' +\n",
              "            '<a target=\"_blank\" href=https://colab.research.google.com/notebooks/data_table.ipynb>data table notebook</a>'\n",
              "            + ' to learn more about interactive tables.';\n",
              "          element.innerHTML = '';\n",
              "          dataTable['output_type'] = 'display_data';\n",
              "          await google.colab.output.renderOutput(dataTable, element);\n",
              "          const docLink = document.createElement('div');\n",
              "          docLink.innerHTML = docLinkHtml;\n",
              "          element.appendChild(docLink);\n",
              "        }\n",
              "      </script>\n",
              "    </div>\n",
              "  </div>\n",
              "  "
            ]
          },
          "metadata": {}
        }
      ]
    },
    {
      "cell_type": "code",
      "source": [
        "sns.factorplot(x=\"airline\", y= \"Percentage\",data=df1, kind=\"bar\", hue=\"airline_sentiment\", size=6, aspect=1.5, palette=\"PuBuGn_d\")\n",
        "plt.show();"
      ],
      "metadata": {
        "colab": {
          "base_uri": "https://localhost:8080/",
          "height": 429
        },
        "id": "TOjGOyMRLBBw",
        "outputId": "0a2eb551-9e47-4abe-e836-726891ff703b"
      },
      "execution_count": 17,
      "outputs": [
        {
          "output_type": "display_data",
          "data": {
            "text/plain": [
              "<Figure size 795.69x432 with 1 Axes>"
            ],
            "image/png": "[encoded data removed]"
          },
          "metadata": {}
        }
      ]
    },
    {
      "cell_type": "code",
      "source": [
        "# In a bar chart, show the number of positive, negative, and neutral comments by airline.\n",
        "sns.factorplot(x=\"airline_sentiment\", data=df, kind=\"count\", size=6, aspect=1.5, palette=\"PuBuGn_d\")\n",
        "plt.show();"
      ],
      "metadata": {
        "colab": {
          "base_uri": "https://localhost:8080/",
          "height": 429
        },
        "id": "cmoGQLHMN-ti",
        "outputId": "f6973e11-b605-4f92-bb63-f02600e4a66a"
      },
      "execution_count": 24,
      "outputs": [
        {
          "output_type": "display_data",
          "data": {
            "text/plain": [
              "<Figure size 648x432 with 1 Axes>"
            ],
            "image/png": "[encoded data removed]"
          },
          "metadata": {}
        }
      ]
    },
    {
      "cell_type": "code",
      "source": [
        "# Using Seaborn, show airlines' sentiment confidence.\n",
        "sns.factorplot(x=\"airline\", y = \"airline_sentiment_confidence\",data=df, kind=\"bar\", hue=\"airline_sentiment\", size=6, aspect=1.5, palette=\"PuBuGn_d\")\n",
        "plt.show();"
      ],
      "metadata": {
        "colab": {
          "base_uri": "https://localhost:8080/",
          "height": 429
        },
        "id": "s1OPhTr6LpW4",
        "outputId": "1609601e-b0a3-4013-cc34-8e001aa32cd0"
      },
      "execution_count": 25,
      "outputs": [
        {
          "output_type": "display_data",
          "data": {
            "text/plain": [
              "<Figure size 795.69x432 with 1 Axes>"
            ],
            "image/png": "[encoded data removed]"
          },
          "metadata": {}
        }
      ]
    },
    {
      "cell_type": "code",
      "source": [
        "# Define the features and labels.\n",
        "df = df.reindex(np.random.permutation(df.index))\n",
        "df = df[['text', 'airline_sentiment']]"
      ],
      "metadata": {
        "id": "9Zp8Bh-hMcir"
      },
      "execution_count": 26,
      "outputs": []
    },
    {
      "cell_type": "code",
      "source": [
        "df.head()"
      ],
      "metadata": {
        "colab": {
          "base_uri": "https://localhost:8080/",
          "height": 285
        },
        "id": "-Oc5Z7vqXRAf",
        "outputId": "c0aae7f6-d9b7-42f4-bc12-a5c9c9b24709"
      },
      "execution_count": 27,
      "outputs": [
        {
          "output_type": "execute_result",
          "data": {
            "text/plain": [
              "                                                                                                                                         text  \\\n",
              "12614  @AmericanAir $600 Late Flightr, 2 complete itinerary changes, and lost work and time, but yeah \"I\" got it rebooked                       \n",
              "2774   @united Existing reservation is fine. I was talking about no longer having an 0600 CMH-ORD option. 0638 gets me in too Late Flight.      \n",
              "556    @united thanks again for your concern. I will contact customer care upon our return from Australia.                                      \n",
              "10103  @USAirways I packed a carry on for a reason. Thanks for making me check it. I hoped for better customer service in CLE also. #nothappy   \n",
              "7991   @JetBlue flight 691 from bos to Tampa takeoff 40 min Late Flight                                                                         \n",
              "\n",
              "      airline_sentiment  \n",
              "12614  negative          \n",
              "2774   negative          \n",
              "556    neutral           \n",
              "10103  negative          \n",
              "7991   negative          "
            ],
            "text/html": [
              "\n",
              "  <div id=\"df-de8981c7-aafe-4ab7-b8d8-64e349821b03\">\n",
              "    <div class=\"colab-df-container\">\n",
              "      <div>\n",
              "<style scoped>\n",
              "    .dataframe tbody tr th:only-of-type {\n",
              "        vertical-align: middle;\n",
              "    }\n",
              "\n",
              "    .dataframe tbody tr th {\n",
              "        vertical-align: top;\n",
              "    }\n",
              "\n",
              "    .dataframe thead th {\n",
              "        text-align: right;\n",
              "    }\n",
              "</style>\n",
              "<table border=\"1\" class=\"dataframe\">\n",
              "  <thead>\n",
              "    <tr style=\"text-align: right;\">\n",
              "      <th></th>\n",
              "      <th>text</th>\n",
              "      <th>airline_sentiment</th>\n",
              "    </tr>\n",
              "  </thead>\n",
              "  <tbody>\n",
              "    <tr>\n",
              "      <th>12614</th>\n",
              "      <td>@AmericanAir $600 Late Flightr, 2 complete itinerary changes, and lost work and time, but yeah \"I\" got it rebooked</td>\n",
              "      <td>negative</td>\n",
              "    </tr>\n",
              "    <tr>\n",
              "      <th>2774</th>\n",
              "      <td>@united Existing reservation is fine. I was talking about no longer having an 0600 CMH-ORD option. 0638 gets me in too Late Flight.</td>\n",
              "      <td>negative</td>\n",
              "    </tr>\n",
              "    <tr>\n",
              "      <th>556</th>\n",
              "      <td>@united thanks again for your concern. I will contact customer care upon our return from Australia.</td>\n",
              "      <td>neutral</td>\n",
              "    </tr>\n",
              "    <tr>\n",
              "      <th>10103</th>\n",
              "      <td>@USAirways I packed a carry on for a reason. Thanks for making me check it. I hoped for better customer service in CLE also. #nothappy</td>\n",
              "      <td>negative</td>\n",
              "    </tr>\n",
              "    <tr>\n",
              "      <th>7991</th>\n",
              "      <td>@JetBlue flight 691 from bos to Tampa takeoff 40 min Late Flight</td>\n",
              "      <td>negative</td>\n",
              "    </tr>\n",
              "  </tbody>\n",
              "</table>\n",
              "</div>\n",
              "      <button class=\"colab-df-convert\" onclick=\"convertToInteractive('df-de8981c7-aafe-4ab7-b8d8-64e349821b03')\"\n",
              "              title=\"Convert this dataframe to an interactive table.\"\n",
              "              style=\"display:none;\">\n",
              "        \n",
              "  <svg xmlns=\"http://www.w3.org/2000/svg\" height=\"24px\"viewBox=\"0 0 24 24\"\n",
              "       width=\"24px\">\n",
              "    <path d=\"M0 0h24v24H0V0z\" fill=\"none\"/>\n",
              "    <path d=\"M18.56 5.44l.94 2.06.94-2.06 2.06-.94-2.06-.94-.94-2.06-.94 2.06-2.06.94zm-11 1L8.5 8.5l.94-2.06 2.06-.94-2.06-.94L8.5 2.5l-.94 2.06-2.06.94zm10 10l.94 2.06.94-2.06 2.06-.94-2.06-.94-.94-2.06-.94 2.06-2.06.94z\"/><path d=\"M17.41 7.96l-1.37-1.37c-.4-.4-.92-.59-1.43-.59-.52 0-1.04.2-1.43.59L10.3 9.45l-7.72 7.72c-.78.78-.78 2.05 0 2.83L4 21.41c.39.39.9.59 1.41.59.51 0 1.02-.2 1.41-.59l7.78-7.78 2.81-2.81c.8-.78.8-2.07 0-2.86zM5.41 20L4 18.59l7.72-7.72 1.47 1.35L5.41 20z\"/>\n",
              "  </svg>\n",
              "      </button>\n",
              "      \n",
              "  <style>\n",
              "    .colab-df-container {\n",
              "      display:flex;\n",
              "      flex-wrap:wrap;\n",
              "      gap: 12px;\n",
              "    }\n",
              "\n",
              "    .colab-df-convert {\n",
              "      background-color: #E8F0FE;\n",
              "      border: none;\n",
              "      border-radius: 50%;\n",
              "      cursor: pointer;\n",
              "      display: none;\n",
              "      fill: #1967D2;\n",
              "      height: 32px;\n",
              "      padding: 0 0 0 0;\n",
              "      width: 32px;\n",
              "    }\n",
              "\n",
              "    .colab-df-convert:hover {\n",
              "      background-color: #E2EBFA;\n",
              "      box-shadow: 0px 1px 2px rgba(60, 64, 67, 0.3), 0px 1px 3px 1px rgba(60, 64, 67, 0.15);\n",
              "      fill: #174EA6;\n",
              "    }\n",
              "\n",
              "    [theme=dark] .colab-df-convert {\n",
              "      background-color: #3B4455;\n",
              "      fill: #D2E3FC;\n",
              "    }\n",
              "\n",
              "    [theme=dark] .colab-df-convert:hover {\n",
              "      background-color: #434B5C;\n",
              "      box-shadow: 0px 1px 3px 1px rgba(0, 0, 0, 0.15);\n",
              "      filter: drop-shadow(0px 1px 2px rgba(0, 0, 0, 0.3));\n",
              "      fill: #FFFFFF;\n",
              "    }\n",
              "  </style>\n",
              "\n",
              "      <script>\n",
              "        const buttonEl =\n",
              "          document.querySelector('#df-de8981c7-aafe-4ab7-b8d8-64e349821b03 button.colab-df-convert');\n",
              "        buttonEl.style.display =\n",
              "          google.colab.kernel.accessAllowed ? 'block' : 'none';\n",
              "\n",
              "        async function convertToInteractive(key) {\n",
              "          const element = document.querySelector('#df-de8981c7-aafe-4ab7-b8d8-64e349821b03');\n",
              "          const dataTable =\n",
              "            await google.colab.kernel.invokeFunction('convertToInteractive',\n",
              "                                                     [key], {});\n",
              "          if (!dataTable) return;\n",
              "\n",
              "          const docLinkHtml = 'Like what you see? Visit the ' +\n",
              "            '<a target=\"_blank\" href=https://colab.research.google.com/notebooks/data_table.ipynb>data table notebook</a>'\n",
              "            + ' to learn more about interactive tables.';\n",
              "          element.innerHTML = '';\n",
              "          dataTable['output_type'] = 'display_data';\n",
              "          await google.colab.output.renderOutput(dataTable, element);\n",
              "          const docLink = document.createElement('div');\n",
              "          docLink.innerHTML = docLinkHtml;\n",
              "          element.appendChild(docLink);\n",
              "        }\n",
              "      </script>\n",
              "    </div>\n",
              "  </div>\n",
              "  "
            ]
          },
          "metadata": {},
          "execution_count": 27
        }
      ]
    },
    {
      "cell_type": "code",
      "source": [
        "sentiment_ordering = ['negative', 'neutral', 'positive']\n",
        "\n",
        "df['airline_sentiment'] = df['airline_sentiment'].apply(lambda x: sentiment_ordering.index(x))"
      ],
      "metadata": {
        "id": "ldFsvNqFXS7V"
      },
      "execution_count": 28,
      "outputs": []
    },
    {
      "cell_type": "code",
      "source": [
        "df.head()"
      ],
      "metadata": {
        "colab": {
          "base_uri": "https://localhost:8080/",
          "height": 285
        },
        "id": "MhQr70_cX3ec",
        "outputId": "05fab3dd-5705-4683-a359-e6d8e9534c19"
      },
      "execution_count": 29,
      "outputs": [
        {
          "output_type": "execute_result",
          "data": {
            "text/plain": [
              "                                                                                                                                         text  \\\n",
              "12614  @AmericanAir $600 Late Flightr, 2 complete itinerary changes, and lost work and time, but yeah \"I\" got it rebooked                       \n",
              "2774   @united Existing reservation is fine. I was talking about no longer having an 0600 CMH-ORD option. 0638 gets me in too Late Flight.      \n",
              "556    @united thanks again for your concern. I will contact customer care upon our return from Australia.                                      \n",
              "10103  @USAirways I packed a carry on for a reason. Thanks for making me check it. I hoped for better customer service in CLE also. #nothappy   \n",
              "7991   @JetBlue flight 691 from bos to Tampa takeoff 40 min Late Flight                                                                         \n",
              "\n",
              "       airline_sentiment  \n",
              "12614  0                  \n",
              "2774   0                  \n",
              "556    1                  \n",
              "10103  0                  \n",
              "7991   0                  "
            ],
            "text/html": [
              "\n",
              "  <div id=\"df-bb37cf01-89cb-4a06-8bce-0845f4780cc1\">\n",
              "    <div class=\"colab-df-container\">\n",
              "      <div>\n",
              "<style scoped>\n",
              "    .dataframe tbody tr th:only-of-type {\n",
              "        vertical-align: middle;\n",
              "    }\n",
              "\n",
              "    .dataframe tbody tr th {\n",
              "        vertical-align: top;\n",
              "    }\n",
              "\n",
              "    .dataframe thead th {\n",
              "        text-align: right;\n",
              "    }\n",
              "</style>\n",
              "<table border=\"1\" class=\"dataframe\">\n",
              "  <thead>\n",
              "    <tr style=\"text-align: right;\">\n",
              "      <th></th>\n",
              "      <th>text</th>\n",
              "      <th>airline_sentiment</th>\n",
              "    </tr>\n",
              "  </thead>\n",
              "  <tbody>\n",
              "    <tr>\n",
              "      <th>12614</th>\n",
              "      <td>@AmericanAir $600 Late Flightr, 2 complete itinerary changes, and lost work and time, but yeah \"I\" got it rebooked</td>\n",
              "      <td>0</td>\n",
              "    </tr>\n",
              "    <tr>\n",
              "      <th>2774</th>\n",
              "      <td>@united Existing reservation is fine. I was talking about no longer having an 0600 CMH-ORD option. 0638 gets me in too Late Flight.</td>\n",
              "      <td>0</td>\n",
              "    </tr>\n",
              "    <tr>\n",
              "      <th>556</th>\n",
              "      <td>@united thanks again for your concern. I will contact customer care upon our return from Australia.</td>\n",
              "      <td>1</td>\n",
              "    </tr>\n",
              "    <tr>\n",
              "      <th>10103</th>\n",
              "      <td>@USAirways I packed a carry on for a reason. Thanks for making me check it. I hoped for better customer service in CLE also. #nothappy</td>\n",
              "      <td>0</td>\n",
              "    </tr>\n",
              "    <tr>\n",
              "      <th>7991</th>\n",
              "      <td>@JetBlue flight 691 from bos to Tampa takeoff 40 min Late Flight</td>\n",
              "      <td>0</td>\n",
              "    </tr>\n",
              "  </tbody>\n",
              "</table>\n",
              "</div>\n",
              "      <button class=\"colab-df-convert\" onclick=\"convertToInteractive('df-bb37cf01-89cb-4a06-8bce-0845f4780cc1')\"\n",
              "              title=\"Convert this dataframe to an interactive table.\"\n",
              "              style=\"display:none;\">\n",
              "        \n",
              "  <svg xmlns=\"http://www.w3.org/2000/svg\" height=\"24px\"viewBox=\"0 0 24 24\"\n",
              "       width=\"24px\">\n",
              "    <path d=\"M0 0h24v24H0V0z\" fill=\"none\"/>\n",
              "    <path d=\"M18.56 5.44l.94 2.06.94-2.06 2.06-.94-2.06-.94-.94-2.06-.94 2.06-2.06.94zm-11 1L8.5 8.5l.94-2.06 2.06-.94-2.06-.94L8.5 2.5l-.94 2.06-2.06.94zm10 10l.94 2.06.94-2.06 2.06-.94-2.06-.94-.94-2.06-.94 2.06-2.06.94z\"/><path d=\"M17.41 7.96l-1.37-1.37c-.4-.4-.92-.59-1.43-.59-.52 0-1.04.2-1.43.59L10.3 9.45l-7.72 7.72c-.78.78-.78 2.05 0 2.83L4 21.41c.39.39.9.59 1.41.59.51 0 1.02-.2 1.41-.59l7.78-7.78 2.81-2.81c.8-.78.8-2.07 0-2.86zM5.41 20L4 18.59l7.72-7.72 1.47 1.35L5.41 20z\"/>\n",
              "  </svg>\n",
              "      </button>\n",
              "      \n",
              "  <style>\n",
              "    .colab-df-container {\n",
              "      display:flex;\n",
              "      flex-wrap:wrap;\n",
              "      gap: 12px;\n",
              "    }\n",
              "\n",
              "    .colab-df-convert {\n",
              "      background-color: #E8F0FE;\n",
              "      border: none;\n",
              "      border-radius: 50%;\n",
              "      cursor: pointer;\n",
              "      display: none;\n",
              "      fill: #1967D2;\n",
              "      height: 32px;\n",
              "      padding: 0 0 0 0;\n",
              "      width: 32px;\n",
              "    }\n",
              "\n",
              "    .colab-df-convert:hover {\n",
              "      background-color: #E2EBFA;\n",
              "      box-shadow: 0px 1px 2px rgba(60, 64, 67, 0.3), 0px 1px 3px 1px rgba(60, 64, 67, 0.15);\n",
              "      fill: #174EA6;\n",
              "    }\n",
              "\n",
              "    [theme=dark] .colab-df-convert {\n",
              "      background-color: #3B4455;\n",
              "      fill: #D2E3FC;\n",
              "    }\n",
              "\n",
              "    [theme=dark] .colab-df-convert:hover {\n",
              "      background-color: #434B5C;\n",
              "      box-shadow: 0px 1px 3px 1px rgba(0, 0, 0, 0.15);\n",
              "      filter: drop-shadow(0px 1px 2px rgba(0, 0, 0, 0.3));\n",
              "      fill: #FFFFFF;\n",
              "    }\n",
              "  </style>\n",
              "\n",
              "      <script>\n",
              "        const buttonEl =\n",
              "          document.querySelector('#df-bb37cf01-89cb-4a06-8bce-0845f4780cc1 button.colab-df-convert');\n",
              "        buttonEl.style.display =\n",
              "          google.colab.kernel.accessAllowed ? 'block' : 'none';\n",
              "\n",
              "        async function convertToInteractive(key) {\n",
              "          const element = document.querySelector('#df-bb37cf01-89cb-4a06-8bce-0845f4780cc1');\n",
              "          const dataTable =\n",
              "            await google.colab.kernel.invokeFunction('convertToInteractive',\n",
              "                                                     [key], {});\n",
              "          if (!dataTable) return;\n",
              "\n",
              "          const docLinkHtml = 'Like what you see? Visit the ' +\n",
              "            '<a target=\"_blank\" href=https://colab.research.google.com/notebooks/data_table.ipynb>data table notebook</a>'\n",
              "            + ' to learn more about interactive tables.';\n",
              "          element.innerHTML = '';\n",
              "          dataTable['output_type'] = 'display_data';\n",
              "          await google.colab.output.renderOutput(dataTable, element);\n",
              "          const docLink = document.createElement('div');\n",
              "          docLink.innerHTML = docLinkHtml;\n",
              "          element.appendChild(docLink);\n",
              "        }\n",
              "      </script>\n",
              "    </div>\n",
              "  </div>\n",
              "  "
            ]
          },
          "metadata": {},
          "execution_count": 29
        }
      ]
    },
    {
      "cell_type": "code",
      "source": [
        "# pip install emoji -q"
      ],
      "metadata": {
        "colab": {
          "base_uri": "https://localhost:8080/"
        },
        "id": "DFrPATxjX5Mu",
        "outputId": "96a943ee-7f93-401a-eec3-4e428f047b24"
      },
      "execution_count": 30,
      "outputs": [
        {
          "output_type": "stream",
          "name": "stdout",
          "text": [
            "\u001b[?25l\r\u001b[K     |█▌                              | 10 kB 11.6 MB/s eta 0:00:01\r\u001b[K     |███                             | 20 kB 3.6 MB/s eta 0:00:01\r\u001b[K     |████▌                           | 30 kB 5.0 MB/s eta 0:00:01\r\u001b[K     |██████                          | 40 kB 4.1 MB/s eta 0:00:01\r\u001b[K     |███████▋                        | 51 kB 4.1 MB/s eta 0:00:01\r\u001b[K     |█████████                       | 61 kB 4.8 MB/s eta 0:00:01\r\u001b[K     |██████████▋                     | 71 kB 5.0 MB/s eta 0:00:01\r\u001b[K     |████████████                    | 81 kB 5.6 MB/s eta 0:00:01\r\u001b[K     |█████████████▋                  | 92 kB 5.3 MB/s eta 0:00:01\r\u001b[K     |███████████████▏                | 102 kB 5.3 MB/s eta 0:00:01\r\u001b[K     |████████████████▋               | 112 kB 5.3 MB/s eta 0:00:01\r\u001b[K     |██████████████████▏             | 122 kB 5.3 MB/s eta 0:00:01\r\u001b[K     |███████████████████▊            | 133 kB 5.3 MB/s eta 0:00:01\r\u001b[K     |█████████████████████▏          | 143 kB 5.3 MB/s eta 0:00:01\r\u001b[K     |██████████████████████▊         | 153 kB 5.3 MB/s eta 0:00:01\r\u001b[K     |████████████████████████▏       | 163 kB 5.3 MB/s eta 0:00:01\r\u001b[K     |█████████████████████████▊      | 174 kB 5.3 MB/s eta 0:00:01\r\u001b[K     |███████████████████████████▎    | 184 kB 5.3 MB/s eta 0:00:01\r\u001b[K     |████████████████████████████▊   | 194 kB 5.3 MB/s eta 0:00:01\r\u001b[K     |██████████████████████████████▎ | 204 kB 5.3 MB/s eta 0:00:01\r\u001b[K     |███████████████████████████████▊| 215 kB 5.3 MB/s eta 0:00:01\r\u001b[K     |████████████████████████████████| 216 kB 5.3 MB/s \n",
            "\u001b[?25h  Building wheel for emoji (setup.py) ... \u001b[?25l\u001b[?25hdone\n"
          ]
        }
      ]
    },
    {
      "cell_type": "code",
      "source": [
        "ps = PorterStemmer()\n",
        "\n",
        "def process_tweet(tweet):\n",
        "    new_tweet = tweet.lower()\n",
        "    new_tweet = re.sub(r'@\\w+', '', new_tweet) # Remove @s\n",
        "    new_tweet = re.sub(r'#', '', new_tweet) # Remove hashtags\n",
        "    new_tweet = re.sub(r':', ' ', emoji.demojize(new_tweet)) # Turn emojis into words\n",
        "    new_tweet = re.sub(r'http\\S+', '',new_tweet) # Remove URLs\n",
        "    new_tweet = re.sub(r'\\$\\S+', 'dollar', new_tweet) # Change dollar amounts to dollar\n",
        "    new_tweet = re.sub(r'[^a-z0-9\\s]', '', new_tweet) # Remove punctuation\n",
        "    new_tweet = re.sub(r'[0-9]+', 'number', new_tweet) # Change number values to number\n",
        "    new_tweet = new_tweet.split(\" \")\n",
        "    new_tweet = list(map(lambda x: ps.stem(x), new_tweet)) # Stemming the words\n",
        "    new_tweet = list(map(lambda x: x.strip(), new_tweet)) # Stripping whitespace from the words\n",
        "    if '' in new_tweet:\n",
        "        new_tweet.remove('')\n",
        "    return new_tweet"
      ],
      "metadata": {
        "id": "EtFgKL6pYFzr"
      },
      "execution_count": 32,
      "outputs": []
    },
    {
      "cell_type": "code",
      "source": [
        "tweets = df['text'].apply(process_tweet)\n",
        "labels = np.array(df['airline_sentiment'])"
      ],
      "metadata": {
        "id": "LoJSBj2yYmnL"
      },
      "execution_count": 33,
      "outputs": []
    },
    {
      "cell_type": "code",
      "source": [
        "tweets"
      ],
      "metadata": {
        "colab": {
          "base_uri": "https://localhost:8080/"
        },
        "id": "q1LfImP4Yr9G",
        "outputId": "a401351a-7a40-428f-fa22-cfa0aebf561a"
      },
      "execution_count": 34,
      "outputs": [
        {
          "output_type": "execute_result",
          "data": {
            "text/plain": [
              "12614    [dollar, late, flightr, number, complet, itinerari, chang, and, lost, work, and, time, but, yeah, i, got, it, rebook]                  \n",
              "2774     [exist, reserv, is, fine, i, wa, talk, about, no, longer, have, an, number, cmhord, option, number, get, me, in, too, late, flight]    \n",
              "556      [thank, again, for, your, concern, i, will, contact, custom, care, upon, our, return, from, australia]                                 \n",
              "10103    [i, pack, a, carri, on, for, a, reason, thank, for, make, me, check, it, i, hope, for, better, custom, servic, in, cle, also, nothappi]\n",
              "7991     [flight, number, from, bo, to, tampa, takeoff, number, min, late, flight]                                                              \n",
              "                                           ...                                                                                                  \n",
              "8027     [i, lost, a, day, at, the, airport, and, off, my, trip, i, should, be, compens, for, the, inconveni]                                   \n",
              "10531    [now, what, you, cancel, flightl, my, flight, again, are, you, pay, for, my, hotel]                                                    \n",
              "3035     [pleas, send, me, the, linkemail, to, formal, compliment, iren, in, slc, on, some, of, the, best, custom, servic, ever, paxex]         \n",
              "3502     [refund]                                                                                                                               \n",
              "2345     [so, appreci]                                                                                                                          \n",
              "Name: text, Length: 14640, dtype: object"
            ]
          },
          "metadata": {},
          "execution_count": 34
        }
      ]
    },
    {
      "cell_type": "code",
      "source": [
        "vocabulary = set()\n",
        "\n",
        "for tweet in tweets:\n",
        "    for word in tweet:\n",
        "        if word not in vocabulary:\n",
        "            vocabulary.add(word)\n",
        "\n",
        "vocab_length = len(vocabulary)\n",
        "\n",
        "\n",
        "max_seq_length = 0\n",
        "\n",
        "for tweet in tweets:\n",
        "    if len(tweet) > max_seq_length:\n",
        "        max_seq_length = len(tweet)\n",
        "\n",
        "print(\"Vocabulary length:\", vocab_length)\n",
        "print(\"Maximum sequence length:\", max_seq_length)"
      ],
      "metadata": {
        "colab": {
          "base_uri": "https://localhost:8080/"
        },
        "id": "vfwEJ7hAYv_x",
        "outputId": "032ec1ef-f010-403f-ef18-f26216151656"
      },
      "execution_count": 36,
      "outputs": [
        {
          "output_type": "stream",
          "name": "stdout",
          "text": [
            "Vocabulary length: 11351\n",
            "Maximum sequence length: 90\n"
          ]
        }
      ]
    },
    {
      "cell_type": "code",
      "source": [
        "tokenizer = Tokenizer(num_words=vocab_length)\n",
        "tokenizer.fit_on_texts(tweets)\n",
        "\n",
        "sequences = tokenizer.texts_to_sequences(tweets)\n",
        "\n",
        "word_index = tokenizer.word_index\n",
        "\n",
        "model_inputs = pad_sequences(sequences, maxlen=max_seq_length, padding='post')"
      ],
      "metadata": {
        "id": "0qRnG1m8Y41r"
      },
      "execution_count": 39,
      "outputs": []
    },
    {
      "cell_type": "code",
      "source": [
        "model_inputs"
      ],
      "metadata": {
        "colab": {
          "base_uri": "https://localhost:8080/"
        },
        "id": "W-ujmXseZBJA",
        "outputId": "5d197770-6710-4f76-908c-c476e37c06db"
      },
      "execution_count": 40,
      "outputs": [
        {
          "output_type": "execute_result",
          "data": {
            "text/plain": [
              "array([[111, 100, 244, ...,   0,   0,   0],\n",
              "       [899, 162,  13, ...,   0,   0,   0],\n",
              "       [ 21, 112,   9, ...,   0,   0,   0],\n",
              "       ...,\n",
              "       [ 76, 283,  18, ...,   0,   0,   0],\n",
              "       [220,   0,   0, ...,   0,   0,   0],\n",
              "       [ 47, 241,   0, ...,   0,   0,   0]], dtype=int32)"
            ]
          },
          "metadata": {},
          "execution_count": 40
        }
      ]
    },
    {
      "cell_type": "code",
      "source": [
        "# Create a train and test (20%) dataset\n",
        "X_train, X_test, y_train, y_test = train_test_split(model_inputs, labels, test_size=0.2, random_state=42)"
      ],
      "metadata": {
        "id": "flv8hh2-Ziyz"
      },
      "execution_count": 41,
      "outputs": []
    },
    {
      "cell_type": "code",
      "source": [
        "model = RandomForestClassifier(n_estimators=1000)\n",
        "model.fit(X_train, y_train)"
      ],
      "metadata": {
        "colab": {
          "base_uri": "https://localhost:8080/"
        },
        "id": "gNrunVUBZxZL",
        "outputId": "4755d028-2a9f-4ad7-8df7-0e37ffbb0baa"
      },
      "execution_count": 43,
      "outputs": [
        {
          "output_type": "execute_result",
          "data": {
            "text/plain": [
              "RandomForestClassifier(n_estimators=1000)"
            ]
          },
          "metadata": {},
          "execution_count": 43
        }
      ]
    },
    {
      "cell_type": "code",
      "source": [
        "y_pred = model.predict(X_test)"
      ],
      "metadata": {
        "id": "9CgXwrXxaCgn"
      },
      "execution_count": 44,
      "outputs": []
    },
    {
      "cell_type": "code",
      "source": [
        "print(\"ACCURACY OF THE MODEL: \", metrics.accuracy_score(y_test, y_pred))"
      ],
      "metadata": {
        "colab": {
          "base_uri": "https://localhost:8080/"
        },
        "id": "0SwhGOP7arZq",
        "outputId": "5ce9d242-d82c-4eaf-8ea6-f2864c174043"
      },
      "execution_count": 47,
      "outputs": [
        {
          "output_type": "stream",
          "name": "stdout",
          "text": [
            "ACCURACY OF THE MODEL:  0.6950136612021858\n"
          ]
        }
      ]
    },
    {
      "cell_type": "code",
      "source": [
        "confusion_matrix(y_test, y_pred)"
      ],
      "metadata": {
        "colab": {
          "base_uri": "https://localhost:8080/"
        },
        "id": "CCU_VAdCbE4_",
        "outputId": "5e279215-2591-4fd9-e2a5-59b45235d4f6"
      },
      "execution_count": 50,
      "outputs": [
        {
          "output_type": "execute_result",
          "data": {
            "text/plain": [
              "array([[1770,   86,   12],\n",
              "       [ 391,  180,   25],\n",
              "       [ 325,   54,   85]])"
            ]
          },
          "metadata": {},
          "execution_count": 50
        }
      ]
    },
    {
      "cell_type": "code",
      "source": [
        "print(classification_report(y_test, y_pred))"
      ],
      "metadata": {
        "colab": {
          "base_uri": "https://localhost:8080/"
        },
        "id": "3558D4xabLnY",
        "outputId": "0accaf5f-711c-4b55-9655-763b760c0503"
      },
      "execution_count": 51,
      "outputs": [
        {
          "output_type": "stream",
          "name": "stdout",
          "text": [
            "              precision    recall  f1-score   support\n",
            "\n",
            "           0       0.71      0.95      0.81      1868\n",
            "           1       0.56      0.30      0.39       596\n",
            "           2       0.70      0.18      0.29       464\n",
            "\n",
            "    accuracy                           0.70      2928\n",
            "   macro avg       0.66      0.48      0.50      2928\n",
            "weighted avg       0.68      0.70      0.64      2928\n",
            "\n"
          ]
        }
      ]
    },
    {
      "cell_type": "markdown",
      "source": [
        "The accuracy of the model is just 70% which means Random Forest Classifier is an average model and not the best fit. "
      ],
      "metadata": {
        "id": "MlEOOoAvbc9I"
      }
    },
    {
      "cell_type": "code",
      "source": [],
      "metadata": {
        "id": "Fgw63eGzbV-Q"
      },
      "execution_count": null,
      "outputs": []
    }
  ]
}