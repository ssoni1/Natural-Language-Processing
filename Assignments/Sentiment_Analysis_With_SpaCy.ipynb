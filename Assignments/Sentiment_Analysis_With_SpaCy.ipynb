{
  "nbformat": 4,
  "nbformat_minor": 0,
  "metadata": {
    "colab": {
      "provenance": []
    },
    "kernelspec": {
      "name": "python3",
      "display_name": "Python 3"
    },
    "language_info": {
      "name": "python"
    }
  },
  "cells": [
    {
      "cell_type": "markdown",
      "source": [
        "# **NLP Week 7 Homework**:\n",
        "**Subitted by: Srashti Soni**"
      ],
      "metadata": {
        "id": "7BtEtVhb9KO7"
      }
    },
    {
      "cell_type": "code",
      "source": [
        "import pandas as pd\n",
        "import requests\n",
        "from textblob import TextBlob\n",
        "import nltk\n",
        "nltk.download('punkt')\n",
        "import string\n",
        "import spacy\n",
        "from spacy.lang.en.stop_words import STOP_WORDS\n",
        "from spacy.lang.en import English\n",
        "from nltk.tokenize import RegexpTokenizer\n",
        "from sklearn.metrics import accuracy_score \n",
        "from sklearn.model_selection import train_test_split \n",
        "from sklearn.base import TransformerMixin\n",
        "from sklearn.svm import LinearSVC \n",
        "from sklearn.pipeline import Pipeline \n",
        "from sklearn.feature_extraction.text import TfidfVectorizer, CountVectorizer\n",
        "from sklearn.svm import LinearSVC\n",
        "import re"
      ],
      "metadata": {
        "colab": {
          "base_uri": "https://localhost:8080/"
        },
        "id": "czocDSthAMjP",
        "outputId": "1fef18cd-f7aa-4ad2-a1c9-1a37fe85fabf"
      },
      "execution_count": 201,
      "outputs": [
        {
          "output_type": "stream",
          "name": "stderr",
          "text": [
            "[nltk_data] Downloading package punkt to /root/nltk_data...\n",
            "[nltk_data]   Package punkt is already up-to-date!\n"
          ]
        }
      ]
    },
    {
      "cell_type": "code",
      "source": [
        "# Import Data\n",
        "data = open('/content/Burbank.txt').read()\n",
        "data"
      ],
      "metadata": {
        "colab": {
          "base_uri": "https://localhost:8080/",
          "height": 140
        },
        "id": "zx6SbWScYKX_",
        "outputId": "7d646c88-dd46-452c-f69e-ee5e0b5ed669"
      },
      "execution_count": 202,
      "outputs": [
        {
          "output_type": "execute_result",
          "data": {
            "text/plain": [
              "'\\ufeffAirport task force to consider possible actions to abate noise issues Members of the Southern San Fernando Valley Airplane Noise Task Force will have a little over a month to develop recommendations about how to address aircraft noise issues affecting the south San Fernando Valley After five meetings and hearing from various neighborhood groups and experts, aviation consultant HMMH Inc., which has been the facilitator of the meetings, spent the majority of Wednesday night distilling all of the recommendations that have been brought forward so far and the feasibility of implementing them \\nHMMH worked with Kevin Karpe, an aviation expert who worked as an air traffic controller at Hollywood Burbank and the Federal Aviation Administration Southern California Terminal Radar Approach Control, to analyze the departing flight procedures out of the Burbank airfield as well as Van Nuys Airport, both of which are at the center of the noise issues \\nSince March 2017, residents in the south San Fernando Valley have complained about an increase in the number of planes flying overhead Many blame the FAA’s Next Generation Air Transportation System, or NextGen, which was implemented in Southern California in March 2017 The satellite-based navigation system was geared toward making flights across the country more fuel efficient and safe. However, NextGen became more of a nuisance than helpful for many people throughout the United States, according to news reports In the south San Fernando Valley, planes departing from Hollywood Burbank and Van Nuys have drifted south — from around the 101 Freeway to over Studio City and Sherman Oaks — before making northbound turns to head off to their destinations The FAA has stated in the past that NextGen did not change flight procedures out of the two airports, but HMMH and many residents from the region argue that something happened to cause the planes to make their northbound turns later rather than sooner Adam Scholten, a senior consultant with HMMH, said the workload of air traffic controllers in the Southern California TRACON, the air traffic control facility located in San Diego that is in charge of handling all of the flights in the region, may be contributing to the flight paths’ southern shift Scholten said the FAA often combines some of the six sectors of the Southern California TRACON — depending on whether there is less air traffic in one region and/or there are fewer air-traffic controllers available — a practice that can result in higher workloads “Part of the issues with combining sectors is that it can result in paying less attention to things such as standard operating procedures or other agreements that have been established,” Scholten said \\nThe recommended action to solve the issue, Scholten said, was for the FAA to review its resources at the Southern California TRACON and study how to manage the workload among the air-traffic controllers more efficiently The study conducted by Karpe and his consulting firm Diverse Vector Aviation Consulting LLC also found that air-traffic controllers did not always stick to the standard operating procedures for departing flights out of Hollywood Burbank and Van Nuys, which is to direct pilots to make their northbound turns once their planes meet the minimum criteria It was recommended that the FAA conduct training to refresh air-traffic controllers about the procedures HMMH also reviewed and analyzed the recommendations that were made by the various neighborhood groups Members of UproarLA, one of the groups, had suggested that departing flights should take off at a steeper ascent and make their northbound turns before reaching the 101 Freeway \\nScholten said doing so would be difficult because not every aircraft can ascend as quickly as others depending on weather conditions and the load of the plane He added that airlines can ignore the request if it isn’t made mandatory Gene Reindel, vice president and director of aviation services for HMMH, said planes ascending at a quicker and steeper rate would not be a quieter procedure for the surrounding community The organization Studio City for Quiet Skies proposed that should the FAA implement waypoints for pilots to use when departing from Hollywood Burbank, they should be located north of the 101 Freeway Scholten said this could not be done because the waypoints would be too close to the planes landing at Hollywood Burbank HMMH also showed the task force examples of possible recommendations, which did not go over well with the public They demonstrated that if the FAA implemented two waypoints to guide departing flights out of Hollywood Burbank, it would create a narrow and concentrated path above North Hollywood and the neighborhoods just south of the 101 Freeway before planes make their northbound turns The consulting firm also displayed what would happen if the current number of departing flights stayed on the path used in 2007. It resulted in a slightly less southern shift but also dispersed flights farther west toward Encino The task force will reconvene on April 1 for its final meeting, at which members of the group will deliberate on the best recommended action to address the issues The meeting will be held at 6:30 p.m. at the Los Angeles Marriott Burbank Airport, 2500 N. Hollywood Way Sixth Meeting of the Noise Task Force Held While FAA representatives sat listening with passive, stone-like faces, studies and suggested solutions were presented at the sixth meeting of the Southern San Fernando Valley Airplane Noise Task Force held Feb. 19 to discuss solutions for the ongoing problem of airliner jet noise over the Southern region of the San Fernando Valley–including the City of Burbank HMMH Inc., an environmental and transportation consulting firm, gave a detailed and lengthy presentation supplying studies, research and the pros and cons of the suggested solutions; the Task Force and community groups listened intently When HMMH confirmed air traffic from Hollywood Burbank and Van Nuys Airports had increased from 2017 to 2020, cheers and clapping erupted from the frustrated residents in the audience. Community groups have long said the extreme noise did not start until 2017 after the implementation of the FFA’s NextGen program. The NextGen satellite-based airliner navigational system, created to make flights safer, efficient and quieter, moved flight routes over the Valley from their historic paths A collective proposal by several community groups gave their own research and recommendations. Potential solutions included having planes climb to a higher altitude immediately after takeoff, dispersing flight routes in a wider range over the Valley, so no single community would suffer the bulk of jet noise and that the routes be returned to their historical paths. The FAA has said they will not return the routes to their earlier paths Beth Fulton, president of the Valley Village Homeowners Association said, “We have taken pieces of each group’s presentation and tried to figure out how is there a piece of this that can work, so everybody can try and get some relief. Our continued message is, share, share, share The FFA disqualified most of the recommendations claiming FAA regulations, limitations on airspace, airliner safety, traffic from other airports and many other explanations A newcomer to the Task Force meetings was Pacoima Beautiful representing the North East San Fernando Valley Some of the proposals that have been submitted in terms of changing flight paths is really concentrating most of the flight paths North of the airport–basically over our communities. We have a problem with that,” said Andres Ramirez, director of Pacoima Beautiful “We just have to be very fair in our recommendations,” said City of Burbank Mayor Sharon Springer We will make recommendations and those recommendations will go to the FAA, and they will say yes or no The FAA may know another way to achieve that same outcome \\nSeveral community groups from the affected areas and representatives of the local congressional districts and California’s Senators were in attendance \\nSuzanne Lewis, board member of the Valley Village Neighborhood Council was direct, “You know who regulates them [FAA].  Congress. That’s who they’ll listen to. So that’s who we need to be putting pressure on. I’m glad our congressmen are here Even the senators… their representatives are here The Task Force has just under a month to recommend possible solutions to the complex issue of Valley jet noise. The next meeting of the Task Force will be April 2 at the Los Angeles Marriott Burbank Airport'"
            ],
            "application/vnd.google.colaboratory.intrinsic+json": {
              "type": "string"
            }
          },
          "metadata": {},
          "execution_count": 202
        }
      ]
    },
    {
      "cell_type": "code",
      "source": [
        "# Text Cleaning\n",
        "res = re.sub(r'[^\\w\\s]', ' ', data)\n",
        "res\n",
        "res=res.lower()\n",
        "res"
      ],
      "metadata": {
        "colab": {
          "base_uri": "https://localhost:8080/",
          "height": 140
        },
        "id": "LGd3fcXy_LX3",
        "outputId": "bb3a9929-cd15-465c-f9ed-b5741ed17d34"
      },
      "execution_count": 203,
      "outputs": [
        {
          "output_type": "execute_result",
          "data": {
            "text/plain": [
              "' airport task force to consider possible actions to abate noise issues members of the southern san fernando valley airplane noise task force will have a little over a month to develop recommendations about how to address aircraft noise issues affecting the south san fernando valley after five meetings and hearing from various neighborhood groups and experts  aviation consultant hmmh inc   which has been the facilitator of the meetings  spent the majority of wednesday night distilling all of the recommendations that have been brought forward so far and the feasibility of implementing them \\nhmmh worked with kevin karpe  an aviation expert who worked as an air traffic controller at hollywood burbank and the federal aviation administration southern california terminal radar approach control  to analyze the departing flight procedures out of the burbank airfield as well as van nuys airport  both of which are at the center of the noise issues \\nsince march 2017  residents in the south san fernando valley have complained about an increase in the number of planes flying overhead many blame the faa s next generation air transportation system  or nextgen  which was implemented in southern california in march 2017 the satellite based navigation system was geared toward making flights across the country more fuel efficient and safe  however  nextgen became more of a nuisance than helpful for many people throughout the united states  according to news reports in the south san fernando valley  planes departing from hollywood burbank and van nuys have drifted south   from around the 101 freeway to over studio city and sherman oaks   before making northbound turns to head off to their destinations the faa has stated in the past that nextgen did not change flight procedures out of the two airports  but hmmh and many residents from the region argue that something happened to cause the planes to make their northbound turns later rather than sooner adam scholten  a senior consultant with hmmh  said the workload of air traffic controllers in the southern california tracon  the air traffic control facility located in san diego that is in charge of handling all of the flights in the region  may be contributing to the flight paths  southern shift scholten said the faa often combines some of the six sectors of the southern california tracon   depending on whether there is less air traffic in one region and or there are fewer air traffic controllers available   a practice that can result in higher workloads  part of the issues with combining sectors is that it can result in paying less attention to things such as standard operating procedures or other agreements that have been established   scholten said \\nthe recommended action to solve the issue  scholten said  was for the faa to review its resources at the southern california tracon and study how to manage the workload among the air traffic controllers more efficiently the study conducted by karpe and his consulting firm diverse vector aviation consulting llc also found that air traffic controllers did not always stick to the standard operating procedures for departing flights out of hollywood burbank and van nuys  which is to direct pilots to make their northbound turns once their planes meet the minimum criteria it was recommended that the faa conduct training to refresh air traffic controllers about the procedures hmmh also reviewed and analyzed the recommendations that were made by the various neighborhood groups members of uproarla  one of the groups  had suggested that departing flights should take off at a steeper ascent and make their northbound turns before reaching the 101 freeway \\nscholten said doing so would be difficult because not every aircraft can ascend as quickly as others depending on weather conditions and the load of the plane he added that airlines can ignore the request if it isn t made mandatory gene reindel  vice president and director of aviation services for hmmh  said planes ascending at a quicker and steeper rate would not be a quieter procedure for the surrounding community the organization studio city for quiet skies proposed that should the faa implement waypoints for pilots to use when departing from hollywood burbank  they should be located north of the 101 freeway scholten said this could not be done because the waypoints would be too close to the planes landing at hollywood burbank hmmh also showed the task force examples of possible recommendations  which did not go over well with the public they demonstrated that if the faa implemented two waypoints to guide departing flights out of hollywood burbank  it would create a narrow and concentrated path above north hollywood and the neighborhoods just south of the 101 freeway before planes make their northbound turns the consulting firm also displayed what would happen if the current number of departing flights stayed on the path used in 2007  it resulted in a slightly less southern shift but also dispersed flights farther west toward encino the task force will reconvene on april 1 for its final meeting  at which members of the group will deliberate on the best recommended action to address the issues the meeting will be held at 6 30 p m  at the los angeles marriott burbank airport  2500 n  hollywood way sixth meeting of the noise task force held while faa representatives sat listening with passive  stone like faces  studies and suggested solutions were presented at the sixth meeting of the southern san fernando valley airplane noise task force held feb  19 to discuss solutions for the ongoing problem of airliner jet noise over the southern region of the san fernando valley including the city of burbank hmmh inc   an environmental and transportation consulting firm  gave a detailed and lengthy presentation supplying studies  research and the pros and cons of the suggested solutions  the task force and community groups listened intently when hmmh confirmed air traffic from hollywood burbank and van nuys airports had increased from 2017 to 2020  cheers and clapping erupted from the frustrated residents in the audience  community groups have long said the extreme noise did not start until 2017 after the implementation of the ffa s nextgen program  the nextgen satellite based airliner navigational system  created to make flights safer  efficient and quieter  moved flight routes over the valley from their historic paths a collective proposal by several community groups gave their own research and recommendations  potential solutions included having planes climb to a higher altitude immediately after takeoff  dispersing flight routes in a wider range over the valley  so no single community would suffer the bulk of jet noise and that the routes be returned to their historical paths  the faa has said they will not return the routes to their earlier paths beth fulton  president of the valley village homeowners association said   we have taken pieces of each group s presentation and tried to figure out how is there a piece of this that can work  so everybody can try and get some relief  our continued message is  share  share  share the ffa disqualified most of the recommendations claiming faa regulations  limitations on airspace  airliner safety  traffic from other airports and many other explanations a newcomer to the task force meetings was pacoima beautiful representing the north east san fernando valley some of the proposals that have been submitted in terms of changing flight paths is really concentrating most of the flight paths north of the airport basically over our communities  we have a problem with that   said andres ramirez  director of pacoima beautiful  we just have to be very fair in our recommendations   said city of burbank mayor sharon springer we will make recommendations and those recommendations will go to the faa  and they will say yes or no the faa may know another way to achieve that same outcome \\nseveral community groups from the affected areas and representatives of the local congressional districts and california s senators were in attendance \\nsuzanne lewis  board member of the valley village neighborhood council was direct   you know who regulates them  faa    congress  that s who they ll listen to  so that s who we need to be putting pressure on  i m glad our congressmen are here even the senators  their representatives are here the task force has just under a month to recommend possible solutions to the complex issue of valley jet noise  the next meeting of the task force will be april 2 at the los angeles marriott burbank airport'"
            ],
            "application/vnd.google.colaboratory.intrinsic+json": {
              "type": "string"
            }
          },
          "metadata": {},
          "execution_count": 203
        }
      ]
    },
    {
      "cell_type": "markdown",
      "source": [
        "**Exercise 1:**"
      ],
      "metadata": {
        "id": "q9DaK1og9mTV"
      }
    },
    {
      "cell_type": "code",
      "source": [
        "blob=TextBlob(data)"
      ],
      "metadata": {
        "id": "iSQYi2Yn-ygl"
      },
      "execution_count": 204,
      "outputs": []
    },
    {
      "cell_type": "code",
      "source": [
        "total=0\n",
        "pos=0\n",
        "neg=0\n",
        "neu=0\n",
        "for sentence in blob.sentences:\n",
        "  total +=1\n",
        "  if sentence.sentiment.polarity > 0:\n",
        "    pos +=1\n",
        "  elif sentence.sentiment.polarity == 0:\n",
        "    neu +=1\n",
        "  elif sentence.sentiment.polarity < 0:\n",
        "    neg +=1\n",
        "\n",
        "print('Negative Probability:',(neg/total))"
      ],
      "metadata": {
        "colab": {
          "base_uri": "https://localhost:8080/"
        },
        "id": "oFnfOWd9-oZk",
        "outputId": "55f43683-20a9-415f-df1d-9454f5b17f7a"
      },
      "execution_count": 205,
      "outputs": [
        {
          "output_type": "stream",
          "name": "stdout",
          "text": [
            "Negative Probability: 0.07142857142857142\n"
          ]
        }
      ]
    },
    {
      "cell_type": "markdown",
      "source": [
        "**Exercise 2:**"
      ],
      "metadata": {
        "id": "ysLoQrL4-Hts"
      }
    },
    {
      "cell_type": "code",
      "source": [
        "# NaiveBayesAnalyzer\n",
        "blob_object = TextBlob(data, analyzer=NaiveBayesAnalyzer())\n",
        "sentiment = blob_object.sentiment\n",
        "print(sentiment)"
      ],
      "metadata": {
        "colab": {
          "base_uri": "https://localhost:8080/"
        },
        "id": "SD9WT-wsn61d",
        "outputId": "cd435264-dbc0-451f-e3d5-e2ed30151dfe"
      },
      "execution_count": 206,
      "outputs": [
        {
          "output_type": "stream",
          "name": "stdout",
          "text": [
            "Sentiment(classification='pos', p_pos=1.0, p_neg=1.0487590501191368e-20)\n"
          ]
        }
      ]
    },
    {
      "cell_type": "markdown",
      "source": [
        "**Exercise 3:**"
      ],
      "metadata": {
        "id": "p8cwdGo3-b4F"
      }
    },
    {
      "cell_type": "code",
      "source": [
        "tokens = nltk.word_tokenize(data)\n",
        "print(tokens)"
      ],
      "metadata": {
        "id": "tlIWFIpfokN-",
        "colab": {
          "base_uri": "https://localhost:8080/"
        },
        "outputId": "a4bc486d-d2a4-4d21-a480-bd1a92f3afcd"
      },
      "execution_count": 207,
      "outputs": [
        {
          "output_type": "stream",
          "name": "stdout",
          "text": [
            "['\\ufeffAirport', 'task', 'force', 'to', 'consider', 'possible', 'actions', 'to', 'abate', 'noise', 'issues', 'Members', 'of', 'the', 'Southern', 'San', 'Fernando', 'Valley', 'Airplane', 'Noise', 'Task', 'Force', 'will', 'have', 'a', 'little', 'over', 'a', 'month', 'to', 'develop', 'recommendations', 'about', 'how', 'to', 'address', 'aircraft', 'noise', 'issues', 'affecting', 'the', 'south', 'San', 'Fernando', 'Valley', 'After', 'five', 'meetings', 'and', 'hearing', 'from', 'various', 'neighborhood', 'groups', 'and', 'experts', ',', 'aviation', 'consultant', 'HMMH', 'Inc.', ',', 'which', 'has', 'been', 'the', 'facilitator', 'of', 'the', 'meetings', ',', 'spent', 'the', 'majority', 'of', 'Wednesday', 'night', 'distilling', 'all', 'of', 'the', 'recommendations', 'that', 'have', 'been', 'brought', 'forward', 'so', 'far', 'and', 'the', 'feasibility', 'of', 'implementing', 'them', 'HMMH', 'worked', 'with', 'Kevin', 'Karpe', ',', 'an', 'aviation', 'expert', 'who', 'worked', 'as', 'an', 'air', 'traffic', 'controller', 'at', 'Hollywood', 'Burbank', 'and', 'the', 'Federal', 'Aviation', 'Administration', 'Southern', 'California', 'Terminal', 'Radar', 'Approach', 'Control', ',', 'to', 'analyze', 'the', 'departing', 'flight', 'procedures', 'out', 'of', 'the', 'Burbank', 'airfield', 'as', 'well', 'as', 'Van', 'Nuys', 'Airport', ',', 'both', 'of', 'which', 'are', 'at', 'the', 'center', 'of', 'the', 'noise', 'issues', 'Since', 'March', '2017', ',', 'residents', 'in', 'the', 'south', 'San', 'Fernando', 'Valley', 'have', 'complained', 'about', 'an', 'increase', 'in', 'the', 'number', 'of', 'planes', 'flying', 'overhead', 'Many', 'blame', 'the', 'FAA', '’', 's', 'Next', 'Generation', 'Air', 'Transportation', 'System', ',', 'or', 'NextGen', ',', 'which', 'was', 'implemented', 'in', 'Southern', 'California', 'in', 'March', '2017', 'The', 'satellite-based', 'navigation', 'system', 'was', 'geared', 'toward', 'making', 'flights', 'across', 'the', 'country', 'more', 'fuel', 'efficient', 'and', 'safe', '.', 'However', ',', 'NextGen', 'became', 'more', 'of', 'a', 'nuisance', 'than', 'helpful', 'for', 'many', 'people', 'throughout', 'the', 'United', 'States', ',', 'according', 'to', 'news', 'reports', 'In', 'the', 'south', 'San', 'Fernando', 'Valley', ',', 'planes', 'departing', 'from', 'Hollywood', 'Burbank', 'and', 'Van', 'Nuys', 'have', 'drifted', 'south', '—', 'from', 'around', 'the', '101', 'Freeway', 'to', 'over', 'Studio', 'City', 'and', 'Sherman', 'Oaks', '—', 'before', 'making', 'northbound', 'turns', 'to', 'head', 'off', 'to', 'their', 'destinations', 'The', 'FAA', 'has', 'stated', 'in', 'the', 'past', 'that', 'NextGen', 'did', 'not', 'change', 'flight', 'procedures', 'out', 'of', 'the', 'two', 'airports', ',', 'but', 'HMMH', 'and', 'many', 'residents', 'from', 'the', 'region', 'argue', 'that', 'something', 'happened', 'to', 'cause', 'the', 'planes', 'to', 'make', 'their', 'northbound', 'turns', 'later', 'rather', 'than', 'sooner', 'Adam', 'Scholten', ',', 'a', 'senior', 'consultant', 'with', 'HMMH', ',', 'said', 'the', 'workload', 'of', 'air', 'traffic', 'controllers', 'in', 'the', 'Southern', 'California', 'TRACON', ',', 'the', 'air', 'traffic', 'control', 'facility', 'located', 'in', 'San', 'Diego', 'that', 'is', 'in', 'charge', 'of', 'handling', 'all', 'of', 'the', 'flights', 'in', 'the', 'region', ',', 'may', 'be', 'contributing', 'to', 'the', 'flight', 'paths', '’', 'southern', 'shift', 'Scholten', 'said', 'the', 'FAA', 'often', 'combines', 'some', 'of', 'the', 'six', 'sectors', 'of', 'the', 'Southern', 'California', 'TRACON', '—', 'depending', 'on', 'whether', 'there', 'is', 'less', 'air', 'traffic', 'in', 'one', 'region', 'and/or', 'there', 'are', 'fewer', 'air-traffic', 'controllers', 'available', '—', 'a', 'practice', 'that', 'can', 'result', 'in', 'higher', 'workloads', '“', 'Part', 'of', 'the', 'issues', 'with', 'combining', 'sectors', 'is', 'that', 'it', 'can', 'result', 'in', 'paying', 'less', 'attention', 'to', 'things', 'such', 'as', 'standard', 'operating', 'procedures', 'or', 'other', 'agreements', 'that', 'have', 'been', 'established', ',', '”', 'Scholten', 'said', 'The', 'recommended', 'action', 'to', 'solve', 'the', 'issue', ',', 'Scholten', 'said', ',', 'was', 'for', 'the', 'FAA', 'to', 'review', 'its', 'resources', 'at', 'the', 'Southern', 'California', 'TRACON', 'and', 'study', 'how', 'to', 'manage', 'the', 'workload', 'among', 'the', 'air-traffic', 'controllers', 'more', 'efficiently', 'The', 'study', 'conducted', 'by', 'Karpe', 'and', 'his', 'consulting', 'firm', 'Diverse', 'Vector', 'Aviation', 'Consulting', 'LLC', 'also', 'found', 'that', 'air-traffic', 'controllers', 'did', 'not', 'always', 'stick', 'to', 'the', 'standard', 'operating', 'procedures', 'for', 'departing', 'flights', 'out', 'of', 'Hollywood', 'Burbank', 'and', 'Van', 'Nuys', ',', 'which', 'is', 'to', 'direct', 'pilots', 'to', 'make', 'their', 'northbound', 'turns', 'once', 'their', 'planes', 'meet', 'the', 'minimum', 'criteria', 'It', 'was', 'recommended', 'that', 'the', 'FAA', 'conduct', 'training', 'to', 'refresh', 'air-traffic', 'controllers', 'about', 'the', 'procedures', 'HMMH', 'also', 'reviewed', 'and', 'analyzed', 'the', 'recommendations', 'that', 'were', 'made', 'by', 'the', 'various', 'neighborhood', 'groups', 'Members', 'of', 'UproarLA', ',', 'one', 'of', 'the', 'groups', ',', 'had', 'suggested', 'that', 'departing', 'flights', 'should', 'take', 'off', 'at', 'a', 'steeper', 'ascent', 'and', 'make', 'their', 'northbound', 'turns', 'before', 'reaching', 'the', '101', 'Freeway', 'Scholten', 'said', 'doing', 'so', 'would', 'be', 'difficult', 'because', 'not', 'every', 'aircraft', 'can', 'ascend', 'as', 'quickly', 'as', 'others', 'depending', 'on', 'weather', 'conditions', 'and', 'the', 'load', 'of', 'the', 'plane', 'He', 'added', 'that', 'airlines', 'can', 'ignore', 'the', 'request', 'if', 'it', 'isn', '’', 't', 'made', 'mandatory', 'Gene', 'Reindel', ',', 'vice', 'president', 'and', 'director', 'of', 'aviation', 'services', 'for', 'HMMH', ',', 'said', 'planes', 'ascending', 'at', 'a', 'quicker', 'and', 'steeper', 'rate', 'would', 'not', 'be', 'a', 'quieter', 'procedure', 'for', 'the', 'surrounding', 'community', 'The', 'organization', 'Studio', 'City', 'for', 'Quiet', 'Skies', 'proposed', 'that', 'should', 'the', 'FAA', 'implement', 'waypoints', 'for', 'pilots', 'to', 'use', 'when', 'departing', 'from', 'Hollywood', 'Burbank', ',', 'they', 'should', 'be', 'located', 'north', 'of', 'the', '101', 'Freeway', 'Scholten', 'said', 'this', 'could', 'not', 'be', 'done', 'because', 'the', 'waypoints', 'would', 'be', 'too', 'close', 'to', 'the', 'planes', 'landing', 'at', 'Hollywood', 'Burbank', 'HMMH', 'also', 'showed', 'the', 'task', 'force', 'examples', 'of', 'possible', 'recommendations', ',', 'which', 'did', 'not', 'go', 'over', 'well', 'with', 'the', 'public', 'They', 'demonstrated', 'that', 'if', 'the', 'FAA', 'implemented', 'two', 'waypoints', 'to', 'guide', 'departing', 'flights', 'out', 'of', 'Hollywood', 'Burbank', ',', 'it', 'would', 'create', 'a', 'narrow', 'and', 'concentrated', 'path', 'above', 'North', 'Hollywood', 'and', 'the', 'neighborhoods', 'just', 'south', 'of', 'the', '101', 'Freeway', 'before', 'planes', 'make', 'their', 'northbound', 'turns', 'The', 'consulting', 'firm', 'also', 'displayed', 'what', 'would', 'happen', 'if', 'the', 'current', 'number', 'of', 'departing', 'flights', 'stayed', 'on', 'the', 'path', 'used', 'in', '2007', '.', 'It', 'resulted', 'in', 'a', 'slightly', 'less', 'southern', 'shift', 'but', 'also', 'dispersed', 'flights', 'farther', 'west', 'toward', 'Encino', 'The', 'task', 'force', 'will', 'reconvene', 'on', 'April', '1', 'for', 'its', 'final', 'meeting', ',', 'at', 'which', 'members', 'of', 'the', 'group', 'will', 'deliberate', 'on', 'the', 'best', 'recommended', 'action', 'to', 'address', 'the', 'issues', 'The', 'meeting', 'will', 'be', 'held', 'at', '6:30', 'p.m.', 'at', 'the', 'Los', 'Angeles', 'Marriott', 'Burbank', 'Airport', ',', '2500', 'N.', 'Hollywood', 'Way', 'Sixth', 'Meeting', 'of', 'the', 'Noise', 'Task', 'Force', 'Held', 'While', 'FAA', 'representatives', 'sat', 'listening', 'with', 'passive', ',', 'stone-like', 'faces', ',', 'studies', 'and', 'suggested', 'solutions', 'were', 'presented', 'at', 'the', 'sixth', 'meeting', 'of', 'the', 'Southern', 'San', 'Fernando', 'Valley', 'Airplane', 'Noise', 'Task', 'Force', 'held', 'Feb.', '19', 'to', 'discuss', 'solutions', 'for', 'the', 'ongoing', 'problem', 'of', 'airliner', 'jet', 'noise', 'over', 'the', 'Southern', 'region', 'of', 'the', 'San', 'Fernando', 'Valley–including', 'the', 'City', 'of', 'Burbank', 'HMMH', 'Inc.', ',', 'an', 'environmental', 'and', 'transportation', 'consulting', 'firm', ',', 'gave', 'a', 'detailed', 'and', 'lengthy', 'presentation', 'supplying', 'studies', ',', 'research', 'and', 'the', 'pros', 'and', 'cons', 'of', 'the', 'suggested', 'solutions', ';', 'the', 'Task', 'Force', 'and', 'community', 'groups', 'listened', 'intently', 'When', 'HMMH', 'confirmed', 'air', 'traffic', 'from', 'Hollywood', 'Burbank', 'and', 'Van', 'Nuys', 'Airports', 'had', 'increased', 'from', '2017', 'to', '2020', ',', 'cheers', 'and', 'clapping', 'erupted', 'from', 'the', 'frustrated', 'residents', 'in', 'the', 'audience', '.', 'Community', 'groups', 'have', 'long', 'said', 'the', 'extreme', 'noise', 'did', 'not', 'start', 'until', '2017', 'after', 'the', 'implementation', 'of', 'the', 'FFA', '’', 's', 'NextGen', 'program', '.', 'The', 'NextGen', 'satellite-based', 'airliner', 'navigational', 'system', ',', 'created', 'to', 'make', 'flights', 'safer', ',', 'efficient', 'and', 'quieter', ',', 'moved', 'flight', 'routes', 'over', 'the', 'Valley', 'from', 'their', 'historic', 'paths', 'A', 'collective', 'proposal', 'by', 'several', 'community', 'groups', 'gave', 'their', 'own', 'research', 'and', 'recommendations', '.', 'Potential', 'solutions', 'included', 'having', 'planes', 'climb', 'to', 'a', 'higher', 'altitude', 'immediately', 'after', 'takeoff', ',', 'dispersing', 'flight', 'routes', 'in', 'a', 'wider', 'range', 'over', 'the', 'Valley', ',', 'so', 'no', 'single', 'community', 'would', 'suffer', 'the', 'bulk', 'of', 'jet', 'noise', 'and', 'that', 'the', 'routes', 'be', 'returned', 'to', 'their', 'historical', 'paths', '.', 'The', 'FAA', 'has', 'said', 'they', 'will', 'not', 'return', 'the', 'routes', 'to', 'their', 'earlier', 'paths', 'Beth', 'Fulton', ',', 'president', 'of', 'the', 'Valley', 'Village', 'Homeowners', 'Association', 'said', ',', '“', 'We', 'have', 'taken', 'pieces', 'of', 'each', 'group', '’', 's', 'presentation', 'and', 'tried', 'to', 'figure', 'out', 'how', 'is', 'there', 'a', 'piece', 'of', 'this', 'that', 'can', 'work', ',', 'so', 'everybody', 'can', 'try', 'and', 'get', 'some', 'relief', '.', 'Our', 'continued', 'message', 'is', ',', 'share', ',', 'share', ',', 'share', 'The', 'FFA', 'disqualified', 'most', 'of', 'the', 'recommendations', 'claiming', 'FAA', 'regulations', ',', 'limitations', 'on', 'airspace', ',', 'airliner', 'safety', ',', 'traffic', 'from', 'other', 'airports', 'and', 'many', 'other', 'explanations', 'A', 'newcomer', 'to', 'the', 'Task', 'Force', 'meetings', 'was', 'Pacoima', 'Beautiful', 'representing', 'the', 'North', 'East', 'San', 'Fernando', 'Valley', 'Some', 'of', 'the', 'proposals', 'that', 'have', 'been', 'submitted', 'in', 'terms', 'of', 'changing', 'flight', 'paths', 'is', 'really', 'concentrating', 'most', 'of', 'the', 'flight', 'paths', 'North', 'of', 'the', 'airport–basically', 'over', 'our', 'communities', '.', 'We', 'have', 'a', 'problem', 'with', 'that', ',', '”', 'said', 'Andres', 'Ramirez', ',', 'director', 'of', 'Pacoima', 'Beautiful', '“', 'We', 'just', 'have', 'to', 'be', 'very', 'fair', 'in', 'our', 'recommendations', ',', '”', 'said', 'City', 'of', 'Burbank', 'Mayor', 'Sharon', 'Springer', 'We', 'will', 'make', 'recommendations', 'and', 'those', 'recommendations', 'will', 'go', 'to', 'the', 'FAA', ',', 'and', 'they', 'will', 'say', 'yes', 'or', 'no', 'The', 'FAA', 'may', 'know', 'another', 'way', 'to', 'achieve', 'that', 'same', 'outcome', 'Several', 'community', 'groups', 'from', 'the', 'affected', 'areas', 'and', 'representatives', 'of', 'the', 'local', 'congressional', 'districts', 'and', 'California', '’', 's', 'Senators', 'were', 'in', 'attendance', 'Suzanne', 'Lewis', ',', 'board', 'member', 'of', 'the', 'Valley', 'Village', 'Neighborhood', 'Council', 'was', 'direct', ',', '“', 'You', 'know', 'who', 'regulates', 'them', '[', 'FAA', ']', '.', 'Congress', '.', 'That', '’', 's', 'who', 'they', '’', 'll', 'listen', 'to', '.', 'So', 'that', '’', 's', 'who', 'we', 'need', 'to', 'be', 'putting', 'pressure', 'on', '.', 'I', '’', 'm', 'glad', 'our', 'congressmen', 'are', 'here', 'Even', 'the', 'senators…', 'their', 'representatives', 'are', 'here', 'The', 'Task', 'Force', 'has', 'just', 'under', 'a', 'month', 'to', 'recommend', 'possible', 'solutions', 'to', 'the', 'complex', 'issue', 'of', 'Valley', 'jet', 'noise', '.', 'The', 'next', 'meeting', 'of', 'the', 'Task', 'Force', 'will', 'be', 'April', '2', 'at', 'the', 'Los', 'Angeles', 'Marriott', 'Burbank', 'Airport']\n"
          ]
        }
      ]
    },
    {
      "cell_type": "code",
      "source": [
        "sw = nltk.corpus.stopwords.words('english')\n",
        "word_freq = {}\n",
        "for word in nltk.word_tokenize(res):\n",
        "    if word not in sw:\n",
        "        if word not in word_freq.keys():\n",
        "            word_freq[word] = 1\n",
        "        else:\n",
        "            word_freq[word] += 1"
      ],
      "metadata": {
        "id": "0bkGQJUr-mnq"
      },
      "execution_count": 208,
      "outputs": []
    },
    {
      "cell_type": "code",
      "source": [
        "print(word_freq)"
      ],
      "metadata": {
        "colab": {
          "base_uri": "https://localhost:8080/"
        },
        "id": "gWB-YAjt_A-f",
        "outputId": "a41fb42c-9911-4799-9363-208c1711df86"
      },
      "execution_count": 209,
      "outputs": [
        {
          "output_type": "stream",
          "name": "stdout",
          "text": [
            "{'airport': 5, 'task': 10, 'force': 10, 'consider': 1, 'possible': 3, 'actions': 1, 'abate': 1, 'noise': 10, 'issues': 5, 'members': 3, 'southern': 10, 'san': 8, 'fernando': 7, 'valley': 12, 'airplane': 2, 'little': 1, 'month': 2, 'develop': 1, 'recommendations': 9, 'address': 2, 'aircraft': 2, 'affecting': 1, 'south': 5, 'five': 1, 'meetings': 3, 'hearing': 1, 'various': 2, 'neighborhood': 3, 'groups': 7, 'experts': 1, 'aviation': 5, 'consultant': 2, 'hmmh': 9, 'inc': 2, 'facilitator': 1, 'spent': 1, 'majority': 1, 'wednesday': 1, 'night': 1, 'distilling': 1, 'brought': 1, 'forward': 1, 'far': 1, 'feasibility': 1, 'implementing': 1, 'worked': 2, 'kevin': 1, 'karpe': 2, 'expert': 1, 'air': 10, 'traffic': 10, 'controller': 1, 'hollywood': 9, 'burbank': 12, 'federal': 1, 'administration': 1, 'california': 6, 'terminal': 1, 'radar': 1, 'approach': 1, 'control': 2, 'analyze': 1, 'departing': 7, 'flight': 7, 'procedures': 5, 'airfield': 1, 'well': 2, 'van': 4, 'nuys': 4, 'center': 1, 'since': 1, 'march': 2, '2017': 4, 'residents': 3, 'complained': 1, 'increase': 1, 'number': 2, 'planes': 8, 'flying': 1, 'overhead': 1, 'many': 4, 'blame': 1, 'faa': 13, 'next': 2, 'generation': 1, 'transportation': 2, 'system': 3, 'nextgen': 5, 'implemented': 2, 'satellite': 2, 'based': 2, 'navigation': 1, 'geared': 1, 'toward': 2, 'making': 2, 'flights': 8, 'across': 1, 'country': 1, 'fuel': 1, 'efficient': 2, 'safe': 1, 'however': 1, 'became': 1, 'nuisance': 1, 'helpful': 1, 'people': 1, 'throughout': 1, 'united': 1, 'states': 1, 'according': 1, 'news': 1, 'reports': 1, 'drifted': 1, 'around': 1, '101': 4, 'freeway': 4, 'studio': 2, 'city': 4, 'sherman': 1, 'oaks': 1, 'northbound': 5, 'turns': 5, 'head': 1, 'destinations': 1, 'stated': 1, 'past': 1, 'change': 1, 'two': 2, 'airports': 3, 'region': 4, 'argue': 1, 'something': 1, 'happened': 1, 'cause': 1, 'make': 6, 'later': 1, 'rather': 1, 'sooner': 1, 'adam': 1, 'scholten': 6, 'senior': 1, 'said': 12, 'workload': 2, 'controllers': 5, 'tracon': 3, 'facility': 1, 'located': 2, 'diego': 1, 'charge': 1, 'handling': 1, 'may': 2, 'contributing': 1, 'paths': 6, 'shift': 2, 'often': 1, 'combines': 1, 'six': 1, 'sectors': 2, 'depending': 2, 'whether': 1, 'less': 3, 'one': 2, 'fewer': 1, 'available': 1, 'practice': 1, 'result': 2, 'higher': 2, 'workloads': 1, 'part': 1, 'combining': 1, 'paying': 1, 'attention': 1, 'things': 1, 'standard': 2, 'operating': 2, 'agreements': 1, 'established': 1, 'recommended': 3, 'action': 2, 'solve': 1, 'issue': 2, 'review': 1, 'resources': 1, 'study': 2, 'manage': 1, 'among': 1, 'efficiently': 1, 'conducted': 1, 'consulting': 4, 'firm': 3, 'diverse': 1, 'vector': 1, 'llc': 1, 'also': 5, 'found': 1, 'always': 1, 'stick': 1, 'direct': 2, 'pilots': 2, 'meet': 1, 'minimum': 1, 'criteria': 1, 'conduct': 1, 'training': 1, 'refresh': 1, 'reviewed': 1, 'analyzed': 1, 'made': 2, 'uproarla': 1, 'suggested': 3, 'take': 1, 'steeper': 2, 'ascent': 1, 'reaching': 1, 'would': 6, 'difficult': 1, 'every': 1, 'ascend': 1, 'quickly': 1, 'others': 1, 'weather': 1, 'conditions': 1, 'load': 1, 'plane': 1, 'added': 1, 'airlines': 1, 'ignore': 1, 'request': 1, 'mandatory': 1, 'gene': 1, 'reindel': 1, 'vice': 1, 'president': 2, 'director': 2, 'services': 1, 'ascending': 1, 'quicker': 1, 'rate': 1, 'quieter': 2, 'procedure': 1, 'surrounding': 1, 'community': 6, 'organization': 1, 'quiet': 1, 'skies': 1, 'proposed': 1, 'implement': 1, 'waypoints': 3, 'use': 1, 'north': 4, 'could': 1, 'done': 1, 'close': 1, 'landing': 1, 'showed': 1, 'examples': 1, 'go': 2, 'public': 1, 'demonstrated': 1, 'guide': 1, 'create': 1, 'narrow': 1, 'concentrated': 1, 'path': 2, 'neighborhoods': 1, 'displayed': 1, 'happen': 1, 'current': 1, 'stayed': 1, 'used': 1, '2007': 1, 'resulted': 1, 'slightly': 1, 'dispersed': 1, 'farther': 1, 'west': 1, 'encino': 1, 'reconvene': 1, 'april': 2, '1': 1, 'final': 1, 'meeting': 5, 'group': 2, 'deliberate': 1, 'best': 1, 'held': 3, '6': 1, '30': 1, 'p': 1, 'los': 2, 'angeles': 2, 'marriott': 2, '2500': 1, 'n': 1, 'way': 2, 'sixth': 2, 'representatives': 3, 'sat': 1, 'listening': 1, 'passive': 1, 'stone': 1, 'like': 1, 'faces': 1, 'studies': 2, 'solutions': 5, 'presented': 1, 'feb': 1, '19': 1, 'discuss': 1, 'ongoing': 1, 'problem': 2, 'airliner': 3, 'jet': 3, 'including': 1, 'environmental': 1, 'gave': 2, 'detailed': 1, 'lengthy': 1, 'presentation': 2, 'supplying': 1, 'research': 2, 'pros': 1, 'cons': 1, 'listened': 1, 'intently': 1, 'confirmed': 1, 'increased': 1, '2020': 1, 'cheers': 1, 'clapping': 1, 'erupted': 1, 'frustrated': 1, 'audience': 1, 'long': 1, 'extreme': 1, 'start': 1, 'implementation': 1, 'ffa': 2, 'program': 1, 'navigational': 1, 'created': 1, 'safer': 1, 'moved': 1, 'routes': 4, 'historic': 1, 'collective': 1, 'proposal': 1, 'several': 2, 'potential': 1, 'included': 1, 'climb': 1, 'altitude': 1, 'immediately': 1, 'takeoff': 1, 'dispersing': 1, 'wider': 1, 'range': 1, 'single': 1, 'suffer': 1, 'bulk': 1, 'returned': 1, 'historical': 1, 'return': 1, 'earlier': 1, 'beth': 1, 'fulton': 1, 'village': 2, 'homeowners': 1, 'association': 1, 'taken': 1, 'pieces': 1, 'tried': 1, 'figure': 1, 'piece': 1, 'work': 1, 'everybody': 1, 'try': 1, 'get': 1, 'relief': 1, 'continued': 1, 'message': 1, 'share': 3, 'disqualified': 1, 'claiming': 1, 'regulations': 1, 'limitations': 1, 'airspace': 1, 'safety': 1, 'explanations': 1, 'newcomer': 1, 'pacoima': 2, 'beautiful': 2, 'representing': 1, 'east': 1, 'proposals': 1, 'submitted': 1, 'terms': 1, 'changing': 1, 'really': 1, 'concentrating': 1, 'basically': 1, 'communities': 1, 'andres': 1, 'ramirez': 1, 'fair': 1, 'mayor': 1, 'sharon': 1, 'springer': 1, 'say': 1, 'yes': 1, 'know': 2, 'another': 1, 'achieve': 1, 'outcome': 1, 'affected': 1, 'areas': 1, 'local': 1, 'congressional': 1, 'districts': 1, 'senators': 2, 'attendance': 1, 'suzanne': 1, 'lewis': 1, 'board': 1, 'member': 1, 'council': 1, 'regulates': 1, 'congress': 1, 'listen': 1, 'need': 1, 'putting': 1, 'pressure': 1, 'glad': 1, 'congressmen': 1, 'even': 1, 'recommend': 1, 'complex': 1, '2': 1}\n"
          ]
        }
      ]
    },
    {
      "cell_type": "markdown",
      "source": [
        "**Exercise 4: Sentiment analysis with spaCy.**"
      ],
      "metadata": {
        "id": "Nl063B9H_agt"
      }
    },
    {
      "cell_type": "code",
      "source": [
        "amz = pd.read_table('amazon_cells_labelled.txt')\n",
        "imdb = pd.read_table('imdb_labelled.txt')\n",
        "yelp = pd.read_table('yelp_labelled.txt')"
      ],
      "metadata": {
        "id": "wXuhGdqTpTkS"
      },
      "execution_count": 210,
      "outputs": []
    },
    {
      "cell_type": "code",
      "source": [
        "combined_col=[amz, imdb, yelp]"
      ],
      "metadata": {
        "id": "2plUBk93BVph"
      },
      "execution_count": 211,
      "outputs": []
    },
    {
      "cell_type": "code",
      "source": [
        "for column_name in combined_col:\n",
        "  column_name.columns=['Review','Label']"
      ],
      "metadata": {
        "id": "rXSu7y0BDNJB"
      },
      "execution_count": 212,
      "outputs": []
    },
    {
      "cell_type": "code",
      "source": [
        "for column_name in combined_col:\n",
        "  print(column_name.columns)"
      ],
      "metadata": {
        "colab": {
          "base_uri": "https://localhost:8080/"
        },
        "id": "hf-DNVbd_kE6",
        "outputId": "29081a19-2402-4680-dc71-32da51471542"
      },
      "execution_count": 213,
      "outputs": [
        {
          "output_type": "stream",
          "name": "stdout",
          "text": [
            "Index(['Review', 'Label'], dtype='object')\n",
            "Index(['Review', 'Label'], dtype='object')\n",
            "Index(['Review', 'Label'], dtype='object')\n"
          ]
        }
      ]
    },
    {
      "cell_type": "code",
      "source": [
        "keys_df=['amazon','imdb','yelp']"
      ],
      "metadata": {
        "id": "OTkA6y9-DQdL"
      },
      "execution_count": 214,
      "outputs": []
    },
    {
      "cell_type": "code",
      "source": [
        "comb_data = pd.concat(combined_col,keys=keys_df).reset_index()\n",
        "comb_data"
      ],
      "metadata": {
        "colab": {
          "base_uri": "https://localhost:8080/",
          "height": 424
        },
        "id": "ZNR53DlsDS4m",
        "outputId": "2d9e79c8-448c-49cc-816e-e314394fc9d5"
      },
      "execution_count": 215,
      "outputs": [
        {
          "output_type": "execute_result",
          "data": {
            "text/plain": [
              "     level_0  level_1                                             Review  \\\n",
              "0     amazon        0                        Good case, Excellent value.   \n",
              "1     amazon        1                             Great for the jawbone.   \n",
              "2     amazon        2  Tied to charger for conversations lasting more...   \n",
              "3     amazon        3                                  The mic is great.   \n",
              "4     amazon        4  I have to jiggle the plug to get it to line up...   \n",
              "...      ...      ...                                                ...   \n",
              "2740    yelp      994  I think food should have flavor and texture an...   \n",
              "2741    yelp      995                           Appetite instantly gone.   \n",
              "2742    yelp      996  Overall I was not impressed and would not go b...   \n",
              "2743    yelp      997  The whole experience was underwhelming, and I ...   \n",
              "2744    yelp      998  Then, as if I hadn't wasted enough of my life ...   \n",
              "\n",
              "      Label  \n",
              "0         1  \n",
              "1         1  \n",
              "2         0  \n",
              "3         1  \n",
              "4         0  \n",
              "...     ...  \n",
              "2740      0  \n",
              "2741      0  \n",
              "2742      0  \n",
              "2743      0  \n",
              "2744      0  \n",
              "\n",
              "[2745 rows x 4 columns]"
            ],
            "text/html": [
              "\n",
              "  <div id=\"df-4a4b15f8-c2c5-4d2b-97ee-f92f4e9a9a84\">\n",
              "    <div class=\"colab-df-container\">\n",
              "      <div>\n",
              "<style scoped>\n",
              "    .dataframe tbody tr th:only-of-type {\n",
              "        vertical-align: middle;\n",
              "    }\n",
              "\n",
              "    .dataframe tbody tr th {\n",
              "        vertical-align: top;\n",
              "    }\n",
              "\n",
              "    .dataframe thead th {\n",
              "        text-align: right;\n",
              "    }\n",
              "</style>\n",
              "<table border=\"1\" class=\"dataframe\">\n",
              "  <thead>\n",
              "    <tr style=\"text-align: right;\">\n",
              "      <th></th>\n",
              "      <th>level_0</th>\n",
              "      <th>level_1</th>\n",
              "      <th>Review</th>\n",
              "      <th>Label</th>\n",
              "    </tr>\n",
              "  </thead>\n",
              "  <tbody>\n",
              "    <tr>\n",
              "      <th>0</th>\n",
              "      <td>amazon</td>\n",
              "      <td>0</td>\n",
              "      <td>Good case, Excellent value.</td>\n",
              "      <td>1</td>\n",
              "    </tr>\n",
              "    <tr>\n",
              "      <th>1</th>\n",
              "      <td>amazon</td>\n",
              "      <td>1</td>\n",
              "      <td>Great for the jawbone.</td>\n",
              "      <td>1</td>\n",
              "    </tr>\n",
              "    <tr>\n",
              "      <th>2</th>\n",
              "      <td>amazon</td>\n",
              "      <td>2</td>\n",
              "      <td>Tied to charger for conversations lasting more...</td>\n",
              "      <td>0</td>\n",
              "    </tr>\n",
              "    <tr>\n",
              "      <th>3</th>\n",
              "      <td>amazon</td>\n",
              "      <td>3</td>\n",
              "      <td>The mic is great.</td>\n",
              "      <td>1</td>\n",
              "    </tr>\n",
              "    <tr>\n",
              "      <th>4</th>\n",
              "      <td>amazon</td>\n",
              "      <td>4</td>\n",
              "      <td>I have to jiggle the plug to get it to line up...</td>\n",
              "      <td>0</td>\n",
              "    </tr>\n",
              "    <tr>\n",
              "      <th>...</th>\n",
              "      <td>...</td>\n",
              "      <td>...</td>\n",
              "      <td>...</td>\n",
              "      <td>...</td>\n",
              "    </tr>\n",
              "    <tr>\n",
              "      <th>2740</th>\n",
              "      <td>yelp</td>\n",
              "      <td>994</td>\n",
              "      <td>I think food should have flavor and texture an...</td>\n",
              "      <td>0</td>\n",
              "    </tr>\n",
              "    <tr>\n",
              "      <th>2741</th>\n",
              "      <td>yelp</td>\n",
              "      <td>995</td>\n",
              "      <td>Appetite instantly gone.</td>\n",
              "      <td>0</td>\n",
              "    </tr>\n",
              "    <tr>\n",
              "      <th>2742</th>\n",
              "      <td>yelp</td>\n",
              "      <td>996</td>\n",
              "      <td>Overall I was not impressed and would not go b...</td>\n",
              "      <td>0</td>\n",
              "    </tr>\n",
              "    <tr>\n",
              "      <th>2743</th>\n",
              "      <td>yelp</td>\n",
              "      <td>997</td>\n",
              "      <td>The whole experience was underwhelming, and I ...</td>\n",
              "      <td>0</td>\n",
              "    </tr>\n",
              "    <tr>\n",
              "      <th>2744</th>\n",
              "      <td>yelp</td>\n",
              "      <td>998</td>\n",
              "      <td>Then, as if I hadn't wasted enough of my life ...</td>\n",
              "      <td>0</td>\n",
              "    </tr>\n",
              "  </tbody>\n",
              "</table>\n",
              "<p>2745 rows × 4 columns</p>\n",
              "</div>\n",
              "      <button class=\"colab-df-convert\" onclick=\"convertToInteractive('df-4a4b15f8-c2c5-4d2b-97ee-f92f4e9a9a84')\"\n",
              "              title=\"Convert this dataframe to an interactive table.\"\n",
              "              style=\"display:none;\">\n",
              "        \n",
              "  <svg xmlns=\"http://www.w3.org/2000/svg\" height=\"24px\"viewBox=\"0 0 24 24\"\n",
              "       width=\"24px\">\n",
              "    <path d=\"M0 0h24v24H0V0z\" fill=\"none\"/>\n",
              "    <path d=\"M18.56 5.44l.94 2.06.94-2.06 2.06-.94-2.06-.94-.94-2.06-.94 2.06-2.06.94zm-11 1L8.5 8.5l.94-2.06 2.06-.94-2.06-.94L8.5 2.5l-.94 2.06-2.06.94zm10 10l.94 2.06.94-2.06 2.06-.94-2.06-.94-.94-2.06-.94 2.06-2.06.94z\"/><path d=\"M17.41 7.96l-1.37-1.37c-.4-.4-.92-.59-1.43-.59-.52 0-1.04.2-1.43.59L10.3 9.45l-7.72 7.72c-.78.78-.78 2.05 0 2.83L4 21.41c.39.39.9.59 1.41.59.51 0 1.02-.2 1.41-.59l7.78-7.78 2.81-2.81c.8-.78.8-2.07 0-2.86zM5.41 20L4 18.59l7.72-7.72 1.47 1.35L5.41 20z\"/>\n",
              "  </svg>\n",
              "      </button>\n",
              "      \n",
              "  <style>\n",
              "    .colab-df-container {\n",
              "      display:flex;\n",
              "      flex-wrap:wrap;\n",
              "      gap: 12px;\n",
              "    }\n",
              "\n",
              "    .colab-df-convert {\n",
              "      background-color: #E8F0FE;\n",
              "      border: none;\n",
              "      border-radius: 50%;\n",
              "      cursor: pointer;\n",
              "      display: none;\n",
              "      fill: #1967D2;\n",
              "      height: 32px;\n",
              "      padding: 0 0 0 0;\n",
              "      width: 32px;\n",
              "    }\n",
              "\n",
              "    .colab-df-convert:hover {\n",
              "      background-color: #E2EBFA;\n",
              "      box-shadow: 0px 1px 2px rgba(60, 64, 67, 0.3), 0px 1px 3px 1px rgba(60, 64, 67, 0.15);\n",
              "      fill: #174EA6;\n",
              "    }\n",
              "\n",
              "    [theme=dark] .colab-df-convert {\n",
              "      background-color: #3B4455;\n",
              "      fill: #D2E3FC;\n",
              "    }\n",
              "\n",
              "    [theme=dark] .colab-df-convert:hover {\n",
              "      background-color: #434B5C;\n",
              "      box-shadow: 0px 1px 3px 1px rgba(0, 0, 0, 0.15);\n",
              "      filter: drop-shadow(0px 1px 2px rgba(0, 0, 0, 0.3));\n",
              "      fill: #FFFFFF;\n",
              "    }\n",
              "  </style>\n",
              "\n",
              "      <script>\n",
              "        const buttonEl =\n",
              "          document.querySelector('#df-4a4b15f8-c2c5-4d2b-97ee-f92f4e9a9a84 button.colab-df-convert');\n",
              "        buttonEl.style.display =\n",
              "          google.colab.kernel.accessAllowed ? 'block' : 'none';\n",
              "\n",
              "        async function convertToInteractive(key) {\n",
              "          const element = document.querySelector('#df-4a4b15f8-c2c5-4d2b-97ee-f92f4e9a9a84');\n",
              "          const dataTable =\n",
              "            await google.colab.kernel.invokeFunction('convertToInteractive',\n",
              "                                                     [key], {});\n",
              "          if (!dataTable) return;\n",
              "\n",
              "          const docLinkHtml = 'Like what you see? Visit the ' +\n",
              "            '<a target=\"_blank\" href=https://colab.research.google.com/notebooks/data_table.ipynb>data table notebook</a>'\n",
              "            + ' to learn more about interactive tables.';\n",
              "          element.innerHTML = '';\n",
              "          dataTable['output_type'] = 'display_data';\n",
              "          await google.colab.output.renderOutput(dataTable, element);\n",
              "          const docLink = document.createElement('div');\n",
              "          docLink.innerHTML = docLinkHtml;\n",
              "          element.appendChild(docLink);\n",
              "        }\n",
              "      </script>\n",
              "    </div>\n",
              "  </div>\n",
              "  "
            ]
          },
          "metadata": {},
          "execution_count": 215
        }
      ]
    },
    {
      "cell_type": "code",
      "source": [
        "comb_data=comb_data.drop('level_1',axis=1)\n",
        "comb_data"
      ],
      "metadata": {
        "id": "QXa6jP2i5YaD",
        "colab": {
          "base_uri": "https://localhost:8080/",
          "height": 424
        },
        "outputId": "cf75f617-51f8-498d-bc90-bf96eb3a3ef2"
      },
      "execution_count": 216,
      "outputs": [
        {
          "output_type": "execute_result",
          "data": {
            "text/plain": [
              "     level_0                                             Review  Label\n",
              "0     amazon                        Good case, Excellent value.      1\n",
              "1     amazon                             Great for the jawbone.      1\n",
              "2     amazon  Tied to charger for conversations lasting more...      0\n",
              "3     amazon                                  The mic is great.      1\n",
              "4     amazon  I have to jiggle the plug to get it to line up...      0\n",
              "...      ...                                                ...    ...\n",
              "2740    yelp  I think food should have flavor and texture an...      0\n",
              "2741    yelp                           Appetite instantly gone.      0\n",
              "2742    yelp  Overall I was not impressed and would not go b...      0\n",
              "2743    yelp  The whole experience was underwhelming, and I ...      0\n",
              "2744    yelp  Then, as if I hadn't wasted enough of my life ...      0\n",
              "\n",
              "[2745 rows x 3 columns]"
            ],
            "text/html": [
              "\n",
              "  <div id=\"df-4df12bb9-4837-43c0-aea8-8380cf082540\">\n",
              "    <div class=\"colab-df-container\">\n",
              "      <div>\n",
              "<style scoped>\n",
              "    .dataframe tbody tr th:only-of-type {\n",
              "        vertical-align: middle;\n",
              "    }\n",
              "\n",
              "    .dataframe tbody tr th {\n",
              "        vertical-align: top;\n",
              "    }\n",
              "\n",
              "    .dataframe thead th {\n",
              "        text-align: right;\n",
              "    }\n",
              "</style>\n",
              "<table border=\"1\" class=\"dataframe\">\n",
              "  <thead>\n",
              "    <tr style=\"text-align: right;\">\n",
              "      <th></th>\n",
              "      <th>level_0</th>\n",
              "      <th>Review</th>\n",
              "      <th>Label</th>\n",
              "    </tr>\n",
              "  </thead>\n",
              "  <tbody>\n",
              "    <tr>\n",
              "      <th>0</th>\n",
              "      <td>amazon</td>\n",
              "      <td>Good case, Excellent value.</td>\n",
              "      <td>1</td>\n",
              "    </tr>\n",
              "    <tr>\n",
              "      <th>1</th>\n",
              "      <td>amazon</td>\n",
              "      <td>Great for the jawbone.</td>\n",
              "      <td>1</td>\n",
              "    </tr>\n",
              "    <tr>\n",
              "      <th>2</th>\n",
              "      <td>amazon</td>\n",
              "      <td>Tied to charger for conversations lasting more...</td>\n",
              "      <td>0</td>\n",
              "    </tr>\n",
              "    <tr>\n",
              "      <th>3</th>\n",
              "      <td>amazon</td>\n",
              "      <td>The mic is great.</td>\n",
              "      <td>1</td>\n",
              "    </tr>\n",
              "    <tr>\n",
              "      <th>4</th>\n",
              "      <td>amazon</td>\n",
              "      <td>I have to jiggle the plug to get it to line up...</td>\n",
              "      <td>0</td>\n",
              "    </tr>\n",
              "    <tr>\n",
              "      <th>...</th>\n",
              "      <td>...</td>\n",
              "      <td>...</td>\n",
              "      <td>...</td>\n",
              "    </tr>\n",
              "    <tr>\n",
              "      <th>2740</th>\n",
              "      <td>yelp</td>\n",
              "      <td>I think food should have flavor and texture an...</td>\n",
              "      <td>0</td>\n",
              "    </tr>\n",
              "    <tr>\n",
              "      <th>2741</th>\n",
              "      <td>yelp</td>\n",
              "      <td>Appetite instantly gone.</td>\n",
              "      <td>0</td>\n",
              "    </tr>\n",
              "    <tr>\n",
              "      <th>2742</th>\n",
              "      <td>yelp</td>\n",
              "      <td>Overall I was not impressed and would not go b...</td>\n",
              "      <td>0</td>\n",
              "    </tr>\n",
              "    <tr>\n",
              "      <th>2743</th>\n",
              "      <td>yelp</td>\n",
              "      <td>The whole experience was underwhelming, and I ...</td>\n",
              "      <td>0</td>\n",
              "    </tr>\n",
              "    <tr>\n",
              "      <th>2744</th>\n",
              "      <td>yelp</td>\n",
              "      <td>Then, as if I hadn't wasted enough of my life ...</td>\n",
              "      <td>0</td>\n",
              "    </tr>\n",
              "  </tbody>\n",
              "</table>\n",
              "<p>2745 rows × 3 columns</p>\n",
              "</div>\n",
              "      <button class=\"colab-df-convert\" onclick=\"convertToInteractive('df-4df12bb9-4837-43c0-aea8-8380cf082540')\"\n",
              "              title=\"Convert this dataframe to an interactive table.\"\n",
              "              style=\"display:none;\">\n",
              "        \n",
              "  <svg xmlns=\"http://www.w3.org/2000/svg\" height=\"24px\"viewBox=\"0 0 24 24\"\n",
              "       width=\"24px\">\n",
              "    <path d=\"M0 0h24v24H0V0z\" fill=\"none\"/>\n",
              "    <path d=\"M18.56 5.44l.94 2.06.94-2.06 2.06-.94-2.06-.94-.94-2.06-.94 2.06-2.06.94zm-11 1L8.5 8.5l.94-2.06 2.06-.94-2.06-.94L8.5 2.5l-.94 2.06-2.06.94zm10 10l.94 2.06.94-2.06 2.06-.94-2.06-.94-.94-2.06-.94 2.06-2.06.94z\"/><path d=\"M17.41 7.96l-1.37-1.37c-.4-.4-.92-.59-1.43-.59-.52 0-1.04.2-1.43.59L10.3 9.45l-7.72 7.72c-.78.78-.78 2.05 0 2.83L4 21.41c.39.39.9.59 1.41.59.51 0 1.02-.2 1.41-.59l7.78-7.78 2.81-2.81c.8-.78.8-2.07 0-2.86zM5.41 20L4 18.59l7.72-7.72 1.47 1.35L5.41 20z\"/>\n",
              "  </svg>\n",
              "      </button>\n",
              "      \n",
              "  <style>\n",
              "    .colab-df-container {\n",
              "      display:flex;\n",
              "      flex-wrap:wrap;\n",
              "      gap: 12px;\n",
              "    }\n",
              "\n",
              "    .colab-df-convert {\n",
              "      background-color: #E8F0FE;\n",
              "      border: none;\n",
              "      border-radius: 50%;\n",
              "      cursor: pointer;\n",
              "      display: none;\n",
              "      fill: #1967D2;\n",
              "      height: 32px;\n",
              "      padding: 0 0 0 0;\n",
              "      width: 32px;\n",
              "    }\n",
              "\n",
              "    .colab-df-convert:hover {\n",
              "      background-color: #E2EBFA;\n",
              "      box-shadow: 0px 1px 2px rgba(60, 64, 67, 0.3), 0px 1px 3px 1px rgba(60, 64, 67, 0.15);\n",
              "      fill: #174EA6;\n",
              "    }\n",
              "\n",
              "    [theme=dark] .colab-df-convert {\n",
              "      background-color: #3B4455;\n",
              "      fill: #D2E3FC;\n",
              "    }\n",
              "\n",
              "    [theme=dark] .colab-df-convert:hover {\n",
              "      background-color: #434B5C;\n",
              "      box-shadow: 0px 1px 3px 1px rgba(0, 0, 0, 0.15);\n",
              "      filter: drop-shadow(0px 1px 2px rgba(0, 0, 0, 0.3));\n",
              "      fill: #FFFFFF;\n",
              "    }\n",
              "  </style>\n",
              "\n",
              "      <script>\n",
              "        const buttonEl =\n",
              "          document.querySelector('#df-4df12bb9-4837-43c0-aea8-8380cf082540 button.colab-df-convert');\n",
              "        buttonEl.style.display =\n",
              "          google.colab.kernel.accessAllowed ? 'block' : 'none';\n",
              "\n",
              "        async function convertToInteractive(key) {\n",
              "          const element = document.querySelector('#df-4df12bb9-4837-43c0-aea8-8380cf082540');\n",
              "          const dataTable =\n",
              "            await google.colab.kernel.invokeFunction('convertToInteractive',\n",
              "                                                     [key], {});\n",
              "          if (!dataTable) return;\n",
              "\n",
              "          const docLinkHtml = 'Like what you see? Visit the ' +\n",
              "            '<a target=\"_blank\" href=https://colab.research.google.com/notebooks/data_table.ipynb>data table notebook</a>'\n",
              "            + ' to learn more about interactive tables.';\n",
              "          element.innerHTML = '';\n",
              "          dataTable['output_type'] = 'display_data';\n",
              "          await google.colab.output.renderOutput(dataTable, element);\n",
              "          const docLink = document.createElement('div');\n",
              "          docLink.innerHTML = docLinkHtml;\n",
              "          element.appendChild(docLink);\n",
              "        }\n",
              "      </script>\n",
              "    </div>\n",
              "  </div>\n",
              "  "
            ]
          },
          "metadata": {},
          "execution_count": 216
        }
      ]
    },
    {
      "cell_type": "code",
      "source": [
        "comb_data.isnull().sum()"
      ],
      "metadata": {
        "colab": {
          "base_uri": "https://localhost:8080/"
        },
        "id": "LI3qUqJr5MJE",
        "outputId": "e10c34a4-0f8b-45b7-f389-b917889624a9"
      },
      "execution_count": 228,
      "outputs": [
        {
          "output_type": "execute_result",
          "data": {
            "text/plain": [
              "level_0    0\n",
              "Review     0\n",
              "Label      0\n",
              "dtype: int64"
            ]
          },
          "metadata": {},
          "execution_count": 228
        }
      ]
    },
    {
      "cell_type": "code",
      "source": [
        "comb_data.to_csv(\"SAD.csv\", index=False)"
      ],
      "metadata": {
        "id": "YKsSVFEA5PEb"
      },
      "execution_count": 229,
      "outputs": []
    },
    {
      "cell_type": "code",
      "source": [
        "df = pd.read_csv('SAD.csv')\n",
        "df"
      ],
      "metadata": {
        "colab": {
          "base_uri": "https://localhost:8080/",
          "height": 424
        },
        "id": "mGKbiVW15bAH",
        "outputId": "221551c2-1dd6-4f06-9e23-225bb232508e"
      },
      "execution_count": 231,
      "outputs": [
        {
          "output_type": "execute_result",
          "data": {
            "text/plain": [
              "     level_0                                             Review  Label\n",
              "0     amazon                        Good case, Excellent value.      1\n",
              "1     amazon                             Great for the jawbone.      1\n",
              "2     amazon  Tied to charger for conversations lasting more...      0\n",
              "3     amazon                                  The mic is great.      1\n",
              "4     amazon  I have to jiggle the plug to get it to line up...      0\n",
              "...      ...                                                ...    ...\n",
              "2740    yelp  I think food should have flavor and texture an...      0\n",
              "2741    yelp                           Appetite instantly gone.      0\n",
              "2742    yelp  Overall I was not impressed and would not go b...      0\n",
              "2743    yelp  The whole experience was underwhelming, and I ...      0\n",
              "2744    yelp  Then, as if I hadn't wasted enough of my life ...      0\n",
              "\n",
              "[2745 rows x 3 columns]"
            ],
            "text/html": [
              "\n",
              "  <div id=\"df-e029b4f7-5616-4830-b9a2-7ba274725bf1\">\n",
              "    <div class=\"colab-df-container\">\n",
              "      <div>\n",
              "<style scoped>\n",
              "    .dataframe tbody tr th:only-of-type {\n",
              "        vertical-align: middle;\n",
              "    }\n",
              "\n",
              "    .dataframe tbody tr th {\n",
              "        vertical-align: top;\n",
              "    }\n",
              "\n",
              "    .dataframe thead th {\n",
              "        text-align: right;\n",
              "    }\n",
              "</style>\n",
              "<table border=\"1\" class=\"dataframe\">\n",
              "  <thead>\n",
              "    <tr style=\"text-align: right;\">\n",
              "      <th></th>\n",
              "      <th>level_0</th>\n",
              "      <th>Review</th>\n",
              "      <th>Label</th>\n",
              "    </tr>\n",
              "  </thead>\n",
              "  <tbody>\n",
              "    <tr>\n",
              "      <th>0</th>\n",
              "      <td>amazon</td>\n",
              "      <td>Good case, Excellent value.</td>\n",
              "      <td>1</td>\n",
              "    </tr>\n",
              "    <tr>\n",
              "      <th>1</th>\n",
              "      <td>amazon</td>\n",
              "      <td>Great for the jawbone.</td>\n",
              "      <td>1</td>\n",
              "    </tr>\n",
              "    <tr>\n",
              "      <th>2</th>\n",
              "      <td>amazon</td>\n",
              "      <td>Tied to charger for conversations lasting more...</td>\n",
              "      <td>0</td>\n",
              "    </tr>\n",
              "    <tr>\n",
              "      <th>3</th>\n",
              "      <td>amazon</td>\n",
              "      <td>The mic is great.</td>\n",
              "      <td>1</td>\n",
              "    </tr>\n",
              "    <tr>\n",
              "      <th>4</th>\n",
              "      <td>amazon</td>\n",
              "      <td>I have to jiggle the plug to get it to line up...</td>\n",
              "      <td>0</td>\n",
              "    </tr>\n",
              "    <tr>\n",
              "      <th>...</th>\n",
              "      <td>...</td>\n",
              "      <td>...</td>\n",
              "      <td>...</td>\n",
              "    </tr>\n",
              "    <tr>\n",
              "      <th>2740</th>\n",
              "      <td>yelp</td>\n",
              "      <td>I think food should have flavor and texture an...</td>\n",
              "      <td>0</td>\n",
              "    </tr>\n",
              "    <tr>\n",
              "      <th>2741</th>\n",
              "      <td>yelp</td>\n",
              "      <td>Appetite instantly gone.</td>\n",
              "      <td>0</td>\n",
              "    </tr>\n",
              "    <tr>\n",
              "      <th>2742</th>\n",
              "      <td>yelp</td>\n",
              "      <td>Overall I was not impressed and would not go b...</td>\n",
              "      <td>0</td>\n",
              "    </tr>\n",
              "    <tr>\n",
              "      <th>2743</th>\n",
              "      <td>yelp</td>\n",
              "      <td>The whole experience was underwhelming, and I ...</td>\n",
              "      <td>0</td>\n",
              "    </tr>\n",
              "    <tr>\n",
              "      <th>2744</th>\n",
              "      <td>yelp</td>\n",
              "      <td>Then, as if I hadn't wasted enough of my life ...</td>\n",
              "      <td>0</td>\n",
              "    </tr>\n",
              "  </tbody>\n",
              "</table>\n",
              "<p>2745 rows × 3 columns</p>\n",
              "</div>\n",
              "      <button class=\"colab-df-convert\" onclick=\"convertToInteractive('df-e029b4f7-5616-4830-b9a2-7ba274725bf1')\"\n",
              "              title=\"Convert this dataframe to an interactive table.\"\n",
              "              style=\"display:none;\">\n",
              "        \n",
              "  <svg xmlns=\"http://www.w3.org/2000/svg\" height=\"24px\"viewBox=\"0 0 24 24\"\n",
              "       width=\"24px\">\n",
              "    <path d=\"M0 0h24v24H0V0z\" fill=\"none\"/>\n",
              "    <path d=\"M18.56 5.44l.94 2.06.94-2.06 2.06-.94-2.06-.94-.94-2.06-.94 2.06-2.06.94zm-11 1L8.5 8.5l.94-2.06 2.06-.94-2.06-.94L8.5 2.5l-.94 2.06-2.06.94zm10 10l.94 2.06.94-2.06 2.06-.94-2.06-.94-.94-2.06-.94 2.06-2.06.94z\"/><path d=\"M17.41 7.96l-1.37-1.37c-.4-.4-.92-.59-1.43-.59-.52 0-1.04.2-1.43.59L10.3 9.45l-7.72 7.72c-.78.78-.78 2.05 0 2.83L4 21.41c.39.39.9.59 1.41.59.51 0 1.02-.2 1.41-.59l7.78-7.78 2.81-2.81c.8-.78.8-2.07 0-2.86zM5.41 20L4 18.59l7.72-7.72 1.47 1.35L5.41 20z\"/>\n",
              "  </svg>\n",
              "      </button>\n",
              "      \n",
              "  <style>\n",
              "    .colab-df-container {\n",
              "      display:flex;\n",
              "      flex-wrap:wrap;\n",
              "      gap: 12px;\n",
              "    }\n",
              "\n",
              "    .colab-df-convert {\n",
              "      background-color: #E8F0FE;\n",
              "      border: none;\n",
              "      border-radius: 50%;\n",
              "      cursor: pointer;\n",
              "      display: none;\n",
              "      fill: #1967D2;\n",
              "      height: 32px;\n",
              "      padding: 0 0 0 0;\n",
              "      width: 32px;\n",
              "    }\n",
              "\n",
              "    .colab-df-convert:hover {\n",
              "      background-color: #E2EBFA;\n",
              "      box-shadow: 0px 1px 2px rgba(60, 64, 67, 0.3), 0px 1px 3px 1px rgba(60, 64, 67, 0.15);\n",
              "      fill: #174EA6;\n",
              "    }\n",
              "\n",
              "    [theme=dark] .colab-df-convert {\n",
              "      background-color: #3B4455;\n",
              "      fill: #D2E3FC;\n",
              "    }\n",
              "\n",
              "    [theme=dark] .colab-df-convert:hover {\n",
              "      background-color: #434B5C;\n",
              "      box-shadow: 0px 1px 3px 1px rgba(0, 0, 0, 0.15);\n",
              "      filter: drop-shadow(0px 1px 2px rgba(0, 0, 0, 0.3));\n",
              "      fill: #FFFFFF;\n",
              "    }\n",
              "  </style>\n",
              "\n",
              "      <script>\n",
              "        const buttonEl =\n",
              "          document.querySelector('#df-e029b4f7-5616-4830-b9a2-7ba274725bf1 button.colab-df-convert');\n",
              "        buttonEl.style.display =\n",
              "          google.colab.kernel.accessAllowed ? 'block' : 'none';\n",
              "\n",
              "        async function convertToInteractive(key) {\n",
              "          const element = document.querySelector('#df-e029b4f7-5616-4830-b9a2-7ba274725bf1');\n",
              "          const dataTable =\n",
              "            await google.colab.kernel.invokeFunction('convertToInteractive',\n",
              "                                                     [key], {});\n",
              "          if (!dataTable) return;\n",
              "\n",
              "          const docLinkHtml = 'Like what you see? Visit the ' +\n",
              "            '<a target=\"_blank\" href=https://colab.research.google.com/notebooks/data_table.ipynb>data table notebook</a>'\n",
              "            + ' to learn more about interactive tables.';\n",
              "          element.innerHTML = '';\n",
              "          dataTable['output_type'] = 'display_data';\n",
              "          await google.colab.output.renderOutput(dataTable, element);\n",
              "          const docLink = document.createElement('div');\n",
              "          docLink.innerHTML = docLinkHtml;\n",
              "          element.appendChild(docLink);\n",
              "        }\n",
              "      </script>\n",
              "    </div>\n",
              "  </div>\n",
              "  "
            ]
          },
          "metadata": {},
          "execution_count": 231
        }
      ]
    },
    {
      "cell_type": "code",
      "source": [
        "punct = string.punctuation\n",
        "punct"
      ],
      "metadata": {
        "colab": {
          "base_uri": "https://localhost:8080/",
          "height": 35
        },
        "id": "qFyqO7405cVH",
        "outputId": "47dfc5f3-bd68-4825-c0fa-2ce819dcf7c4"
      },
      "execution_count": 232,
      "outputs": [
        {
          "output_type": "execute_result",
          "data": {
            "text/plain": [
              "'!\"#$%&\\'()*+,-./:;<=>?@[\\\\]^_`{|}~'"
            ],
            "application/vnd.google.colaboratory.intrinsic+json": {
              "type": "string"
            }
          },
          "metadata": {},
          "execution_count": 232
        }
      ]
    },
    {
      "cell_type": "code",
      "source": [
        "nlp = spacy.load(\"en_core_web_sm\")\n",
        "stpwrds = list(STOP_WORDS)\n",
        "stpwrds"
      ],
      "metadata": {
        "colab": {
          "base_uri": "https://localhost:8080/"
        },
        "id": "nczWKQUf5snj",
        "outputId": "cb8cc57f-177e-42e2-ecd7-fc4e539dd10d"
      },
      "execution_count": 234,
      "outputs": [
        {
          "output_type": "execute_result",
          "data": {
            "text/plain": [
              "['noone',\n",
              " 'not',\n",
              " 'was',\n",
              " 'four',\n",
              " 'everyone',\n",
              " '‘ve',\n",
              " 'than',\n",
              " 'together',\n",
              " 'me',\n",
              " \"'re\",\n",
              " 'should',\n",
              " 'whereas',\n",
              " 'between',\n",
              " 'of',\n",
              " 'give',\n",
              " 'whether',\n",
              " 'there',\n",
              " 'nevertheless',\n",
              " 'which',\n",
              " 'here',\n",
              " 'very',\n",
              " 'take',\n",
              " 'twenty',\n",
              " 'within',\n",
              " 'n’t',\n",
              " \"'s\",\n",
              " 'thereafter',\n",
              " 'five',\n",
              " 'whereby',\n",
              " 'perhaps',\n",
              " 'besides',\n",
              " 'has',\n",
              " 'ca',\n",
              " 'as',\n",
              " 'all',\n",
              " 'since',\n",
              " 'yet',\n",
              " 'nowhere',\n",
              " 'whence',\n",
              " 'be',\n",
              " 'them',\n",
              " 'made',\n",
              " 'would',\n",
              " 'first',\n",
              " 'for',\n",
              " 'amongst',\n",
              " 'else',\n",
              " 'sometime',\n",
              " 'part',\n",
              " 'afterwards',\n",
              " 'same',\n",
              " 'quite',\n",
              " 'therefore',\n",
              " 'most',\n",
              " 're',\n",
              " 'have',\n",
              " 'might',\n",
              " 'wherein',\n",
              " 'elsewhere',\n",
              " 'nor',\n",
              " 'nine',\n",
              " 'though',\n",
              " 'nobody',\n",
              " 'you',\n",
              " 'after',\n",
              " 'rather',\n",
              " 'whereupon',\n",
              " 'front',\n",
              " 'because',\n",
              " 'my',\n",
              " 'becoming',\n",
              " 'seems',\n",
              " 'under',\n",
              " 'seemed',\n",
              " 'while',\n",
              " \"'m\",\n",
              " 'thus',\n",
              " 'thereupon',\n",
              " 'how',\n",
              " 'bottom',\n",
              " 'only',\n",
              " 'she',\n",
              " 'hundred',\n",
              " 'somewhere',\n",
              " 'via',\n",
              " 'an',\n",
              " 'formerly',\n",
              " 'using',\n",
              " 'a',\n",
              " 'it',\n",
              " 'always',\n",
              " 'another',\n",
              " 'mostly',\n",
              " 'put',\n",
              " 'did',\n",
              " 'may',\n",
              " 'her',\n",
              " 'eleven',\n",
              " 'seem',\n",
              " 'further',\n",
              " 'throughout',\n",
              " 'therein',\n",
              " 'no',\n",
              " 'thru',\n",
              " 'see',\n",
              " 'moreover',\n",
              " 'back',\n",
              " 'herself',\n",
              " 'their',\n",
              " 'when',\n",
              " 'ever',\n",
              " 'namely',\n",
              " 'were',\n",
              " 'among',\n",
              " 'six',\n",
              " 'doing',\n",
              " 'almost',\n",
              " 'really',\n",
              " 'with',\n",
              " 'indeed',\n",
              " 'had',\n",
              " 'been',\n",
              " 'amount',\n",
              " 'such',\n",
              " 'can',\n",
              " 'beforehand',\n",
              " 'two',\n",
              " 'latter',\n",
              " 'becomes',\n",
              " 'any',\n",
              " 'over',\n",
              " '’ve',\n",
              " 'in',\n",
              " 'already',\n",
              " 'into',\n",
              " 'hers',\n",
              " '’d',\n",
              " 'name',\n",
              " 'however',\n",
              " 'either',\n",
              " 'although',\n",
              " 'done',\n",
              " 'so',\n",
              " 'toward',\n",
              " 'we',\n",
              " '‘ll',\n",
              " 'meanwhile',\n",
              " 'are',\n",
              " 'former',\n",
              " 'some',\n",
              " 'anywhere',\n",
              " 'seeming',\n",
              " 'n‘t',\n",
              " 'twelve',\n",
              " 'whole',\n",
              " 'everything',\n",
              " 'yours',\n",
              " 'yourself',\n",
              " 'anyway',\n",
              " 'our',\n",
              " 'whereafter',\n",
              " 'everywhere',\n",
              " 'never',\n",
              " 'three',\n",
              " 'used',\n",
              " 'behind',\n",
              " 'through',\n",
              " 'him',\n",
              " 'why',\n",
              " 'each',\n",
              " 'herein',\n",
              " 'those',\n",
              " 'this',\n",
              " '’ll',\n",
              " 'could',\n",
              " 'move',\n",
              " \"n't\",\n",
              " 'the',\n",
              " 'from',\n",
              " 'is',\n",
              " 'just',\n",
              " 'around',\n",
              " 'none',\n",
              " 'less',\n",
              " 'yourselves',\n",
              " 'regarding',\n",
              " 'that',\n",
              " 'he',\n",
              " 'unless',\n",
              " 'themselves',\n",
              " 'being',\n",
              " \"'ve\",\n",
              " '‘d',\n",
              " 'much',\n",
              " 'i',\n",
              " 'wherever',\n",
              " 'below',\n",
              " 'top',\n",
              " 'and',\n",
              " 'due',\n",
              " 'onto',\n",
              " 'side',\n",
              " \"'ll\",\n",
              " 'us',\n",
              " 'somehow',\n",
              " 'then',\n",
              " 'every',\n",
              " 'sometimes',\n",
              " 'across',\n",
              " 'eight',\n",
              " 'nothing',\n",
              " 'do',\n",
              " 'beyond',\n",
              " 'well',\n",
              " 'empty',\n",
              " 'his',\n",
              " 'again',\n",
              " 'until',\n",
              " '‘s',\n",
              " 'on',\n",
              " 'about',\n",
              " 'at',\n",
              " 'own',\n",
              " 'hereupon',\n",
              " 'they',\n",
              " 'thence',\n",
              " 'above',\n",
              " 'full',\n",
              " 'what',\n",
              " '‘re',\n",
              " 'someone',\n",
              " 'cannot',\n",
              " 'ours',\n",
              " 'anyhow',\n",
              " 'along',\n",
              " 'anything',\n",
              " 'before',\n",
              " 'itself',\n",
              " 'fifty',\n",
              " 'by',\n",
              " 'last',\n",
              " 'ten',\n",
              " 'serious',\n",
              " 'became',\n",
              " 'must',\n",
              " 'call',\n",
              " 'to',\n",
              " \"'d\",\n",
              " 'who',\n",
              " 'down',\n",
              " 'too',\n",
              " 'more',\n",
              " 'go',\n",
              " 'something',\n",
              " 'or',\n",
              " 'if',\n",
              " 'whoever',\n",
              " 'these',\n",
              " 'next',\n",
              " 'even',\n",
              " 'against',\n",
              " 'where',\n",
              " 'many',\n",
              " 'other',\n",
              " 'become',\n",
              " 'show',\n",
              " 'make',\n",
              " 'hereby',\n",
              " 'say',\n",
              " 'fifteen',\n",
              " 'alone',\n",
              " 'several',\n",
              " 'whatever',\n",
              " 'few',\n",
              " 'whither',\n",
              " 'hence',\n",
              " 'except',\n",
              " 'keep',\n",
              " 'without',\n",
              " 'per',\n",
              " 'various',\n",
              " 'neither',\n",
              " 'during',\n",
              " 'once',\n",
              " '’m',\n",
              " 'latterly',\n",
              " 'others',\n",
              " 'upon',\n",
              " 'mine',\n",
              " 'does',\n",
              " 'one',\n",
              " 'himself',\n",
              " 'hereafter',\n",
              " 'will',\n",
              " 'whenever',\n",
              " 'out',\n",
              " 'sixty',\n",
              " 'otherwise',\n",
              " '‘m',\n",
              " 'often',\n",
              " 'enough',\n",
              " 'third',\n",
              " 'whose',\n",
              " 'but',\n",
              " 'anyone',\n",
              " '’s',\n",
              " 'forty',\n",
              " 'up',\n",
              " 'least',\n",
              " 'myself',\n",
              " '’re',\n",
              " 'beside',\n",
              " 'ourselves',\n",
              " 'still',\n",
              " 'both',\n",
              " 'your',\n",
              " 'off',\n",
              " 'also',\n",
              " 'please',\n",
              " 'am',\n",
              " 'thereby',\n",
              " 'whom',\n",
              " 'get',\n",
              " 'now',\n",
              " 'its',\n",
              " 'towards']"
            ]
          },
          "metadata": {},
          "execution_count": 234
        }
      ]
    },
    {
      "cell_type": "code",
      "source": [
        "X = df['Review'] \n",
        "ylabels = df['Label'] \n",
        "\n",
        "\n",
        "X_train, X_test, y_train, y_test = train_test_split(X, ylabels, test_size=0.2,random_state = 0)"
      ],
      "metadata": {
        "id": "iULxvpA_5uka"
      },
      "execution_count": 235,
      "outputs": []
    },
    {
      "cell_type": "code",
      "source": [
        "# transformer using spaCy\n",
        "class predictors(TransformerMixin):\n",
        "    def transform(self, X, **transform_params):\n",
        "        \n",
        "        return [clean_text(text) for text in X]\n",
        "\n",
        "    def fit(self, X, y=None, **fit_params):\n",
        "        return self\n",
        "\n",
        "    def get_params(self, deep=True):\n",
        "        return {}\n",
        "\n",
        "nltk.download('stopwords')\n",
        "stopwords=nltk.corpus.stopwords.words('english')\n",
        "def clean_text(text):\n",
        "    edited_text=re.sub('\\W',\" \",text) \n",
        "    edited_text=re.sub(\"  \",\" \",edited_text)\n",
        "    edited_text=edited_text.split(\" \")\n",
        "    edited_text=\" \".join([char for char in edited_text if char!= \"\"])\n",
        "    edited_text=edited_text.lower()\n",
        "    edited_text=re.sub('\\d+',\"\",edited_text)\n",
        "    edited_text=re.split('\\W+',edited_text)\n",
        "    edited_text=\" \".join([word for word in edited_text if word not in stopwords])\n",
        "    return edited_text"
      ],
      "metadata": {
        "colab": {
          "base_uri": "https://localhost:8080/"
        },
        "id": "wzeJWWCN56BS",
        "outputId": "0b2fb57f-d537-46a3-c2ff-f343cceeace8"
      },
      "execution_count": 236,
      "outputs": [
        {
          "output_type": "stream",
          "name": "stderr",
          "text": [
            "[nltk_data] Downloading package stopwords to /root/nltk_data...\n",
            "[nltk_data]   Package stopwords is already up-to-date!\n"
          ]
        }
      ]
    },
    {
      "cell_type": "code",
      "source": [
        "pat = r'[\\d.,]+|[A-Z][.A-Z]+\\b\\.*|\\w+|\\S'\n",
        "tokenizer = RegexpTokenizer(pat)\n",
        "bow_v = TfidfVectorizer(lowercase=True,stop_words='english',ngram_range = (1,1),tokenizer = tokenizer.tokenize)\n",
        "classifier = LinearSVC()"
      ],
      "metadata": {
        "id": "bemcYhJ76BMt"
      },
      "execution_count": 238,
      "outputs": []
    },
    {
      "cell_type": "code",
      "source": [
        "p = Pipeline([(\"cleaner\", predictors()),('vectorizer', bow_v),('classifier', classifier)])\n",
        "p.fit(X_train,y_train)"
      ],
      "metadata": {
        "colab": {
          "base_uri": "https://localhost:8080/"
        },
        "id": "yPHy33YW6igi",
        "outputId": "c5e16340-3f92-4a6d-f4eb-6b7f744fab10"
      },
      "execution_count": 239,
      "outputs": [
        {
          "output_type": "execute_result",
          "data": {
            "text/plain": [
              "Pipeline(steps=[('cleaner', <__main__.predictors object at 0x7fd6e85de4d0>),\n",
              "                ('vectorizer',\n",
              "                 TfidfVectorizer(stop_words='english',\n",
              "                                 tokenizer=<bound method RegexpTokenizer.tokenize of RegexpTokenizer(pattern='[\\\\d.,]+|[A-Z][.A-Z]+\\\\b\\\\.*|\\\\w+|\\\\S', gaps=False, discard_empty=True, flags=<RegexFlag.UNICODE|DOTALL|MULTILINE: 56>)>)),\n",
              "                ('classifier', LinearSVC())])"
            ]
          },
          "metadata": {},
          "execution_count": 239
        }
      ]
    },
    {
      "cell_type": "code",
      "source": [
        "predictions = p.predict(X_test)\n",
        "predictions"
      ],
      "metadata": {
        "colab": {
          "base_uri": "https://localhost:8080/"
        },
        "id": "ltMTpVJq6jB1",
        "outputId": "cd962696-2460-422a-f294-02db27977265"
      },
      "execution_count": 240,
      "outputs": [
        {
          "output_type": "execute_result",
          "data": {
            "text/plain": [
              "array([0, 0, 1, 0, 1, 0, 1, 1, 1, 0, 0, 0, 1, 1, 0, 0, 0, 0, 1, 1, 1, 0,\n",
              "       0, 0, 1, 1, 1, 0, 0, 1, 1, 1, 1, 1, 1, 0, 1, 1, 0, 0, 1, 1, 1, 0,\n",
              "       1, 0, 0, 1, 1, 1, 0, 1, 0, 1, 1, 1, 1, 0, 0, 0, 0, 0, 0, 0, 1, 1,\n",
              "       1, 0, 0, 1, 0, 0, 1, 1, 1, 1, 1, 0, 0, 1, 0, 0, 1, 1, 1, 1, 0, 0,\n",
              "       0, 1, 0, 1, 1, 0, 0, 0, 0, 0, 1, 1, 1, 1, 1, 1, 1, 1, 1, 0, 0, 1,\n",
              "       1, 1, 1, 1, 1, 1, 0, 0, 0, 1, 0, 0, 0, 0, 1, 0, 1, 0, 1, 0, 1, 1,\n",
              "       1, 0, 1, 0, 1, 1, 1, 0, 1, 1, 0, 0, 0, 0, 1, 0, 1, 0, 1, 1, 1, 1,\n",
              "       0, 1, 0, 0, 0, 1, 0, 0, 1, 0, 1, 0, 1, 1, 1, 0, 1, 0, 1, 0, 1, 1,\n",
              "       0, 0, 1, 1, 1, 1, 0, 1, 0, 1, 1, 1, 1, 1, 1, 1, 1, 0, 0, 0, 0, 1,\n",
              "       1, 0, 0, 1, 0, 0, 1, 1, 1, 0, 0, 1, 1, 0, 0, 0, 1, 0, 1, 0, 1, 1,\n",
              "       1, 1, 0, 0, 1, 1, 1, 0, 0, 0, 0, 1, 1, 1, 1, 1, 1, 0, 1, 0, 1, 1,\n",
              "       0, 0, 1, 1, 1, 1, 0, 0, 1, 0, 1, 0, 1, 0, 0, 0, 1, 0, 1, 0, 0, 1,\n",
              "       1, 1, 1, 0, 0, 1, 1, 1, 0, 0, 0, 1, 1, 0, 0, 1, 0, 0, 1, 1, 1, 0,\n",
              "       1, 1, 1, 1, 0, 0, 1, 1, 1, 1, 0, 0, 1, 1, 0, 1, 1, 0, 0, 0, 1, 0,\n",
              "       1, 0, 1, 1, 1, 1, 1, 1, 1, 0, 1, 0, 1, 0, 0, 1, 1, 1, 1, 1, 1, 0,\n",
              "       1, 1, 1, 0, 1, 0, 1, 0, 1, 0, 1, 0, 1, 1, 0, 1, 1, 0, 1, 0, 0, 1,\n",
              "       0, 0, 1, 0, 1, 1, 0, 0, 1, 1, 0, 1, 0, 0, 0, 1, 0, 0, 1, 0, 1, 1,\n",
              "       0, 0, 0, 0, 1, 0, 1, 1, 0, 0, 1, 1, 1, 1, 0, 0, 1, 0, 1, 1, 1, 1,\n",
              "       0, 1, 1, 1, 0, 0, 0, 0, 1, 1, 0, 1, 0, 0, 0, 0, 0, 0, 0, 0, 1, 1,\n",
              "       0, 1, 1, 1, 0, 1, 0, 0, 0, 0, 0, 0, 1, 0, 1, 1, 0, 1, 0, 0, 1, 0,\n",
              "       0, 1, 0, 0, 1, 1, 1, 0, 0, 1, 1, 0, 0, 1, 0, 1, 0, 0, 0, 0, 1, 0,\n",
              "       0, 0, 0, 0, 1, 0, 1, 0, 0, 1, 1, 1, 0, 1, 0, 0, 1, 1, 0, 1, 1, 0,\n",
              "       1, 0, 0, 1, 0, 0, 0, 1, 0, 0, 0, 0, 0, 0, 1, 0, 0, 1, 0, 1, 1, 1,\n",
              "       0, 1, 0, 0, 1, 1, 0, 1, 1, 1, 0, 0, 0, 1, 1, 1, 1, 1, 0, 0, 0, 0,\n",
              "       0, 0, 1, 1, 0, 0, 1, 1, 0, 0, 0, 0, 0, 0, 1, 0, 0, 1, 1, 0, 1])"
            ]
          },
          "metadata": {},
          "execution_count": 240
        }
      ]
    },
    {
      "cell_type": "code",
      "source": [
        "accuracy_score=accuracy_score(y_test,predictions)\n",
        "accuracy_score"
      ],
      "metadata": {
        "colab": {
          "base_uri": "https://localhost:8080/"
        },
        "id": "lbc2UN8b7kSs",
        "outputId": "c3ab1c12-c413-4c06-8b73-a79fd67447d1"
      },
      "execution_count": 241,
      "outputs": [
        {
          "output_type": "execute_result",
          "data": {
            "text/plain": [
              "0.7923497267759563"
            ]
          },
          "metadata": {},
          "execution_count": 241
        }
      ]
    }
  ]
}