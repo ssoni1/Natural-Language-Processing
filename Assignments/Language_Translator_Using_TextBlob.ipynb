{
  "nbformat": 4,
  "nbformat_minor": 0,
  "metadata": {
    "colab": {
      "provenance": [],
      "collapsed_sections": []
    },
    "kernelspec": {
      "name": "python3",
      "display_name": "Python 3"
    },
    "language_info": {
      "name": "python"
    },
    "gpuClass": "standard"
  },
  "cells": [
    {
      "cell_type": "markdown",
      "source": [
        "<h1><b>Data 602: Homework 1</b></h1>"
      ],
      "metadata": {
        "id": "U65hl8pUjWKl"
      }
    },
    {
      "cell_type": "markdown",
      "source": [
        "<b>1. Which of the following is not an application of NLP? </b><br>\n",
        "a. Image Labelling"
      ],
      "metadata": {
        "id": "dSDF1E_t9iBM"
      }
    },
    {
      "cell_type": "markdown",
      "source": [
        "<b>2. Which of the following is not an NLP task? </b><br>\n",
        "d. Image Segmentation <br>"
      ],
      "metadata": {
        "id": "xg9RK2twjjFM"
      }
    },
    {
      "cell_type": "markdown",
      "source": [
        "<b>3. Which of the following is not a disadvantage of rule-based approaches for NLP? </b><br>\n",
        "d. None of the above"
      ],
      "metadata": {
        "id": "eRVWNmPD-a5K"
      }
    },
    {
      "cell_type": "markdown",
      "source": [
        "<b>4. What are the two major types of NLP approaches?</b><br>\n",
        "Rule based approaches and Machine Learning "
      ],
      "metadata": {
        "id": "eCYqZqwt-0dv"
      }
    },
    {
      "cell_type": "markdown",
      "source": [
        "<b>5. Use TextBlob to translate a sentence in English into French, Mandarin, and\n",
        "Hindi?</b><br>"
      ],
      "metadata": {
        "id": "7vQJ0X36AXGv"
      }
    },
    {
      "cell_type": "code",
      "source": [
        "import pandas as pd"
      ],
      "metadata": {
        "id": "CfHYGVvTj9TI"
      },
      "execution_count": null,
      "outputs": []
    },
    {
      "cell_type": "code",
      "source": [
        "from textblob import TextBlob\n",
        "text = \"Who knew translation could be fun\"\n",
        "blob_obj = TextBlob(text)\n",
        "print(blob_obj.translate(from_lang='en',to='fr'))\n",
        "print(blob_obj.translate(from_lang='en',to='zh-CN'))\n",
        "print(blob_obj.translate(from_lang='en',to='hi'))"
      ],
      "metadata": {
        "colab": {
          "base_uri": "https://localhost:8080/"
        },
        "outputId": "62ba89aa-0bd6-4db5-f979-caacf15e52d2",
        "id": "CxPKbWAHuaBW"
      },
      "execution_count": null,
      "outputs": [
        {
          "output_type": "stream",
          "name": "stdout",
          "text": [
            "Qui savait que la traduction pourrait être amusante\n",
            "谁知道翻译可能很有趣\n",
            "कौन जानता था कि अनुवाद मजेदार हो सकता है\n"
          ]
        }
      ]
    }
  ]
}