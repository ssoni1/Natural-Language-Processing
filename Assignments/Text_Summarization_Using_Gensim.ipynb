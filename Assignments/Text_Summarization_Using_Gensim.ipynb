{
  "nbformat": 4,
  "nbformat_minor": 0,
  "metadata": {
    "colab": {
      "provenance": [],
      "collapsed_sections": []
    },
    "kernelspec": {
      "name": "python3",
      "display_name": "Python 3"
    },
    "language_info": {
      "name": "python"
    }
  },
  "cells": [
    {
      "cell_type": "markdown",
      "source": [
        "## NLP HOMEWORK 6\n",
        "### Submitted By- Srashti Soni\n",
        "### Text Summarization\n",
        "#### Exercise 1: Text Generation"
      ],
      "metadata": {
        "id": "R8ZdGzhJ4qwh"
      }
    },
    {
      "cell_type": "code",
      "execution_count": 9,
      "metadata": {
        "id": "k_qvMBwRrDUK"
      },
      "outputs": [],
      "source": [
        "!pip install markovify --quiet"
      ]
    },
    {
      "cell_type": "code",
      "source": [
        "import pandas as pd\n",
        "import numpy as np\n",
        "import markovify\n",
        "from gensim.summarization import keywords\n",
        "import requests\n",
        "from gensim.summarization import mz_keywords\n",
        "from gensim.models.wrappers import LdaMallet\n",
        "import gensim\n",
        "from sklearn.feature_extraction.text import TfidfVectorizer\n",
        "from sklearn.decomposition import NMF"
      ],
      "metadata": {
        "id": "tiEvFUDD5CpQ"
      },
      "execution_count": 25,
      "outputs": []
    },
    {
      "cell_type": "code",
      "source": [
        "# Load the file ‘abcnews-date-text.csc’ as ‘inp’\n",
        "# Look at the three top rows\n",
        "data = pd.read_csv(\"/content/abcnews-date-text.csv\", sep = ',')\n",
        "data.head(3)"
      ],
      "metadata": {
        "colab": {
          "base_uri": "https://localhost:8080/",
          "height": 143
        },
        "id": "szZhIWDj6h8B",
        "outputId": "96333d0a-55ba-46c1-a5c7-08b4f49f3ee7"
      },
      "execution_count": 11,
      "outputs": [
        {
          "output_type": "execute_result",
          "data": {
            "text/plain": [
              "   publish_date                                      headline_text\n",
              "0      20030219  aba decides against community broadcasting lic...\n",
              "1      20030219     act fire witnesses must be aware of defamation\n",
              "2      20030219     a g calls for infrastructure protection summit"
            ],
            "text/html": [
              "\n",
              "  <div id=\"df-68fc65d6-14c1-4bc5-8c15-b19d276f5bd5\">\n",
              "    <div class=\"colab-df-container\">\n",
              "      <div>\n",
              "<style scoped>\n",
              "    .dataframe tbody tr th:only-of-type {\n",
              "        vertical-align: middle;\n",
              "    }\n",
              "\n",
              "    .dataframe tbody tr th {\n",
              "        vertical-align: top;\n",
              "    }\n",
              "\n",
              "    .dataframe thead th {\n",
              "        text-align: right;\n",
              "    }\n",
              "</style>\n",
              "<table border=\"1\" class=\"dataframe\">\n",
              "  <thead>\n",
              "    <tr style=\"text-align: right;\">\n",
              "      <th></th>\n",
              "      <th>publish_date</th>\n",
              "      <th>headline_text</th>\n",
              "    </tr>\n",
              "  </thead>\n",
              "  <tbody>\n",
              "    <tr>\n",
              "      <th>0</th>\n",
              "      <td>20030219</td>\n",
              "      <td>aba decides against community broadcasting lic...</td>\n",
              "    </tr>\n",
              "    <tr>\n",
              "      <th>1</th>\n",
              "      <td>20030219</td>\n",
              "      <td>act fire witnesses must be aware of defamation</td>\n",
              "    </tr>\n",
              "    <tr>\n",
              "      <th>2</th>\n",
              "      <td>20030219</td>\n",
              "      <td>a g calls for infrastructure protection summit</td>\n",
              "    </tr>\n",
              "  </tbody>\n",
              "</table>\n",
              "</div>\n",
              "      <button class=\"colab-df-convert\" onclick=\"convertToInteractive('df-68fc65d6-14c1-4bc5-8c15-b19d276f5bd5')\"\n",
              "              title=\"Convert this dataframe to an interactive table.\"\n",
              "              style=\"display:none;\">\n",
              "        \n",
              "  <svg xmlns=\"http://www.w3.org/2000/svg\" height=\"24px\"viewBox=\"0 0 24 24\"\n",
              "       width=\"24px\">\n",
              "    <path d=\"M0 0h24v24H0V0z\" fill=\"none\"/>\n",
              "    <path d=\"M18.56 5.44l.94 2.06.94-2.06 2.06-.94-2.06-.94-.94-2.06-.94 2.06-2.06.94zm-11 1L8.5 8.5l.94-2.06 2.06-.94-2.06-.94L8.5 2.5l-.94 2.06-2.06.94zm10 10l.94 2.06.94-2.06 2.06-.94-2.06-.94-.94-2.06-.94 2.06-2.06.94z\"/><path d=\"M17.41 7.96l-1.37-1.37c-.4-.4-.92-.59-1.43-.59-.52 0-1.04.2-1.43.59L10.3 9.45l-7.72 7.72c-.78.78-.78 2.05 0 2.83L4 21.41c.39.39.9.59 1.41.59.51 0 1.02-.2 1.41-.59l7.78-7.78 2.81-2.81c.8-.78.8-2.07 0-2.86zM5.41 20L4 18.59l7.72-7.72 1.47 1.35L5.41 20z\"/>\n",
              "  </svg>\n",
              "      </button>\n",
              "      \n",
              "  <style>\n",
              "    .colab-df-container {\n",
              "      display:flex;\n",
              "      flex-wrap:wrap;\n",
              "      gap: 12px;\n",
              "    }\n",
              "\n",
              "    .colab-df-convert {\n",
              "      background-color: #E8F0FE;\n",
              "      border: none;\n",
              "      border-radius: 50%;\n",
              "      cursor: pointer;\n",
              "      display: none;\n",
              "      fill: #1967D2;\n",
              "      height: 32px;\n",
              "      padding: 0 0 0 0;\n",
              "      width: 32px;\n",
              "    }\n",
              "\n",
              "    .colab-df-convert:hover {\n",
              "      background-color: #E2EBFA;\n",
              "      box-shadow: 0px 1px 2px rgba(60, 64, 67, 0.3), 0px 1px 3px 1px rgba(60, 64, 67, 0.15);\n",
              "      fill: #174EA6;\n",
              "    }\n",
              "\n",
              "    [theme=dark] .colab-df-convert {\n",
              "      background-color: #3B4455;\n",
              "      fill: #D2E3FC;\n",
              "    }\n",
              "\n",
              "    [theme=dark] .colab-df-convert:hover {\n",
              "      background-color: #434B5C;\n",
              "      box-shadow: 0px 1px 3px 1px rgba(0, 0, 0, 0.15);\n",
              "      filter: drop-shadow(0px 1px 2px rgba(0, 0, 0, 0.3));\n",
              "      fill: #FFFFFF;\n",
              "    }\n",
              "  </style>\n",
              "\n",
              "      <script>\n",
              "        const buttonEl =\n",
              "          document.querySelector('#df-68fc65d6-14c1-4bc5-8c15-b19d276f5bd5 button.colab-df-convert');\n",
              "        buttonEl.style.display =\n",
              "          google.colab.kernel.accessAllowed ? 'block' : 'none';\n",
              "\n",
              "        async function convertToInteractive(key) {\n",
              "          const element = document.querySelector('#df-68fc65d6-14c1-4bc5-8c15-b19d276f5bd5');\n",
              "          const dataTable =\n",
              "            await google.colab.kernel.invokeFunction('convertToInteractive',\n",
              "                                                     [key], {});\n",
              "          if (!dataTable) return;\n",
              "\n",
              "          const docLinkHtml = 'Like what you see? Visit the ' +\n",
              "            '<a target=\"_blank\" href=https://colab.research.google.com/notebooks/data_table.ipynb>data table notebook</a>'\n",
              "            + ' to learn more about interactive tables.';\n",
              "          element.innerHTML = '';\n",
              "          dataTable['output_type'] = 'display_data';\n",
              "          await google.colab.output.renderOutput(dataTable, element);\n",
              "          const docLink = document.createElement('div');\n",
              "          docLink.innerHTML = docLinkHtml;\n",
              "          element.appendChild(docLink);\n",
              "        }\n",
              "      </script>\n",
              "    </div>\n",
              "  </div>\n",
              "  "
            ]
          },
          "metadata": {},
          "execution_count": 11
        }
      ]
    },
    {
      "cell_type": "code",
      "source": [
        "# Create a model with markovify as ‘text_model’ to generate text\n",
        "text_model = markovify.NewlineText(data.headline_text, state_size = 2)"
      ],
      "metadata": {
        "id": "TZ6mSpQO62Hb"
      },
      "execution_count": 14,
      "outputs": []
    },
    {
      "cell_type": "code",
      "source": [
        "# Print ten randomly generated sentences using the built model.\n",
        "for i in range(10):\n",
        "    print(i+1,'.', text_model.make_sentence())"
      ],
      "metadata": {
        "colab": {
          "base_uri": "https://localhost:8080/"
        },
        "id": "FZgLkGS08gh2",
        "outputId": "f5019635-8e84-4c33-8a71-ea6542e7c78c"
      },
      "execution_count": 15,
      "outputs": [
        {
          "output_type": "stream",
          "name": "stdout",
          "text": [
            "1 . bears coach happy with migrant plan\n",
            "2 . nsw search for missing backpacker\n",
            "3 . abbott not playing favourites with soccer cup bid\n",
            "4 . murray river towns unfazed by aker criticism\n",
            "5 . manlys burns facing one match ban\n",
            "6 . malaysias fake news reporting code aims to tackle climate change wheres the action on workplace injuries\n",
            "7 . axl rose makes debut at mcg\n",
            "8 . clarke admits he lied to about a\n",
            "9 . adelaide city council forecasts budget belt tightening\n",
            "10 . michaelia cash faces grilling over allco collapse\n"
          ]
        }
      ]
    },
    {
      "cell_type": "markdown",
      "source": [
        "####Exercise 2: Text Summarization"
      ],
      "metadata": {
        "id": "YL3qBDLp9LXc"
      }
    },
    {
      "cell_type": "code",
      "source": [
        "# Use gensim.summarization to summarize the ‘jumper.txt’ file\n",
        "text_data = open('/content/jumper.txt').read()\n",
        "text_data"
      ],
      "metadata": {
        "colab": {
          "base_uri": "https://localhost:8080/",
          "height": 178
        },
        "id": "0-a1FS4S9HEb",
        "outputId": "c9b6a955-d58e-4fb6-d05f-8a9b1a2af3ab"
      },
      "execution_count": 16,
      "outputs": [
        {
          "output_type": "execute_result",
          "data": {
            "text/plain": [
              "\"Jumping off a platform the height of a three-story building is how Olympian Laura Wilkinson broke her fear.\\n\\nStaring at an intimidating 33-foot drop, adrenaline pumping, Wilkinson flipped gracefully into the water below. The challenges she has overcome throughout her diving career have made her strong -- strong enough to dominate the sport for a decade.\\nShe is the first woman to win diving's three major world titles, including a gold medal at her first Olympic Games in 2000. Wilkinson told CNN she is hungry for more. After nine years in retirement, and recovery from a dangerous injury, the now 42-year-old is attempting a comeback in the face of a worldwide pandemic.\\nWhen Wilkinson resumed training to compete at the Games in Tokyo, which were originally scheduled for July 2020, she felt a nagging and unfamiliar weakness in one of her arms.\\nAn MRI revealed major damage to the discs in her neck, caused in large part by a career of repeatedly hitting the water at high speeds. Her doctor warned that a car accident or bad fall could leave her a quadriplegic.\\nNow married with four children, Wilkinson was told she would need spinal surgery not just to dive, but to safely do everyday activities with her children. Wilkinson had the surgery and rushed to get back into the water ahead of the 2020 Olympic trials.\""
            ],
            "application/vnd.google.colaboratory.intrinsic+json": {
              "type": "string"
            }
          },
          "metadata": {},
          "execution_count": 16
        }
      ]
    },
    {
      "cell_type": "code",
      "source": [
        "keywords(text_data).split('\\n')"
      ],
      "metadata": {
        "colab": {
          "base_uri": "https://localhost:8080/"
        },
        "id": "pKm8dkQG91zX",
        "outputId": "e3996366-9fde-4ccd-8cf3-a85c01df711d"
      },
      "execution_count": 19,
      "outputs": [
        {
          "output_type": "execute_result",
          "data": {
            "text/plain": [
              "['wilkinson',\n",
              " 'diving',\n",
              " 'dive',\n",
              " 'spinal',\n",
              " 'olympic',\n",
              " 'major world',\n",
              " 'titles',\n",
              " 'revealed',\n",
              " 'foot',\n",
              " 'drop',\n",
              " 'resumed',\n",
              " 'told',\n",
              " 'flipped']"
            ]
          },
          "metadata": {},
          "execution_count": 19
        }
      ]
    },
    {
      "cell_type": "code",
      "source": [
        "# What are the weighted keywords using the Montemurro and Zanette's entropy-based keyword extraction algorithm?\n",
        "gensim.summarization.mz_entropy.mz_keywords(text_data, split=True, weighted=True,blocksize=64)"
      ],
      "metadata": {
        "colab": {
          "base_uri": "https://localhost:8080/"
        },
        "id": "cBQnk_1M98J4",
        "outputId": "524c0881-93f2-486c-c912-76d4999f241b"
      },
      "execution_count": 22,
      "outputs": [
        {
          "output_type": "stream",
          "name": "stderr",
          "text": [
            "/usr/local/lib/python3.7/dist-packages/gensim/summarization/mz_entropy.py:70: RuntimeWarning: divide by zero encountered in log2\n",
            "  log_p = numpy.log2(p)\n",
            "/usr/local/lib/python3.7/dist-packages/gensim/summarization/mz_entropy.py:71: RuntimeWarning: invalid value encountered in multiply\n",
            "  h = numpy.nan_to_num(p * log_p).sum(axis=0)\n"
          ]
        },
        {
          "output_type": "execute_result",
          "data": {
            "text/plain": [
              "['in', 'a', 'is', 'diving', 'games', 'strong', 'surgery', 'her', 'she']"
            ]
          },
          "metadata": {},
          "execution_count": 22
        }
      ]
    },
    {
      "cell_type": "markdown",
      "source": [],
      "metadata": {
        "id": "KOppcrWb-k-G"
      }
    },
    {
      "cell_type": "markdown",
      "source": [
        "### # Is there a difference with the keywords in the second bullet point question?\n",
        " Yes, I found the difference between the normal keywords and the weighted keywords. However, the normal keywords seems to be more appropriate."
      ],
      "metadata": {
        "id": "5m6f-Yiz_Oj9"
      }
    },
    {
      "cell_type": "markdown",
      "source": [
        "#### Exercise 3: Topic Modeling"
      ],
      "metadata": {
        "id": "jREdVJe-_a1B"
      }
    },
    {
      "cell_type": "code",
      "source": [
        "# Determine the top 20 topics using the Non-Negative Matrix Factorization (NMF) using ‘from sklearn.decomposition import NMF’\n",
        "text_data = [text_data]"
      ],
      "metadata": {
        "id": "r99lyHEZ_Vja"
      },
      "execution_count": 23,
      "outputs": []
    },
    {
      "cell_type": "code",
      "source": [
        "text_data[:3]"
      ],
      "metadata": {
        "colab": {
          "base_uri": "https://localhost:8080/"
        },
        "id": "2Vt4O6h5AQAB",
        "outputId": "1de120f6-f47f-4900-dce1-a8829c8b6747"
      },
      "execution_count": 24,
      "outputs": [
        {
          "output_type": "execute_result",
          "data": {
            "text/plain": [
              "[\"Jumping off a platform the height of a three-story building is how Olympian Laura Wilkinson broke her fear.\\n\\nStaring at an intimidating 33-foot drop, adrenaline pumping, Wilkinson flipped gracefully into the water below. The challenges she has overcome throughout her diving career have made her strong -- strong enough to dominate the sport for a decade.\\nShe is the first woman to win diving's three major world titles, including a gold medal at her first Olympic Games in 2000. Wilkinson told CNN she is hungry for more. After nine years in retirement, and recovery from a dangerous injury, the now 42-year-old is attempting a comeback in the face of a worldwide pandemic.\\nWhen Wilkinson resumed training to compete at the Games in Tokyo, which were originally scheduled for July 2020, she felt a nagging and unfamiliar weakness in one of her arms.\\nAn MRI revealed major damage to the discs in her neck, caused in large part by a career of repeatedly hitting the water at high speeds. Her doctor warned that a car accident or bad fall could leave her a quadriplegic.\\nNow married with four children, Wilkinson was told she would need spinal surgery not just to dive, but to safely do everyday activities with her children. Wilkinson had the surgery and rushed to get back into the water ahead of the 2020 Olympic trials.\"]"
            ]
          },
          "metadata": {},
          "execution_count": 24
        }
      ]
    },
    {
      "cell_type": "code",
      "source": [
        "# Vectorize the words after cleaning up the text\n",
        "vectorizer = TfidfVectorizer(max_features=1500, min_df=1, stop_words='english')\n",
        "X = vectorizer.fit_transform(text_data)\n",
        "words = np.array(vectorizer.get_feature_names())\n",
        "\n",
        "print(X)\n",
        "print(\"X = \", words)"
      ],
      "metadata": {
        "colab": {
          "base_uri": "https://localhost:8080/"
        },
        "id": "ibse2wxcAWWQ",
        "outputId": "e9fa3f32-eb6d-43a2-e15c-6ecc2aa0f622"
      },
      "execution_count": 32,
      "outputs": [
        {
          "output_type": "stream",
          "name": "stdout",
          "text": [
            "  (0, 88)\t0.07602859212697055\n",
            "  (0, 7)\t0.07602859212697055\n",
            "  (0, 74)\t0.07602859212697055\n",
            "  (0, 5)\t0.07602859212697055\n",
            "  (0, 30)\t0.07602859212697055\n",
            "  (0, 75)\t0.07602859212697055\n",
            "  (0, 25)\t0.07602859212697055\n",
            "  (0, 49)\t0.07602859212697055\n",
            "  (0, 83)\t0.1520571842539411\n",
            "  (0, 78)\t0.07602859212697055\n",
            "  (0, 59)\t0.07602859212697055\n",
            "  (0, 17)\t0.1520571842539411\n",
            "  (0, 54)\t0.07602859212697055\n",
            "  (0, 68)\t0.07602859212697055\n",
            "  (0, 52)\t0.07602859212697055\n",
            "  (0, 32)\t0.07602859212697055\n",
            "  (0, 10)\t0.07602859212697055\n",
            "  (0, 4)\t0.07602859212697055\n",
            "  (0, 13)\t0.07602859212697055\n",
            "  (0, 90)\t0.07602859212697055\n",
            "  (0, 27)\t0.07602859212697055\n",
            "  (0, 77)\t0.07602859212697055\n",
            "  (0, 41)\t0.07602859212697055\n",
            "  (0, 42)\t0.07602859212697055\n",
            "  (0, 70)\t0.07602859212697055\n",
            "  :\t:\n",
            "  (0, 82)\t0.1520571842539411\n",
            "  (0, 14)\t0.1520571842539411\n",
            "  (0, 26)\t0.1520571842539411\n",
            "  (0, 64)\t0.07602859212697055\n",
            "  (0, 16)\t0.07602859212697055\n",
            "  (0, 91)\t0.22808577638091165\n",
            "  (0, 39)\t0.07602859212697055\n",
            "  (0, 35)\t0.07602859212697055\n",
            "  (0, 67)\t0.07602859212697055\n",
            "  (0, 6)\t0.07602859212697055\n",
            "  (0, 29)\t0.07602859212697055\n",
            "  (0, 36)\t0.07602859212697055\n",
            "  (0, 2)\t0.07602859212697055\n",
            "  (0, 46)\t0.07602859212697055\n",
            "  (0, 80)\t0.07602859212697055\n",
            "  (0, 33)\t0.07602859212697055\n",
            "  (0, 11)\t0.07602859212697055\n",
            "  (0, 93)\t0.4561715527618233\n",
            "  (0, 51)\t0.07602859212697055\n",
            "  (0, 61)\t0.07602859212697055\n",
            "  (0, 12)\t0.07602859212697055\n",
            "  (0, 81)\t0.07602859212697055\n",
            "  (0, 40)\t0.07602859212697055\n",
            "  (0, 66)\t0.07602859212697055\n",
            "  (0, 48)\t0.07602859212697055\n",
            "X =  ['2000' '2020' '33' '42' 'accident' 'activities' 'adrenaline' 'ahead'\n",
            " 'arms' 'attempting' 'bad' 'broke' 'building' 'car' 'career' 'caused'\n",
            " 'challenges' 'children' 'cnn' 'comeback' 'compete' 'damage' 'dangerous'\n",
            " 'decade' 'discs' 'dive' 'diving' 'doctor' 'dominate' 'drop' 'everyday'\n",
            " 'face' 'fall' 'fear' 'felt' 'flipped' 'foot' 'games' 'gold' 'gracefully'\n",
            " 'height' 'high' 'hitting' 'hungry' 'including' 'injury' 'intimidating'\n",
            " 'july' 'jumping' 'just' 'large' 'laura' 'leave' 'major' 'married' 'medal'\n",
            " 'mri' 'nagging' 'neck' 'need' 'old' 'olympian' 'olympic' 'originally'\n",
            " 'overcome' 'pandemic' 'platform' 'pumping' 'quadriplegic' 'recovery'\n",
            " 'repeatedly' 'resumed' 'retirement' 'revealed' 'rushed' 'safely'\n",
            " 'scheduled' 'speeds' 'spinal' 'sport' 'staring' 'story' 'strong'\n",
            " 'surgery' 'titles' 'tokyo' 'told' 'training' 'trials' 'unfamiliar'\n",
            " 'warned' 'water' 'weakness' 'wilkinson' 'win' 'woman' 'world' 'worldwide'\n",
            " 'year' 'years']\n"
          ]
        }
      ]
    },
    {
      "cell_type": "code",
      "source": [
        "# Use ‘print(\"Topic {}: {}\".format(i + 1, \",\".join([str(x) for x in idx_to_word [topic.argsort()[-10:]]]))) to list the topics\n",
        "nmf = NMF(n_components=10, solver=\"mu\")\n",
        "W = nmf.fit_transform(X)\n",
        "H = nmf.components_\n",
        "\n",
        "for i, topic in enumerate(H):\n",
        "     print(\"Topic {}: {}\".format(i + 1, \",\".join([str(x) for x in words[topic.argsort()[-10:]]])))"
      ],
      "metadata": {
        "colab": {
          "base_uri": "https://localhost:8080/"
        },
        "id": "-_yLn5Z0Aoo9",
        "outputId": "2b98d343-f240-4dbc-86c5-3903680409a7"
      },
      "execution_count": 33,
      "outputs": [
        {
          "output_type": "stream",
          "name": "stdout",
          "text": [
            "Topic 1: told,medal,scheduled,wilkinson,major,hitting,olympic,career,water,2020\n",
            "Topic 2: dominate,adrenaline,gold,recovery,decade,world,wilkinson,2000,2020,water\n",
            "Topic 3: woman,water,diving,2000,games,foot,doctor,quadriplegic,dominate,wilkinson\n",
            "Topic 4: just,ahead,training,sport,jumping,major,career,2020,surgery,wilkinson\n",
            "Topic 5: compete,water,need,neck,olympian,games,resumed,woman,repeatedly,wilkinson\n",
            "Topic 6: overcome,flipped,2020,story,damage,olympic,diving,told,children,water\n",
            "Topic 7: discs,including,large,olympic,worldwide,games,july,children,diving,wilkinson\n",
            "Topic 8: building,world,pandemic,dangerous,games,told,career,major,water,strong\n",
            "Topic 9: neck,spinal,training,surgery,games,career,compete,major,fall,wilkinson\n",
            "Topic 10: olympic,cnn,told,caused,2020,games,dive,water,surgery,wilkinson\n"
          ]
        },
        {
          "output_type": "stream",
          "name": "stderr",
          "text": [
            "/usr/local/lib/python3.7/dist-packages/sklearn/decomposition/_nmf.py:294: FutureWarning: The 'init' value, when 'init=None' and n_components is less than n_samples and n_features, will be changed from 'nndsvd' to 'nndsvda' in 1.1 (renaming of 0.26).\n",
            "  FutureWarning,\n"
          ]
        }
      ]
    },
    {
      "cell_type": "markdown",
      "source": [
        "#####Reference: https://datascienceplus.com/natural-language-generation-with-markovify-in-python/"
      ],
      "metadata": {
        "id": "ChVDNIyTBmtQ"
      }
    }
  ]
}